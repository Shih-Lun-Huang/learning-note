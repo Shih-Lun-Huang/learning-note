{
 "cells": [
  {
   "cell_type": "code",
   "execution_count": 1,
   "metadata": {},
   "outputs": [],
   "source": [
    "from sklearn.ensemble import RandomForestClassifier\n",
    "import xgboost as xgb\n",
    "import numpy as np\n",
    "import pandas as pd\n",
    "import seaborn as sns\n",
    "import matplotlib.pyplot as plt\n",
    "import matplotlib as mpl\n",
    "import warnings\n",
    "from sklearn.model_selection import cross_val_score\n",
    "from sklearn.metrics import classification_report"
   ]
  },
  {
   "cell_type": "code",
   "execution_count": 2,
   "metadata": {},
   "outputs": [],
   "source": [
    "from sklearn.model_selection import train_test_split"
   ]
  },
  {
   "cell_type": "markdown",
   "metadata": {},
   "source": [
    "# 載入資料集"
   ]
  },
  {
   "cell_type": "code",
   "execution_count": 3,
   "metadata": {},
   "outputs": [],
   "source": [
    "train = pd.read_csv('./kkbox-music-recommendation-challenge/train.csv')\n",
    "train = train.sample(frac=0.5,random_state=1) #抽樣"
   ]
  },
  {
   "cell_type": "code",
   "execution_count": 4,
   "metadata": {},
   "outputs": [
    {
     "data": {
      "text/plain": [
       "Index(['msno', 'song_id', 'source_system_tab', 'source_screen_name',\n",
       "       'source_type', 'target'],\n",
       "      dtype='object')"
      ]
     },
     "execution_count": 4,
     "metadata": {},
     "output_type": "execute_result"
    }
   ],
   "source": [
    "train.columns"
   ]
  },
  {
   "cell_type": "code",
   "execution_count": 5,
   "metadata": {},
   "outputs": [
    {
     "data": {
      "text/html": [
       "<div>\n",
       "<style scoped>\n",
       "    .dataframe tbody tr th:only-of-type {\n",
       "        vertical-align: middle;\n",
       "    }\n",
       "\n",
       "    .dataframe tbody tr th {\n",
       "        vertical-align: top;\n",
       "    }\n",
       "\n",
       "    .dataframe thead th {\n",
       "        text-align: right;\n",
       "    }\n",
       "</style>\n",
       "<table border=\"1\" class=\"dataframe\">\n",
       "  <thead>\n",
       "    <tr style=\"text-align: right;\">\n",
       "      <th></th>\n",
       "      <th>song_id</th>\n",
       "      <th>song_length</th>\n",
       "      <th>genre_ids</th>\n",
       "      <th>artist_name</th>\n",
       "      <th>composer</th>\n",
       "      <th>lyricist</th>\n",
       "      <th>language</th>\n",
       "    </tr>\n",
       "  </thead>\n",
       "  <tbody>\n",
       "    <tr>\n",
       "      <td>0</td>\n",
       "      <td>CXoTN1eb7AI+DntdU1vbcwGRV4SCIDxZu+YD8JP8r4E=</td>\n",
       "      <td>247640</td>\n",
       "      <td>465</td>\n",
       "      <td>張信哲 (Jeff Chang)</td>\n",
       "      <td>董貞</td>\n",
       "      <td>何啟弘</td>\n",
       "      <td>3.0</td>\n",
       "    </tr>\n",
       "    <tr>\n",
       "      <td>1</td>\n",
       "      <td>o0kFgae9QtnYgRkVPqLJwa05zIhRlUjfF7O1tDw0ZDU=</td>\n",
       "      <td>197328</td>\n",
       "      <td>444</td>\n",
       "      <td>BLACKPINK</td>\n",
       "      <td>TEDDY|  FUTURE BOUNCE|  Bekuh BOOM</td>\n",
       "      <td>TEDDY</td>\n",
       "      <td>31.0</td>\n",
       "    </tr>\n",
       "    <tr>\n",
       "      <td>2</td>\n",
       "      <td>DwVvVurfpuz+XPuFvucclVQEyPqcpUkHR0ne1RQzPs0=</td>\n",
       "      <td>231781</td>\n",
       "      <td>465</td>\n",
       "      <td>SUPER JUNIOR</td>\n",
       "      <td>NaN</td>\n",
       "      <td>NaN</td>\n",
       "      <td>31.0</td>\n",
       "    </tr>\n",
       "    <tr>\n",
       "      <td>3</td>\n",
       "      <td>dKMBWoZyScdxSkihKG+Vf47nc18N9q4m58+b4e7dSSE=</td>\n",
       "      <td>273554</td>\n",
       "      <td>465</td>\n",
       "      <td>S.H.E</td>\n",
       "      <td>湯小康</td>\n",
       "      <td>徐世珍</td>\n",
       "      <td>3.0</td>\n",
       "    </tr>\n",
       "    <tr>\n",
       "      <td>4</td>\n",
       "      <td>W3bqWd3T+VeHFzHAUfARgW9AvVRaF4N5Yzm4Mr6Eo/o=</td>\n",
       "      <td>140329</td>\n",
       "      <td>726</td>\n",
       "      <td>貴族精選</td>\n",
       "      <td>Traditional</td>\n",
       "      <td>Traditional</td>\n",
       "      <td>52.0</td>\n",
       "    </tr>\n",
       "  </tbody>\n",
       "</table>\n",
       "</div>"
      ],
      "text/plain": [
       "                                        song_id  song_length genre_ids  \\\n",
       "0  CXoTN1eb7AI+DntdU1vbcwGRV4SCIDxZu+YD8JP8r4E=       247640       465   \n",
       "1  o0kFgae9QtnYgRkVPqLJwa05zIhRlUjfF7O1tDw0ZDU=       197328       444   \n",
       "2  DwVvVurfpuz+XPuFvucclVQEyPqcpUkHR0ne1RQzPs0=       231781       465   \n",
       "3  dKMBWoZyScdxSkihKG+Vf47nc18N9q4m58+b4e7dSSE=       273554       465   \n",
       "4  W3bqWd3T+VeHFzHAUfARgW9AvVRaF4N5Yzm4Mr6Eo/o=       140329       726   \n",
       "\n",
       "        artist_name                            composer     lyricist  language  \n",
       "0  張信哲 (Jeff Chang)                                  董貞          何啟弘       3.0  \n",
       "1         BLACKPINK  TEDDY|  FUTURE BOUNCE|  Bekuh BOOM        TEDDY      31.0  \n",
       "2      SUPER JUNIOR                                 NaN          NaN      31.0  \n",
       "3             S.H.E                                 湯小康          徐世珍       3.0  \n",
       "4              貴族精選                         Traditional  Traditional      52.0  "
      ]
     },
     "execution_count": 5,
     "metadata": {},
     "output_type": "execute_result"
    }
   ],
   "source": [
    "songs = pd.read_csv('./kkbox-music-recommendation-challenge/songs.csv')\n",
    "songs.head()"
   ]
  },
  {
   "cell_type": "code",
   "execution_count": 6,
   "metadata": {},
   "outputs": [
    {
     "data": {
      "text/plain": [
       "Index(['song_id', 'song_length', 'genre_ids', 'artist_name', 'composer',\n",
       "       'lyricist', 'language'],\n",
       "      dtype='object')"
      ]
     },
     "execution_count": 6,
     "metadata": {},
     "output_type": "execute_result"
    }
   ],
   "source": [
    "songs.columns"
   ]
  },
  {
   "cell_type": "code",
   "execution_count": 7,
   "metadata": {},
   "outputs": [
    {
     "data": {
      "text/html": [
       "<div>\n",
       "<style scoped>\n",
       "    .dataframe tbody tr th:only-of-type {\n",
       "        vertical-align: middle;\n",
       "    }\n",
       "\n",
       "    .dataframe tbody tr th {\n",
       "        vertical-align: top;\n",
       "    }\n",
       "\n",
       "    .dataframe thead th {\n",
       "        text-align: right;\n",
       "    }\n",
       "</style>\n",
       "<table border=\"1\" class=\"dataframe\">\n",
       "  <thead>\n",
       "    <tr style=\"text-align: right;\">\n",
       "      <th></th>\n",
       "      <th>msno</th>\n",
       "      <th>city</th>\n",
       "      <th>bd</th>\n",
       "      <th>gender</th>\n",
       "      <th>registered_via</th>\n",
       "      <th>registration_init_time</th>\n",
       "      <th>expiration_date</th>\n",
       "    </tr>\n",
       "  </thead>\n",
       "  <tbody>\n",
       "    <tr>\n",
       "      <td>0</td>\n",
       "      <td>XQxgAYj3klVKjR3oxPPXYYFp4soD4TuBghkhMTD4oTw=</td>\n",
       "      <td>1</td>\n",
       "      <td>0</td>\n",
       "      <td>NaN</td>\n",
       "      <td>7</td>\n",
       "      <td>20110820</td>\n",
       "      <td>20170920</td>\n",
       "    </tr>\n",
       "    <tr>\n",
       "      <td>1</td>\n",
       "      <td>UizsfmJb9mV54qE9hCYyU07Va97c0lCRLEQX3ae+ztM=</td>\n",
       "      <td>1</td>\n",
       "      <td>0</td>\n",
       "      <td>NaN</td>\n",
       "      <td>7</td>\n",
       "      <td>20150628</td>\n",
       "      <td>20170622</td>\n",
       "    </tr>\n",
       "    <tr>\n",
       "      <td>2</td>\n",
       "      <td>D8nEhsIOBSoE6VthTaqDX8U6lqjJ7dLdr72mOyLya2A=</td>\n",
       "      <td>1</td>\n",
       "      <td>0</td>\n",
       "      <td>NaN</td>\n",
       "      <td>4</td>\n",
       "      <td>20160411</td>\n",
       "      <td>20170712</td>\n",
       "    </tr>\n",
       "    <tr>\n",
       "      <td>3</td>\n",
       "      <td>mCuD+tZ1hERA/o5GPqk38e041J8ZsBaLcu7nGoIIvhI=</td>\n",
       "      <td>1</td>\n",
       "      <td>0</td>\n",
       "      <td>NaN</td>\n",
       "      <td>9</td>\n",
       "      <td>20150906</td>\n",
       "      <td>20150907</td>\n",
       "    </tr>\n",
       "    <tr>\n",
       "      <td>4</td>\n",
       "      <td>q4HRBfVSssAFS9iRfxWrohxuk9kCYMKjHOEagUMV6rQ=</td>\n",
       "      <td>1</td>\n",
       "      <td>0</td>\n",
       "      <td>NaN</td>\n",
       "      <td>4</td>\n",
       "      <td>20170126</td>\n",
       "      <td>20170613</td>\n",
       "    </tr>\n",
       "  </tbody>\n",
       "</table>\n",
       "</div>"
      ],
      "text/plain": [
       "                                           msno  city  bd gender  \\\n",
       "0  XQxgAYj3klVKjR3oxPPXYYFp4soD4TuBghkhMTD4oTw=     1   0    NaN   \n",
       "1  UizsfmJb9mV54qE9hCYyU07Va97c0lCRLEQX3ae+ztM=     1   0    NaN   \n",
       "2  D8nEhsIOBSoE6VthTaqDX8U6lqjJ7dLdr72mOyLya2A=     1   0    NaN   \n",
       "3  mCuD+tZ1hERA/o5GPqk38e041J8ZsBaLcu7nGoIIvhI=     1   0    NaN   \n",
       "4  q4HRBfVSssAFS9iRfxWrohxuk9kCYMKjHOEagUMV6rQ=     1   0    NaN   \n",
       "\n",
       "   registered_via  registration_init_time  expiration_date  \n",
       "0               7                20110820         20170920  \n",
       "1               7                20150628         20170622  \n",
       "2               4                20160411         20170712  \n",
       "3               9                20150906         20150907  \n",
       "4               4                20170126         20170613  "
      ]
     },
     "execution_count": 7,
     "metadata": {},
     "output_type": "execute_result"
    }
   ],
   "source": [
    "members = pd.read_csv('./kkbox-music-recommendation-challenge/members.csv')\n",
    "members.head()"
   ]
  },
  {
   "cell_type": "code",
   "execution_count": 8,
   "metadata": {},
   "outputs": [
    {
     "data": {
      "text/plain": [
       "Index(['msno', 'city', 'bd', 'gender', 'registered_via',\n",
       "       'registration_init_time', 'expiration_date'],\n",
       "      dtype='object')"
      ]
     },
     "execution_count": 8,
     "metadata": {},
     "output_type": "execute_result"
    }
   ],
   "source": [
    "members.columns"
   ]
  },
  {
   "cell_type": "markdown",
   "metadata": {},
   "source": [
    "# 資料合併，並刪除重複欄位"
   ]
  },
  {
   "cell_type": "code",
   "execution_count": 9,
   "metadata": {},
   "outputs": [],
   "source": [
    "train = pd.merge(train, songs, on='song_id', how='left') #mrege到train\n",
    "del songs\n",
    "train = pd.merge(train, members, on='msno', how='left')\n",
    "del members"
   ]
  },
  {
   "cell_type": "code",
   "execution_count": 10,
   "metadata": {},
   "outputs": [
    {
     "data": {
      "text/plain": [
       "Index(['msno', 'song_id', 'source_system_tab', 'source_screen_name',\n",
       "       'source_type', 'target', 'song_length', 'genre_ids', 'artist_name',\n",
       "       'composer', 'lyricist', 'language', 'city', 'bd', 'gender',\n",
       "       'registered_via', 'registration_init_time', 'expiration_date'],\n",
       "      dtype='object')"
      ]
     },
     "execution_count": 10,
     "metadata": {},
     "output_type": "execute_result"
    }
   ],
   "source": [
    "train.columns"
   ]
  },
  {
   "cell_type": "markdown",
   "metadata": {},
   "source": [
    "# 填補缺失值"
   ]
  },
  {
   "cell_type": "code",
   "execution_count": 11,
   "metadata": {},
   "outputs": [
    {
     "data": {
      "text/plain": [
       "msno                            0\n",
       "song_id                         0\n",
       "source_system_tab           12494\n",
       "source_screen_name         207821\n",
       "source_type                 10813\n",
       "target                          0\n",
       "song_length                    59\n",
       "genre_ids                   59023\n",
       "artist_name                    59\n",
       "composer                   837155\n",
       "lyricist                  1588429\n",
       "language                       78\n",
       "city                            0\n",
       "bd                              0\n",
       "gender                    1482102\n",
       "registered_via                  0\n",
       "registration_init_time          0\n",
       "expiration_date                 0\n",
       "dtype: int64"
      ]
     },
     "execution_count": 11,
     "metadata": {},
     "output_type": "execute_result"
    }
   ],
   "source": [
    "train.isnull().sum()"
   ]
  },
  {
   "cell_type": "markdown",
   "metadata": {},
   "source": [
    "在這個資料集中所有缺失值(nan)填入'unknown'，剩下的都是數值行欄位包括：song_length 和 language ，這裡將其空值補 0"
   ]
  },
  {
   "cell_type": "code",
   "execution_count": 12,
   "metadata": {},
   "outputs": [
    {
     "name": "stderr",
     "output_type": "stream",
     "text": [
      "/Users/huangshilun/opt/anaconda3/lib/python3.7/site-packages/ipykernel_launcher.py:2: SettingWithCopyWarning: \n",
      "A value is trying to be set on a copy of a slice from a DataFrame\n",
      "\n",
      "See the caveats in the documentation: http://pandas.pydata.org/pandas-docs/stable/user_guide/indexing.html#returning-a-view-versus-a-copy\n",
      "  \n"
     ]
    }
   ],
   "source": [
    "for i in train.select_dtypes(include=['object']).columns:\n",
    "    train[i][train[i].isnull()] = 'unknown'"
   ]
  },
  {
   "cell_type": "code",
   "execution_count": 13,
   "metadata": {},
   "outputs": [
    {
     "data": {
      "text/plain": [
       "msno                       0\n",
       "song_id                    0\n",
       "source_system_tab          0\n",
       "source_screen_name         0\n",
       "source_type                0\n",
       "target                     0\n",
       "song_length               59\n",
       "genre_ids                  0\n",
       "artist_name                0\n",
       "composer                   0\n",
       "lyricist                   0\n",
       "language                  78\n",
       "city                       0\n",
       "bd                         0\n",
       "gender                     0\n",
       "registered_via             0\n",
       "registration_init_time     0\n",
       "expiration_date            0\n",
       "dtype: int64"
      ]
     },
     "execution_count": 13,
     "metadata": {},
     "output_type": "execute_result"
    }
   ],
   "source": [
    "train.isnull().sum()"
   ]
  },
  {
   "cell_type": "code",
   "execution_count": 14,
   "metadata": {},
   "outputs": [],
   "source": [
    "train = train.fillna(value=0)"
   ]
  },
  {
   "cell_type": "markdown",
   "metadata": {},
   "source": [
    "# 處理日期欄位"
   ]
  },
  {
   "cell_type": "code",
   "execution_count": 15,
   "metadata": {},
   "outputs": [
    {
     "data": {
      "text/plain": [
       "0          20101209\n",
       "1          20130730\n",
       "2          20131226\n",
       "3          20121223\n",
       "4          20160211\n",
       "             ...   \n",
       "3688704    20111028\n",
       "3688705    20161121\n",
       "3688706    20050313\n",
       "3688707    20160624\n",
       "3688708    20101222\n",
       "Name: registration_init_time, Length: 3688709, dtype: int64"
      ]
     },
     "execution_count": 15,
     "metadata": {},
     "output_type": "execute_result"
    }
   ],
   "source": [
    "train.registration_init_time"
   ]
  },
  {
   "cell_type": "code",
   "execution_count": 16,
   "metadata": {},
   "outputs": [],
   "source": [
    "train['registration_init_time'] = pd.to_datetime(train['registration_init_time'], format='%Y%m%d', errors='ignore')\n",
    "train['registration_init_time_year'] = train['registration_init_time'].dt.year\n",
    "train['registration_init_time_month'] = train['registration_init_time'].dt.month\n",
    "train['registration_init_time_day'] = train['registration_init_time'].dt.day\n",
    "\n",
    "# expiration_date\n",
    "train['expiration_date'] = pd.to_datetime(train['expiration_date'],  format='%Y%m%d', errors='ignore')\n",
    "train['expiration_date_year'] = train['expiration_date'].dt.year\n",
    "train['expiration_date_month'] = train['expiration_date'].dt.month\n",
    "train['expiration_date_day'] = train['expiration_date'].dt.day"
   ]
  },
  {
   "cell_type": "markdown",
   "metadata": {},
   "source": [
    "# 選擇作為測試集資料建模的欄位"
   ]
  },
  {
   "cell_type": "code",
   "execution_count": 17,
   "metadata": {},
   "outputs": [],
   "source": [
    "# Select columns\n",
    "train = train[['msno', 'song_id', 'source_screen_name', 'source_type', 'target',\n",
    "       'song_length', 'artist_name', 'composer', 'bd',\n",
    "       'registration_init_time', 'registration_init_time_month',\n",
    "       'registration_init_time_day', 'expiration_date_day']]"
   ]
  },
  {
   "cell_type": "markdown",
   "metadata": {},
   "source": [
    "# 欄位型別轉換"
   ]
  },
  {
   "cell_type": "code",
   "execution_count": 18,
   "metadata": {},
   "outputs": [],
   "source": [
    "# 日期欄位轉成類別行欄位\n",
    "train['registration_init_time'] = train['registration_init_time'].astype('category')\n",
    "\n",
    "# Object 型別欄位轉成類別型欄位\n",
    "for col in train.select_dtypes(include=['object']).columns:\n",
    "    train[col] = train[col].astype('category')"
   ]
  },
  {
   "cell_type": "code",
   "execution_count": 19,
   "metadata": {},
   "outputs": [],
   "source": [
    "#將類別欄位的每一個值依照不同欄位進行編碼\n",
    "for col in train.select_dtypes(include=['category']).columns:\n",
    "    train[col] = train[col].cat.codes"
   ]
  },
  {
   "cell_type": "code",
   "execution_count": 20,
   "metadata": {},
   "outputs": [
    {
     "name": "stdout",
     "output_type": "stream",
     "text": [
      "<class 'pandas.core.frame.DataFrame'>\n",
      "Int64Index: 3688709 entries, 0 to 3688708\n",
      "Data columns (total 13 columns):\n",
      "msno                            int16\n",
      "song_id                         int32\n",
      "source_screen_name              int8\n",
      "source_type                     int8\n",
      "target                          int64\n",
      "song_length                     float64\n",
      "artist_name                     int16\n",
      "composer                        int32\n",
      "bd                              int64\n",
      "registration_init_time          int16\n",
      "registration_init_time_month    int64\n",
      "registration_init_time_day      int64\n",
      "expiration_date_day             int64\n",
      "dtypes: float64(1), int16(3), int32(2), int64(5), int8(2)\n",
      "memory usage: 253.3 MB\n"
     ]
    }
   ],
   "source": [
    "train.info()"
   ]
  },
  {
   "cell_type": "markdown",
   "metadata": {},
   "source": [
    "# 匯入測試集資料"
   ]
  },
  {
   "cell_type": "code",
   "execution_count": 41,
   "metadata": {},
   "outputs": [],
   "source": [
    "test2 = pd.read_csv('./kkbox-music-recommendation-challenge/test.csv')"
   ]
  },
  {
   "cell_type": "code",
   "execution_count": 42,
   "metadata": {},
   "outputs": [
    {
     "data": {
      "text/plain": [
       "Index(['id', 'msno', 'song_id', 'source_system_tab', 'source_screen_name',\n",
       "       'source_type'],\n",
       "      dtype='object')"
      ]
     },
     "execution_count": 42,
     "metadata": {},
     "output_type": "execute_result"
    }
   ],
   "source": [
    "test2.columns"
   ]
  },
  {
   "cell_type": "code",
   "execution_count": 22,
   "metadata": {},
   "outputs": [],
   "source": [
    "# Load test data\n",
    "test = pd.read_csv('./kkbox-music-recommendation-challenge/test.csv')\n",
    "\n",
    "# Load and join songs data\n",
    "songs = pd.read_csv('./kkbox-music-recommendation-challenge/songs.csv')\n",
    "test = pd.merge(test, songs, on='song_id', how='left')\n",
    "del songs\n",
    "\n",
    "# Load and join songs data\n",
    "members = pd.read_csv('./kkbox-music-recommendation-challenge/members.csv')\n",
    "test = pd.merge(test, members, on='msno', how='left')\n",
    "del members"
   ]
  },
  {
   "cell_type": "code",
   "execution_count": 44,
   "metadata": {},
   "outputs": [
    {
     "data": {
      "text/plain": [
       "0                0\n",
       "1                1\n",
       "2                2\n",
       "3                3\n",
       "4                4\n",
       "            ...   \n",
       "2556785    2556785\n",
       "2556786    2556786\n",
       "2556787    2556787\n",
       "2556788    2556788\n",
       "2556789    2556789\n",
       "Name: id, Length: 2556790, dtype: int64"
      ]
     },
     "execution_count": 44,
     "metadata": {},
     "output_type": "execute_result"
    }
   ],
   "source": [
    "test_id = test.id\n",
    "test_id"
   ]
  },
  {
   "cell_type": "code",
   "execution_count": null,
   "metadata": {},
   "outputs": [],
   "source": [
    "測試集的資料跟訓練集的資料清理的方式一樣，會拆開來清理主要是因為怕將測試集的部分特徵也帶進訓練集資料裡建模，這會使模型的效果變差或出現問題。"
   ]
  },
  {
   "cell_type": "code",
   "execution_count": 24,
   "metadata": {},
   "outputs": [
    {
     "name": "stdout",
     "output_type": "stream",
     "text": [
      "<class 'pandas.core.frame.DataFrame'>\n",
      "Int64Index: 2556790 entries, 0 to 2556789\n",
      "Data columns (total 12 columns):\n",
      "msno                            int16\n",
      "song_id                         int32\n",
      "source_screen_name              int8\n",
      "source_type                     int8\n",
      "song_length                     float64\n",
      "artist_name                     int16\n",
      "composer                        int32\n",
      "bd                              int64\n",
      "registration_init_time          int16\n",
      "registration_init_time_month    int64\n",
      "registration_init_time_day      int64\n",
      "expiration_date_day             int64\n",
      "dtypes: float64(1), int16(3), int32(2), int64(4), int8(2)\n",
      "memory usage: 156.1 MB\n"
     ]
    }
   ],
   "source": [
    "test.registration_init_time = pd.to_datetime(test.registration_init_time, format='%Y%m%d', errors='ignore')\n",
    "test['registration_init_time_year'] = test['registration_init_time'].dt.year\n",
    "test['registration_init_time_month'] = test['registration_init_time'].dt.month\n",
    "test['registration_init_time_day'] = test['registration_init_time'].dt.day\n",
    "\n",
    "test.expiration_date = pd.to_datetime(test.expiration_date,  format='%Y%m%d', errors='ignore')\n",
    "test['expiration_date_year'] = test['expiration_date'].dt.year\n",
    "test['expiration_date_month'] = test['expiration_date'].dt.month\n",
    "test['expiration_date_day'] = test['expiration_date'].dt.day\n",
    "\n",
    "test = test[['msno', 'song_id', 'source_screen_name', 'source_type',\n",
    "       'song_length', 'artist_name', 'composer', 'bd',\n",
    "       'registration_init_time', 'registration_init_time_month',\n",
    "       'registration_init_time_day', 'expiration_date_day']]\n",
    "\n",
    "test['registration_init_time'] = test['registration_init_time'].astype('category')\n",
    "\n",
    "for col in test.select_dtypes(include=['object']).columns:\n",
    "    test[col] = test[col].astype('category')\n",
    "\n",
    "for col in test.select_dtypes(include=['category']).columns:\n",
    "    test[col] = test[col].cat.codes\n",
    "\n",
    "test.info()"
   ]
  },
  {
   "cell_type": "markdown",
   "metadata": {},
   "source": [
    "將train資料集的target欄位提取出來，這是預測目標，並資料拆分成 X_train, X_test, y_train, y_test，訓練及佔全部的0.7 "
   ]
  },
  {
   "cell_type": "code",
   "execution_count": null,
   "metadata": {},
   "outputs": [],
   "source": [
    "target = train.pop('target')\n",
    "X_train, X_test, y_train, y_test = train_test_split(train, target, test_size = 0.3)"
   ]
  },
  {
   "cell_type": "code",
   "execution_count": 27,
   "metadata": {},
   "outputs": [],
   "source": [
    "# Create model\n",
    "rf = RandomForestClassifier(n_estimators=350, max_depth=40)\n",
    "# rf.fit(X_train, y_train)"
   ]
  },
  {
   "cell_type": "code",
   "execution_count": null,
   "metadata": {},
   "outputs": [],
   "source": [
    "# Predicting\n",
    "rf_predict = rf.predict(X_test)"
   ]
  },
  {
   "cell_type": "code",
   "execution_count": 28,
   "metadata": {},
   "outputs": [],
   "source": [
    "from sklearn.model_selection import cross_val_score\n",
    "from sklearn.metrics import precision_score , recall_score , f1_score\n",
    "import xgboost as xgb"
   ]
  },
  {
   "cell_type": "markdown",
   "metadata": {},
   "source": [
    "# 使用xgboost進行建模\n",
    " 他跑很久-_-"
   ]
  },
  {
   "cell_type": "code",
   "execution_count": 29,
   "metadata": {},
   "outputs": [
    {
     "data": {
      "text/plain": [
       "XGBClassifier(base_score=0.5, booster='gbtree', colsample_bylevel=1,\n",
       "              colsample_bynode=1, colsample_bytree=1, gamma=0,\n",
       "              learning_rate=0.1, max_delta_step=0, max_depth=10,\n",
       "              min_child_weight=10, missing=None, n_estimators=250, n_jobs=1,\n",
       "              nthread=None, objective='binary:logistic', random_state=0,\n",
       "              reg_alpha=0, reg_lambda=1, scale_pos_weight=1, seed=None,\n",
       "              silent=None, subsample=1, verbosity=1)"
      ]
     },
     "execution_count": 29,
     "metadata": {},
     "output_type": "execute_result"
    }
   ],
   "source": [
    "# Create model\n",
    "model = xgb.XGBClassifier(learning_rate=0.1, max_depth=10, min_child_weight=10, n_estimators=250)\n",
    "model.fit(X_train, y_train)\n",
    "\n",
    "# Predicting\n",
    "# predict_labels2 = model2.predict(test)"
   ]
  },
  {
   "cell_type": "code",
   "execution_count": 31,
   "metadata": {},
   "outputs": [],
   "source": [
    "predict_test = model.predict(test)"
   ]
  },
  {
   "cell_type": "markdown",
   "metadata": {},
   "source": [
    "# 匯出提交檔案"
   ]
  },
  {
   "cell_type": "code",
   "execution_count": 45,
   "metadata": {},
   "outputs": [],
   "source": [
    "sub = pd.DataFrame()\n",
    "sub['id'] = test_id\n",
    "sub['target'] = predict_test\n",
    "sub.to_csv('kk_sub_xgb.csv' , index = False , float_format ='%.5f' )"
   ]
  },
  {
   "cell_type": "code",
   "execution_count": 40,
   "metadata": {},
   "outputs": [
    {
     "data": {
      "text/html": [
       "<div>\n",
       "<style scoped>\n",
       "    .dataframe tbody tr th:only-of-type {\n",
       "        vertical-align: middle;\n",
       "    }\n",
       "\n",
       "    .dataframe tbody tr th {\n",
       "        vertical-align: top;\n",
       "    }\n",
       "\n",
       "    .dataframe thead th {\n",
       "        text-align: right;\n",
       "    }\n",
       "</style>\n",
       "<table border=\"1\" class=\"dataframe\">\n",
       "  <thead>\n",
       "    <tr style=\"text-align: right;\">\n",
       "      <th></th>\n",
       "      <th>msno</th>\n",
       "      <th>song_id</th>\n",
       "      <th>source_screen_name</th>\n",
       "      <th>source_type</th>\n",
       "      <th>song_length</th>\n",
       "      <th>artist_name</th>\n",
       "      <th>composer</th>\n",
       "      <th>bd</th>\n",
       "      <th>registration_init_time</th>\n",
       "      <th>registration_init_time_month</th>\n",
       "      <th>registration_init_time_day</th>\n",
       "      <th>expiration_date_day</th>\n",
       "    </tr>\n",
       "  </thead>\n",
       "  <tbody>\n",
       "    <tr>\n",
       "      <td>0</td>\n",
       "      <td>12934</td>\n",
       "      <td>122191</td>\n",
       "      <td>8</td>\n",
       "      <td>3</td>\n",
       "      <td>224130.0</td>\n",
       "      <td>24889</td>\n",
       "      <td>33218</td>\n",
       "      <td>0</td>\n",
       "      <td>3438</td>\n",
       "      <td>2</td>\n",
       "      <td>19</td>\n",
       "      <td>18</td>\n",
       "    </tr>\n",
       "    <tr>\n",
       "      <td>1</td>\n",
       "      <td>12934</td>\n",
       "      <td>217907</td>\n",
       "      <td>8</td>\n",
       "      <td>3</td>\n",
       "      <td>320470.0</td>\n",
       "      <td>24742</td>\n",
       "      <td>47677</td>\n",
       "      <td>0</td>\n",
       "      <td>3438</td>\n",
       "      <td>2</td>\n",
       "      <td>19</td>\n",
       "      <td>18</td>\n",
       "    </tr>\n",
       "    <tr>\n",
       "      <td>2</td>\n",
       "      <td>712</td>\n",
       "      <td>37385</td>\n",
       "      <td>-1</td>\n",
       "      <td>9</td>\n",
       "      <td>315899.0</td>\n",
       "      <td>21878</td>\n",
       "      <td>43194</td>\n",
       "      <td>0</td>\n",
       "      <td>3645</td>\n",
       "      <td>11</td>\n",
       "      <td>17</td>\n",
       "      <td>24</td>\n",
       "    </tr>\n",
       "    <tr>\n",
       "      <td>3</td>\n",
       "      <td>1383</td>\n",
       "      <td>224360</td>\n",
       "      <td>16</td>\n",
       "      <td>7</td>\n",
       "      <td>285210.0</td>\n",
       "      <td>20718</td>\n",
       "      <td>39607</td>\n",
       "      <td>30</td>\n",
       "      <td>724</td>\n",
       "      <td>7</td>\n",
       "      <td>25</td>\n",
       "      <td>30</td>\n",
       "    </tr>\n",
       "    <tr>\n",
       "      <td>4</td>\n",
       "      <td>1383</td>\n",
       "      <td>85597</td>\n",
       "      <td>16</td>\n",
       "      <td>7</td>\n",
       "      <td>197590.0</td>\n",
       "      <td>21761</td>\n",
       "      <td>30731</td>\n",
       "      <td>30</td>\n",
       "      <td>724</td>\n",
       "      <td>7</td>\n",
       "      <td>25</td>\n",
       "      <td>30</td>\n",
       "    </tr>\n",
       "    <tr>\n",
       "      <td>...</td>\n",
       "      <td>...</td>\n",
       "      <td>...</td>\n",
       "      <td>...</td>\n",
       "      <td>...</td>\n",
       "      <td>...</td>\n",
       "      <td>...</td>\n",
       "      <td>...</td>\n",
       "      <td>...</td>\n",
       "      <td>...</td>\n",
       "      <td>...</td>\n",
       "      <td>...</td>\n",
       "      <td>...</td>\n",
       "    </tr>\n",
       "    <tr>\n",
       "      <td>2556785</td>\n",
       "      <td>14024</td>\n",
       "      <td>212075</td>\n",
       "      <td>11</td>\n",
       "      <td>6</td>\n",
       "      <td>247640.0</td>\n",
       "      <td>19201</td>\n",
       "      <td>2559</td>\n",
       "      <td>41</td>\n",
       "      <td>1643</td>\n",
       "      <td>11</td>\n",
       "      <td>26</td>\n",
       "      <td>21</td>\n",
       "    </tr>\n",
       "    <tr>\n",
       "      <td>2556786</td>\n",
       "      <td>18800</td>\n",
       "      <td>78127</td>\n",
       "      <td>-1</td>\n",
       "      <td>6</td>\n",
       "      <td>197067.0</td>\n",
       "      <td>26482</td>\n",
       "      <td>46255</td>\n",
       "      <td>24</td>\n",
       "      <td>2786</td>\n",
       "      <td>5</td>\n",
       "      <td>6</td>\n",
       "      <td>12</td>\n",
       "    </tr>\n",
       "    <tr>\n",
       "      <td>2556787</td>\n",
       "      <td>18800</td>\n",
       "      <td>219419</td>\n",
       "      <td>-1</td>\n",
       "      <td>6</td>\n",
       "      <td>212950.0</td>\n",
       "      <td>23457</td>\n",
       "      <td>37581</td>\n",
       "      <td>24</td>\n",
       "      <td>2786</td>\n",
       "      <td>5</td>\n",
       "      <td>6</td>\n",
       "      <td>12</td>\n",
       "    </tr>\n",
       "    <tr>\n",
       "      <td>2556788</td>\n",
       "      <td>18800</td>\n",
       "      <td>121326</td>\n",
       "      <td>-1</td>\n",
       "      <td>6</td>\n",
       "      <td>164414.0</td>\n",
       "      <td>26763</td>\n",
       "      <td>-1</td>\n",
       "      <td>24</td>\n",
       "      <td>2786</td>\n",
       "      <td>5</td>\n",
       "      <td>6</td>\n",
       "      <td>12</td>\n",
       "    </tr>\n",
       "    <tr>\n",
       "      <td>2556789</td>\n",
       "      <td>18800</td>\n",
       "      <td>154308</td>\n",
       "      <td>-1</td>\n",
       "      <td>6</td>\n",
       "      <td>231552.0</td>\n",
       "      <td>23474</td>\n",
       "      <td>45658</td>\n",
       "      <td>24</td>\n",
       "      <td>2786</td>\n",
       "      <td>5</td>\n",
       "      <td>6</td>\n",
       "      <td>12</td>\n",
       "    </tr>\n",
       "  </tbody>\n",
       "</table>\n",
       "<p>2556790 rows × 12 columns</p>\n",
       "</div>"
      ],
      "text/plain": [
       "          msno  song_id  source_screen_name  source_type  song_length  \\\n",
       "0        12934   122191                   8            3     224130.0   \n",
       "1        12934   217907                   8            3     320470.0   \n",
       "2          712    37385                  -1            9     315899.0   \n",
       "3         1383   224360                  16            7     285210.0   \n",
       "4         1383    85597                  16            7     197590.0   \n",
       "...        ...      ...                 ...          ...          ...   \n",
       "2556785  14024   212075                  11            6     247640.0   \n",
       "2556786  18800    78127                  -1            6     197067.0   \n",
       "2556787  18800   219419                  -1            6     212950.0   \n",
       "2556788  18800   121326                  -1            6     164414.0   \n",
       "2556789  18800   154308                  -1            6     231552.0   \n",
       "\n",
       "         artist_name  composer  bd  registration_init_time  \\\n",
       "0              24889     33218   0                    3438   \n",
       "1              24742     47677   0                    3438   \n",
       "2              21878     43194   0                    3645   \n",
       "3              20718     39607  30                     724   \n",
       "4              21761     30731  30                     724   \n",
       "...              ...       ...  ..                     ...   \n",
       "2556785        19201      2559  41                    1643   \n",
       "2556786        26482     46255  24                    2786   \n",
       "2556787        23457     37581  24                    2786   \n",
       "2556788        26763        -1  24                    2786   \n",
       "2556789        23474     45658  24                    2786   \n",
       "\n",
       "         registration_init_time_month  registration_init_time_day  \\\n",
       "0                                   2                          19   \n",
       "1                                   2                          19   \n",
       "2                                  11                          17   \n",
       "3                                   7                          25   \n",
       "4                                   7                          25   \n",
       "...                               ...                         ...   \n",
       "2556785                            11                          26   \n",
       "2556786                             5                           6   \n",
       "2556787                             5                           6   \n",
       "2556788                             5                           6   \n",
       "2556789                             5                           6   \n",
       "\n",
       "         expiration_date_day  \n",
       "0                         18  \n",
       "1                         18  \n",
       "2                         24  \n",
       "3                         30  \n",
       "4                         30  \n",
       "...                      ...  \n",
       "2556785                   21  \n",
       "2556786                   12  \n",
       "2556787                   12  \n",
       "2556788                   12  \n",
       "2556789                   12  \n",
       "\n",
       "[2556790 rows x 12 columns]"
      ]
     },
     "execution_count": 40,
     "metadata": {},
     "output_type": "execute_result"
    }
   ],
   "source": [
    "test"
   ]
  },
  {
   "cell_type": "code",
   "execution_count": null,
   "metadata": {},
   "outputs": [],
   "source": []
  }
 ],
 "metadata": {
  "kernelspec": {
   "display_name": "Python 3",
   "language": "python",
   "name": "python3"
  }
 },
 "nbformat": 4,
 "nbformat_minor": 2
}
