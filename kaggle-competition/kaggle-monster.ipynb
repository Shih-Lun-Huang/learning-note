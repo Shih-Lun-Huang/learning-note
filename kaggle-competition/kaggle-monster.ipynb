{
 "cells": [
  {
   "cell_type": "code",
   "execution_count": 1,
   "metadata": {},
   "outputs": [],
   "source": [
    "# 套件載入\n",
    "#基本資料處理套件\n",
    "import numpy as np\n",
    "import pandas as pd\n",
    "import math\n",
    "#視覺化套件\n",
    "import seaborn as sns\n",
    "import matplotlib.pyplot as plt\n",
    "#演算法套件\n",
    "from sklearn.model_selection import train_test_split\n",
    "from sklearn.metrics import accuracy_score\n",
    "from sklearn.linear_model import LogisticRegression\n",
    "from sklearn.preprocessing import StandardScaler\n",
    "from sklearn import svm \n",
    "from sklearn.ensemble import RandomForestClassifier\n",
    "from sklearn.ensemble import AdaBoostClassifier\n",
    "from xgboost import XGBClassifier\n",
    "from sklearn.model_selection import GridSearchCV\n",
    "from sklearn.ensemble import VotingClassifier\n",
    "#關閉warning\n",
    "import warnings\n",
    "warnings.filterwarnings('ignore')"
   ]
  },
  {
   "cell_type": "markdown",
   "metadata": {},
   "source": [
    "### 載入資料集"
   ]
  },
  {
   "cell_type": "code",
   "execution_count": 2,
   "metadata": {},
   "outputs": [],
   "source": [
    "#載入資料集\n",
    "train = pd.read_csv('./dataset/ghouls-goblins-and-ghosts-boo/train.csv')\n",
    "test = pd.read_csv('./dataset/ghouls-goblins-and-ghosts-boo/test.csv')"
   ]
  },
  {
   "cell_type": "markdown",
   "metadata": {},
   "source": [
    "### 查看前 10 筆資料，並查看資料的狀態與資訊，例如多少欄位、各欄位的型態、各欄位空值狀況等等。"
   ]
  },
  {
   "cell_type": "code",
   "execution_count": 3,
   "metadata": {
    "scrolled": true
   },
   "outputs": [
    {
     "data": {
      "text/html": [
       "<div>\n",
       "<style scoped>\n",
       "    .dataframe tbody tr th:only-of-type {\n",
       "        vertical-align: middle;\n",
       "    }\n",
       "\n",
       "    .dataframe tbody tr th {\n",
       "        vertical-align: top;\n",
       "    }\n",
       "\n",
       "    .dataframe thead th {\n",
       "        text-align: right;\n",
       "    }\n",
       "</style>\n",
       "<table border=\"1\" class=\"dataframe\">\n",
       "  <thead>\n",
       "    <tr style=\"text-align: right;\">\n",
       "      <th></th>\n",
       "      <th>id</th>\n",
       "      <th>bone_length</th>\n",
       "      <th>rotting_flesh</th>\n",
       "      <th>hair_length</th>\n",
       "      <th>has_soul</th>\n",
       "      <th>color</th>\n",
       "      <th>type</th>\n",
       "    </tr>\n",
       "  </thead>\n",
       "  <tbody>\n",
       "    <tr>\n",
       "      <td>0</td>\n",
       "      <td>0</td>\n",
       "      <td>0.354512</td>\n",
       "      <td>0.350839</td>\n",
       "      <td>0.465761</td>\n",
       "      <td>0.781142</td>\n",
       "      <td>clear</td>\n",
       "      <td>Ghoul</td>\n",
       "    </tr>\n",
       "    <tr>\n",
       "      <td>1</td>\n",
       "      <td>1</td>\n",
       "      <td>0.575560</td>\n",
       "      <td>0.425868</td>\n",
       "      <td>0.531401</td>\n",
       "      <td>0.439899</td>\n",
       "      <td>green</td>\n",
       "      <td>Goblin</td>\n",
       "    </tr>\n",
       "    <tr>\n",
       "      <td>2</td>\n",
       "      <td>2</td>\n",
       "      <td>0.467875</td>\n",
       "      <td>0.354330</td>\n",
       "      <td>0.811616</td>\n",
       "      <td>0.791225</td>\n",
       "      <td>black</td>\n",
       "      <td>Ghoul</td>\n",
       "    </tr>\n",
       "    <tr>\n",
       "      <td>3</td>\n",
       "      <td>4</td>\n",
       "      <td>0.776652</td>\n",
       "      <td>0.508723</td>\n",
       "      <td>0.636766</td>\n",
       "      <td>0.884464</td>\n",
       "      <td>black</td>\n",
       "      <td>Ghoul</td>\n",
       "    </tr>\n",
       "    <tr>\n",
       "      <td>4</td>\n",
       "      <td>5</td>\n",
       "      <td>0.566117</td>\n",
       "      <td>0.875862</td>\n",
       "      <td>0.418594</td>\n",
       "      <td>0.636438</td>\n",
       "      <td>green</td>\n",
       "      <td>Ghost</td>\n",
       "    </tr>\n",
       "    <tr>\n",
       "      <td>5</td>\n",
       "      <td>7</td>\n",
       "      <td>0.405680</td>\n",
       "      <td>0.253277</td>\n",
       "      <td>0.441420</td>\n",
       "      <td>0.280324</td>\n",
       "      <td>green</td>\n",
       "      <td>Goblin</td>\n",
       "    </tr>\n",
       "    <tr>\n",
       "      <td>6</td>\n",
       "      <td>8</td>\n",
       "      <td>0.399331</td>\n",
       "      <td>0.568952</td>\n",
       "      <td>0.618391</td>\n",
       "      <td>0.467901</td>\n",
       "      <td>white</td>\n",
       "      <td>Goblin</td>\n",
       "    </tr>\n",
       "    <tr>\n",
       "      <td>7</td>\n",
       "      <td>11</td>\n",
       "      <td>0.516224</td>\n",
       "      <td>0.536429</td>\n",
       "      <td>0.612776</td>\n",
       "      <td>0.468048</td>\n",
       "      <td>clear</td>\n",
       "      <td>Ghoul</td>\n",
       "    </tr>\n",
       "    <tr>\n",
       "      <td>8</td>\n",
       "      <td>12</td>\n",
       "      <td>0.314295</td>\n",
       "      <td>0.671280</td>\n",
       "      <td>0.417267</td>\n",
       "      <td>0.227548</td>\n",
       "      <td>blue</td>\n",
       "      <td>Ghost</td>\n",
       "    </tr>\n",
       "    <tr>\n",
       "      <td>9</td>\n",
       "      <td>19</td>\n",
       "      <td>0.280942</td>\n",
       "      <td>0.701457</td>\n",
       "      <td>0.179633</td>\n",
       "      <td>0.141183</td>\n",
       "      <td>white</td>\n",
       "      <td>Ghost</td>\n",
       "    </tr>\n",
       "  </tbody>\n",
       "</table>\n",
       "</div>"
      ],
      "text/plain": [
       "   id  bone_length  rotting_flesh  hair_length  has_soul  color    type\n",
       "0   0     0.354512       0.350839     0.465761  0.781142  clear   Ghoul\n",
       "1   1     0.575560       0.425868     0.531401  0.439899  green  Goblin\n",
       "2   2     0.467875       0.354330     0.811616  0.791225  black   Ghoul\n",
       "3   4     0.776652       0.508723     0.636766  0.884464  black   Ghoul\n",
       "4   5     0.566117       0.875862     0.418594  0.636438  green   Ghost\n",
       "5   7     0.405680       0.253277     0.441420  0.280324  green  Goblin\n",
       "6   8     0.399331       0.568952     0.618391  0.467901  white  Goblin\n",
       "7  11     0.516224       0.536429     0.612776  0.468048  clear   Ghoul\n",
       "8  12     0.314295       0.671280     0.417267  0.227548   blue   Ghost\n",
       "9  19     0.280942       0.701457     0.179633  0.141183  white   Ghost"
      ]
     },
     "execution_count": 3,
     "metadata": {},
     "output_type": "execute_result"
    }
   ],
   "source": [
    "train.head(10)"
   ]
  },
  {
   "cell_type": "code",
   "execution_count": 4,
   "metadata": {},
   "outputs": [
    {
     "data": {
      "text/html": [
       "<div>\n",
       "<style scoped>\n",
       "    .dataframe tbody tr th:only-of-type {\n",
       "        vertical-align: middle;\n",
       "    }\n",
       "\n",
       "    .dataframe tbody tr th {\n",
       "        vertical-align: top;\n",
       "    }\n",
       "\n",
       "    .dataframe thead th {\n",
       "        text-align: right;\n",
       "    }\n",
       "</style>\n",
       "<table border=\"1\" class=\"dataframe\">\n",
       "  <thead>\n",
       "    <tr style=\"text-align: right;\">\n",
       "      <th></th>\n",
       "      <th>id</th>\n",
       "      <th>bone_length</th>\n",
       "      <th>rotting_flesh</th>\n",
       "      <th>hair_length</th>\n",
       "      <th>has_soul</th>\n",
       "      <th>color</th>\n",
       "    </tr>\n",
       "  </thead>\n",
       "  <tbody>\n",
       "    <tr>\n",
       "      <td>0</td>\n",
       "      <td>3</td>\n",
       "      <td>0.471774</td>\n",
       "      <td>0.387937</td>\n",
       "      <td>0.706087</td>\n",
       "      <td>0.698537</td>\n",
       "      <td>black</td>\n",
       "    </tr>\n",
       "    <tr>\n",
       "      <td>1</td>\n",
       "      <td>6</td>\n",
       "      <td>0.427332</td>\n",
       "      <td>0.645024</td>\n",
       "      <td>0.565558</td>\n",
       "      <td>0.451462</td>\n",
       "      <td>white</td>\n",
       "    </tr>\n",
       "    <tr>\n",
       "      <td>2</td>\n",
       "      <td>9</td>\n",
       "      <td>0.549602</td>\n",
       "      <td>0.491931</td>\n",
       "      <td>0.660387</td>\n",
       "      <td>0.449809</td>\n",
       "      <td>black</td>\n",
       "    </tr>\n",
       "    <tr>\n",
       "      <td>3</td>\n",
       "      <td>10</td>\n",
       "      <td>0.638095</td>\n",
       "      <td>0.682867</td>\n",
       "      <td>0.471409</td>\n",
       "      <td>0.356924</td>\n",
       "      <td>white</td>\n",
       "    </tr>\n",
       "    <tr>\n",
       "      <td>4</td>\n",
       "      <td>13</td>\n",
       "      <td>0.361762</td>\n",
       "      <td>0.583997</td>\n",
       "      <td>0.377256</td>\n",
       "      <td>0.276364</td>\n",
       "      <td>black</td>\n",
       "    </tr>\n",
       "    <tr>\n",
       "      <td>5</td>\n",
       "      <td>14</td>\n",
       "      <td>0.292890</td>\n",
       "      <td>0.505851</td>\n",
       "      <td>0.297927</td>\n",
       "      <td>0.106263</td>\n",
       "      <td>white</td>\n",
       "    </tr>\n",
       "    <tr>\n",
       "      <td>6</td>\n",
       "      <td>15</td>\n",
       "      <td>0.584456</td>\n",
       "      <td>0.551680</td>\n",
       "      <td>0.628330</td>\n",
       "      <td>0.499118</td>\n",
       "      <td>white</td>\n",
       "    </tr>\n",
       "    <tr>\n",
       "      <td>7</td>\n",
       "      <td>16</td>\n",
       "      <td>0.485525</td>\n",
       "      <td>0.459242</td>\n",
       "      <td>0.657735</td>\n",
       "      <td>0.565337</td>\n",
       "      <td>blue</td>\n",
       "    </tr>\n",
       "    <tr>\n",
       "      <td>8</td>\n",
       "      <td>17</td>\n",
       "      <td>0.471757</td>\n",
       "      <td>0.407916</td>\n",
       "      <td>0.465992</td>\n",
       "      <td>0.406608</td>\n",
       "      <td>blue</td>\n",
       "    </tr>\n",
       "    <tr>\n",
       "      <td>9</td>\n",
       "      <td>18</td>\n",
       "      <td>0.572953</td>\n",
       "      <td>0.316454</td>\n",
       "      <td>0.668388</td>\n",
       "      <td>0.640692</td>\n",
       "      <td>clear</td>\n",
       "    </tr>\n",
       "  </tbody>\n",
       "</table>\n",
       "</div>"
      ],
      "text/plain": [
       "   id  bone_length  rotting_flesh  hair_length  has_soul  color\n",
       "0   3     0.471774       0.387937     0.706087  0.698537  black\n",
       "1   6     0.427332       0.645024     0.565558  0.451462  white\n",
       "2   9     0.549602       0.491931     0.660387  0.449809  black\n",
       "3  10     0.638095       0.682867     0.471409  0.356924  white\n",
       "4  13     0.361762       0.583997     0.377256  0.276364  black\n",
       "5  14     0.292890       0.505851     0.297927  0.106263  white\n",
       "6  15     0.584456       0.551680     0.628330  0.499118  white\n",
       "7  16     0.485525       0.459242     0.657735  0.565337   blue\n",
       "8  17     0.471757       0.407916     0.465992  0.406608   blue\n",
       "9  18     0.572953       0.316454     0.668388  0.640692  clear"
      ]
     },
     "execution_count": 4,
     "metadata": {},
     "output_type": "execute_result"
    }
   ],
   "source": [
    "test.head(10)"
   ]
  },
  {
   "cell_type": "code",
   "execution_count": 5,
   "metadata": {},
   "outputs": [
    {
     "name": "stdout",
     "output_type": "stream",
     "text": [
      "<class 'pandas.core.frame.DataFrame'>\n",
      "RangeIndex: 371 entries, 0 to 370\n",
      "Data columns (total 7 columns):\n",
      "id               371 non-null int64\n",
      "bone_length      371 non-null float64\n",
      "rotting_flesh    371 non-null float64\n",
      "hair_length      371 non-null float64\n",
      "has_soul         371 non-null float64\n",
      "color            371 non-null object\n",
      "type             371 non-null object\n",
      "dtypes: float64(4), int64(1), object(2)\n",
      "memory usage: 20.4+ KB\n"
     ]
    }
   ],
   "source": [
    "train.info()"
   ]
  },
  {
   "cell_type": "code",
   "execution_count": 6,
   "metadata": {},
   "outputs": [
    {
     "name": "stdout",
     "output_type": "stream",
     "text": [
      "<class 'pandas.core.frame.DataFrame'>\n",
      "RangeIndex: 529 entries, 0 to 528\n",
      "Data columns (total 6 columns):\n",
      "id               529 non-null int64\n",
      "bone_length      529 non-null float64\n",
      "rotting_flesh    529 non-null float64\n",
      "hair_length      529 non-null float64\n",
      "has_soul         529 non-null float64\n",
      "color            529 non-null object\n",
      "dtypes: float64(4), int64(1), object(1)\n",
      "memory usage: 24.9+ KB\n"
     ]
    }
   ],
   "source": [
    "test.info()"
   ]
  },
  {
   "cell_type": "markdown",
   "metadata": {},
   "source": [
    "### 查看 train 資料中數值型各欄位的統計數值，例如:最大、最小、平 均等等。"
   ]
  },
  {
   "cell_type": "code",
   "execution_count": 7,
   "metadata": {},
   "outputs": [
    {
     "data": {
      "text/html": [
       "<div>\n",
       "<style scoped>\n",
       "    .dataframe tbody tr th:only-of-type {\n",
       "        vertical-align: middle;\n",
       "    }\n",
       "\n",
       "    .dataframe tbody tr th {\n",
       "        vertical-align: top;\n",
       "    }\n",
       "\n",
       "    .dataframe thead th {\n",
       "        text-align: right;\n",
       "    }\n",
       "</style>\n",
       "<table border=\"1\" class=\"dataframe\">\n",
       "  <thead>\n",
       "    <tr style=\"text-align: right;\">\n",
       "      <th></th>\n",
       "      <th>id</th>\n",
       "      <th>bone_length</th>\n",
       "      <th>rotting_flesh</th>\n",
       "      <th>hair_length</th>\n",
       "      <th>has_soul</th>\n",
       "    </tr>\n",
       "  </thead>\n",
       "  <tbody>\n",
       "    <tr>\n",
       "      <td>count</td>\n",
       "      <td>371.000000</td>\n",
       "      <td>371.000000</td>\n",
       "      <td>371.000000</td>\n",
       "      <td>371.000000</td>\n",
       "      <td>371.000000</td>\n",
       "    </tr>\n",
       "    <tr>\n",
       "      <td>mean</td>\n",
       "      <td>443.676550</td>\n",
       "      <td>0.434160</td>\n",
       "      <td>0.506848</td>\n",
       "      <td>0.529114</td>\n",
       "      <td>0.471392</td>\n",
       "    </tr>\n",
       "    <tr>\n",
       "      <td>std</td>\n",
       "      <td>263.222489</td>\n",
       "      <td>0.132833</td>\n",
       "      <td>0.146358</td>\n",
       "      <td>0.169902</td>\n",
       "      <td>0.176129</td>\n",
       "    </tr>\n",
       "    <tr>\n",
       "      <td>min</td>\n",
       "      <td>0.000000</td>\n",
       "      <td>0.061032</td>\n",
       "      <td>0.095687</td>\n",
       "      <td>0.134600</td>\n",
       "      <td>0.009402</td>\n",
       "    </tr>\n",
       "    <tr>\n",
       "      <td>25%</td>\n",
       "      <td>205.500000</td>\n",
       "      <td>0.340006</td>\n",
       "      <td>0.414812</td>\n",
       "      <td>0.407428</td>\n",
       "      <td>0.348002</td>\n",
       "    </tr>\n",
       "    <tr>\n",
       "      <td>50%</td>\n",
       "      <td>458.000000</td>\n",
       "      <td>0.434891</td>\n",
       "      <td>0.501552</td>\n",
       "      <td>0.538642</td>\n",
       "      <td>0.466372</td>\n",
       "    </tr>\n",
       "    <tr>\n",
       "      <td>75%</td>\n",
       "      <td>678.500000</td>\n",
       "      <td>0.517223</td>\n",
       "      <td>0.603977</td>\n",
       "      <td>0.647244</td>\n",
       "      <td>0.600610</td>\n",
       "    </tr>\n",
       "    <tr>\n",
       "      <td>max</td>\n",
       "      <td>897.000000</td>\n",
       "      <td>0.817001</td>\n",
       "      <td>0.932466</td>\n",
       "      <td>1.000000</td>\n",
       "      <td>0.935721</td>\n",
       "    </tr>\n",
       "  </tbody>\n",
       "</table>\n",
       "</div>"
      ],
      "text/plain": [
       "               id  bone_length  rotting_flesh  hair_length    has_soul\n",
       "count  371.000000   371.000000     371.000000   371.000000  371.000000\n",
       "mean   443.676550     0.434160       0.506848     0.529114    0.471392\n",
       "std    263.222489     0.132833       0.146358     0.169902    0.176129\n",
       "min      0.000000     0.061032       0.095687     0.134600    0.009402\n",
       "25%    205.500000     0.340006       0.414812     0.407428    0.348002\n",
       "50%    458.000000     0.434891       0.501552     0.538642    0.466372\n",
       "75%    678.500000     0.517223       0.603977     0.647244    0.600610\n",
       "max    897.000000     0.817001       0.932466     1.000000    0.935721"
      ]
     },
     "execution_count": 7,
     "metadata": {},
     "output_type": "execute_result"
    }
   ],
   "source": [
    "train.describe()"
   ]
  },
  {
   "cell_type": "code",
   "execution_count": 8,
   "metadata": {},
   "outputs": [
    {
     "data": {
      "text/html": [
       "<div>\n",
       "<style scoped>\n",
       "    .dataframe tbody tr th:only-of-type {\n",
       "        vertical-align: middle;\n",
       "    }\n",
       "\n",
       "    .dataframe tbody tr th {\n",
       "        vertical-align: top;\n",
       "    }\n",
       "\n",
       "    .dataframe thead th {\n",
       "        text-align: right;\n",
       "    }\n",
       "</style>\n",
       "<table border=\"1\" class=\"dataframe\">\n",
       "  <thead>\n",
       "    <tr style=\"text-align: right;\">\n",
       "      <th></th>\n",
       "      <th>id</th>\n",
       "      <th>bone_length</th>\n",
       "      <th>rotting_flesh</th>\n",
       "      <th>hair_length</th>\n",
       "      <th>has_soul</th>\n",
       "    </tr>\n",
       "  </thead>\n",
       "  <tbody>\n",
       "    <tr>\n",
       "      <td>count</td>\n",
       "      <td>529.000000</td>\n",
       "      <td>529.000000</td>\n",
       "      <td>529.000000</td>\n",
       "      <td>529.000000</td>\n",
       "      <td>529.000000</td>\n",
       "    </tr>\n",
       "    <tr>\n",
       "      <td>mean</td>\n",
       "      <td>453.584121</td>\n",
       "      <td>0.425474</td>\n",
       "      <td>0.503637</td>\n",
       "      <td>0.517288</td>\n",
       "      <td>0.464096</td>\n",
       "    </tr>\n",
       "    <tr>\n",
       "      <td>std</td>\n",
       "      <td>257.804948</td>\n",
       "      <td>0.136079</td>\n",
       "      <td>0.158552</td>\n",
       "      <td>0.171727</td>\n",
       "      <td>0.179659</td>\n",
       "    </tr>\n",
       "    <tr>\n",
       "      <td>min</td>\n",
       "      <td>3.000000</td>\n",
       "      <td>0.000000</td>\n",
       "      <td>0.000000</td>\n",
       "      <td>0.000000</td>\n",
       "      <td>0.000000</td>\n",
       "    </tr>\n",
       "    <tr>\n",
       "      <td>25%</td>\n",
       "      <td>239.000000</td>\n",
       "      <td>0.329383</td>\n",
       "      <td>0.393987</td>\n",
       "      <td>0.388189</td>\n",
       "      <td>0.338964</td>\n",
       "    </tr>\n",
       "    <tr>\n",
       "      <td>50%</td>\n",
       "      <td>445.000000</td>\n",
       "      <td>0.421989</td>\n",
       "      <td>0.510065</td>\n",
       "      <td>0.520220</td>\n",
       "      <td>0.461294</td>\n",
       "    </tr>\n",
       "    <tr>\n",
       "      <td>75%</td>\n",
       "      <td>670.000000</td>\n",
       "      <td>0.519024</td>\n",
       "      <td>0.605957</td>\n",
       "      <td>0.644824</td>\n",
       "      <td>0.584448</td>\n",
       "    </tr>\n",
       "    <tr>\n",
       "      <td>max</td>\n",
       "      <td>899.000000</td>\n",
       "      <td>1.000000</td>\n",
       "      <td>1.000000</td>\n",
       "      <td>0.999841</td>\n",
       "      <td>1.000000</td>\n",
       "    </tr>\n",
       "  </tbody>\n",
       "</table>\n",
       "</div>"
      ],
      "text/plain": [
       "               id  bone_length  rotting_flesh  hair_length    has_soul\n",
       "count  529.000000   529.000000     529.000000   529.000000  529.000000\n",
       "mean   453.584121     0.425474       0.503637     0.517288    0.464096\n",
       "std    257.804948     0.136079       0.158552     0.171727    0.179659\n",
       "min      3.000000     0.000000       0.000000     0.000000    0.000000\n",
       "25%    239.000000     0.329383       0.393987     0.388189    0.338964\n",
       "50%    445.000000     0.421989       0.510065     0.520220    0.461294\n",
       "75%    670.000000     0.519024       0.605957     0.644824    0.584448\n",
       "max    899.000000     1.000000       1.000000     0.999841    1.000000"
      ]
     },
     "execution_count": 8,
     "metadata": {},
     "output_type": "execute_result"
    }
   ],
   "source": [
    "test.describe()"
   ]
  },
  {
   "cell_type": "markdown",
   "metadata": {},
   "source": [
    "### 查看類別型特徵欄位\n",
    "### 資料中的特徵欄位只有 color 是類別型欄位，圖表中檢視了不同種怪物的類別與顏色記數狀況。\n",
    "\n",
    "#### 怪物數量為 white 顏色最多，clear 顏色為其次，其他顏色則是較少，且各數量都差不多。 顏色對於怪物的種類都沒有明顯的變化(每個顏色的怪物種類數量都差不多)，感覺上顏色這個特徵欄位得不太到太多的資訊， 這裡原本有考慮直接刪除顏色欄位不進行下一步的建模，但後來覺得資料的欄位筆數太少的關係就沒有做更動，僅簡單的檢視。"
   ]
  },
  {
   "cell_type": "code",
   "execution_count": 9,
   "metadata": {},
   "outputs": [
    {
     "data": {
      "text/plain": [
       "<matplotlib.axes._subplots.AxesSubplot at 0x1a251a52d0>"
      ]
     },
     "execution_count": 9,
     "metadata": {},
     "output_type": "execute_result"
    },
    {
     "data": {
      "image/png": "[encoded data removed]",
      "text/plain": [
       "<Figure size 1152x432 with 1 Axes>"
      ]
     },
     "metadata": {},
     "output_type": "display_data"
    }
   ],
   "source": [
    "sns.set(font_scale=2)\n",
    "plt.figure(figsize=(16, 6))\n",
    "sns.countplot(x=\"color\",hue='type', data=train)"
   ]
  },
  {
   "cell_type": "markdown",
   "metadata": {},
   "source": [
    "### 查看數值型特徵欄位 \n",
    "\n",
    "#### 資料欄位中，bone_length、rotting_flesh、hair_length、has_soul 這四個為數值型特徵欄位，圖表中比較了這四個數值型特徵欄位與 type 欄位的關係。這裡可以看出除了 rotting_flesh 欄位，其他欄位有滿相似的分布狀態。"
   ]
  },
  {
   "cell_type": "code",
   "execution_count": 10,
   "metadata": {
    "scrolled": true
   },
   "outputs": [
    {
     "data": {
      "image/png": "[encoded data removed]",
      "text/plain": [
       "<Figure size 1152x576 with 4 Axes>"
      ]
     },
     "metadata": {},
     "output_type": "display_data"
    }
   ],
   "source": [
    "sns.set(font_scale=1)\n",
    "fig, axes = plt.subplots(nrows=1, ncols=4, figsize=(16,8))\n",
    "col_names = ['rotting_flesh','bone_length','hair_length','has_soul']\n",
    "for i in range(len(col_names)):\n",
    "    sns.boxplot(x=\"type\", y=col_names[i], data=train, palette=\"Set1\",ax=axes[i])"
   ]
  },
  {
   "cell_type": "markdown",
   "metadata": {},
   "source": [
    "#### 為了想進一步的檢視兩兩欄位之間的交互作用狀況，目的在於希望能從中得到新的並且有用的資訊，這裡以 A 欄位與 B 欄位相乘得出新的欄位(例如: hair_length 與 has_soul 欄位相乘得出 hair_soul 欄位)，並以視覺化圖表來呈現兩兩欄位交互作用之狀況。"
   ]
  },
  {
   "cell_type": "code",
   "execution_count": 11,
   "metadata": {},
   "outputs": [],
   "source": [
    "hair_soul = train['hair_length'] * train['has_soul']\n",
    "bone_flesh = train['bone_length'] * train['rotting_flesh']\n",
    "bone_hair = train['bone_length'] * train['hair_length']\n",
    "bone_soul = train['bone_length'] * train['has_soul']\n",
    "flesh_hair = train['rotting_flesh'] * train['hair_length']\n",
    "flesh_soul = train['rotting_flesh'] * train['has_soul']"
   ]
  },
  {
   "cell_type": "code",
   "execution_count": 12,
   "metadata": {
    "scrolled": true
   },
   "outputs": [
    {
     "data": {
      "image/png": "[encoded data removed]",
      "text/plain": [
       "<Figure size 1152x720 with 6 Axes>"
      ]
     },
     "metadata": {},
     "output_type": "display_data"
    }
   ],
   "source": [
    "sns.set(font_scale=1)\n",
    "fig, axes = plt.subplots(nrows=2, ncols=3, figsize=(16,10))\n",
    "new_col = [hair_soul,bone_flesh,bone_hair,bone_soul,flesh_hair,flesh_soul]\n",
    "plot_title = ['hair_soul','bone_flesh','bone_hair','bone_soul','flesh_hair','flesh_soul']\n",
    "for i in range(6):\n",
    "    plot = sns.boxplot(x = train['type'], y = new_col[i], palette=\"Set1\",ax=axes[math.floor(i/3),i%3])\n",
    "    plot.title.set_text(plot_title[i])"
   ]
  },
  {
   "cell_type": "markdown",
   "metadata": {},
   "source": [
    "#### hair_soul、bone_hair、bone_soul，感覺上比較能依照數 值的大小來區分怪物的類別，因此取這三個欄位作為新的欄位， 來增加模型訓練的欄位。"
   ]
  },
  {
   "cell_type": "code",
   "execution_count": 13,
   "metadata": {},
   "outputs": [],
   "source": [
    "# train新欄位\n",
    "train['hair_soul'] = hair_soul\n",
    "train['bone_hair'] = bone_hair\n",
    "train['bone_soul'] = bone_soul\n",
    "# test新欄位\n",
    "test['hair_soul'] = test['hair_length'] * test['has_soul']\n",
    "test['bone_hair'] = test['bone_length'] * test['hair_length']\n",
    "test['bone_soul'] = test['bone_length'] * test['has_soul']"
   ]
  },
  {
   "cell_type": "markdown",
   "metadata": {},
   "source": [
    "### 區分訓練資料、測試資料"
   ]
  },
  {
   "cell_type": "code",
   "execution_count": 14,
   "metadata": {},
   "outputs": [],
   "source": [
    "#train test資料的id\n",
    "index_train = train['id']\n",
    "index_test = test['id']\n",
    "\n",
    "#y_train中type欄位為模型的答案\n",
    "train['type'] = train['type'].map({'Ghost': 1, 'Goblin': 2, 'Ghoul': 3})\n",
    "train_type = train['type']\n",
    "\n",
    "#將train資料中不要進行訓練的欄位刪除\n",
    "train = train.drop(['id','type'],axis=1)\n",
    "test = test.drop(['id'],axis=1)\n",
    "\n",
    "#處理資料中非數值欄位 -> get_dummies\n",
    "train = pd.get_dummies(train)\n",
    "test = pd.get_dummies(test)"
   ]
  },
  {
   "cell_type": "code",
   "execution_count": 15,
   "metadata": {},
   "outputs": [],
   "source": [
    "#區分訓練資料、測試資料\n",
    "X_train,X_test,y_train,y_test = train_test_split(train[train.columns].values,train_type,\n",
    "                                                test_size = 0.3,\n",
    "                                                random_state = 1,\n",
    "                                                stratify = train_type)"
   ]
  },
  {
   "cell_type": "markdown",
   "metadata": {},
   "source": [
    "### 演算法選擇\n",
    "#### 這裡總共選了五種演算法進行模型訓練，分別是: Logistic Regression(羅吉斯迴歸)、SVM (支持向量機)、RandomForest (隨機 森林)、XGBoost(Extreme Gradient Boosting)、 AdaBoost(Adaptive Boosting)，訓練完以上五種模型，最後用投票分 類器(VotingClassifier)進行整體的模型訓練。"
   ]
  },
  {
   "cell_type": "code",
   "execution_count": 16,
   "metadata": {},
   "outputs": [
    {
     "name": "stdout",
     "output_type": "stream",
     "text": [
      "LogisticRegression train/test accuracies 0.753/0.714\n"
     ]
    }
   ],
   "source": [
    "#Logistic Regression\n",
    "lr = LogisticRegression()\n",
    "lr.fit(X_train,y_train)\n",
    "\n",
    "y_train_pred = lr.predict(X_train)\n",
    "y_test_pred = lr.predict(X_test)\n",
    "\n",
    "lr_train = accuracy_score(y_train, y_train_pred)\n",
    "lr_test = accuracy_score(y_test, y_test_pred)\n",
    "print('LogisticRegression train/test accuracies %.3f/%.3f' \n",
    "      % (lr_train, lr_test))"
   ]
  },
  {
   "cell_type": "code",
   "execution_count": 17,
   "metadata": {},
   "outputs": [
    {
     "name": "stdout",
     "output_type": "stream",
     "text": [
      "std+LogisticRegression train/test accuracies 0.780/0.741\n"
     ]
    }
   ],
   "source": [
    "sc = StandardScaler()\n",
    "X_train_std = sc.fit_transform(X_train)\n",
    "X_test_std = sc.transform(X_test)\n",
    "\n",
    "#std Logistic Regression\n",
    "lr = LogisticRegression()\n",
    "lr.fit(X_train_std,y_train)\n",
    "\n",
    "y_train_pred = lr.predict(X_train_std)\n",
    "y_test_pred = lr.predict(X_test_std)\n",
    "\n",
    "std_lr_train = accuracy_score(y_train, y_train_pred)\n",
    "std_lr_test = accuracy_score(y_test, y_test_pred)\n",
    "print('std+LogisticRegression train/test accuracies %.3f/%.3f' \n",
    "      % (std_lr_train, std_lr_test))"
   ]
  },
  {
   "cell_type": "code",
   "execution_count": 18,
   "metadata": {},
   "outputs": [
    {
     "name": "stdout",
     "output_type": "stream",
     "text": [
      "SVM train/test accuracies 0.745/0.741\n"
     ]
    }
   ],
   "source": [
    "#SVM\n",
    "from sklearn import svm\n",
    "svc = svm.SVC()\n",
    "svc.fit(X_train,y_train)\n",
    "\n",
    "y_train_pred = svc.predict(X_train)\n",
    "y_test_pred = svc.predict(X_test)\n",
    "\n",
    "svc_train = accuracy_score(y_train, y_train_pred)\n",
    "svc_test = accuracy_score(y_test, y_test_pred)\n",
    "\n",
    "print('SVM train/test accuracies %.3f/%.3f' \n",
    "      % (svc_train, svc_test))"
   ]
  },
  {
   "cell_type": "markdown",
   "metadata": {},
   "source": [
    "### GridSearchCV\n",
    "#### 接下來使用的演算法包括:RandomForestClassifier、 AdaBoostClassifier、XGBClassifier，他們所擁有參數會較多，優點 在於這些演算法功能性會較強，缺點是可能會需要較多的時間找到 最好的參數。這裡使用了 scikit-Learn 提供 GridSearchCV 函數，只 要把參數輸入進去，就能給出最優化的結果和參數，這也算是暴力 搜尋的方法。"
   ]
  },
  {
   "cell_type": "code",
   "execution_count": 19,
   "metadata": {},
   "outputs": [
    {
     "name": "stdout",
     "output_type": "stream",
     "text": [
      "{'max_depth': 3, 'min_samples_split': 7, 'n_estimators': 15}\n",
      "RandomForestClassifier train/test accuracies 0.819/0.750\n"
     ]
    }
   ],
   "source": [
    "# RandomForestClassifier\n",
    "rf = RandomForestClassifier(criterion = 'entropy',max_features = None)\n",
    "param_dict = {'n_estimators' : [5,10,15,20],\n",
    "              'max_depth' : [3,5,10],\n",
    "              'min_samples_split' : [2, 5, 7]\n",
    "                 }\n",
    "\n",
    "grid = GridSearchCV(rf, param_grid=param_dict, scoring='accuracy', cv=5)\n",
    "grid.fit(X_train, y_train)\n",
    "\n",
    "best_estimator = grid.best_estimator_ #回傳最好的參數組合\n",
    "print(format(grid.best_params_))\n",
    "\n",
    "best_estimator.fit(X_train,y_train)\n",
    "\n",
    "y_train_pred = best_estimator.predict(X_train)\n",
    "y_test_pred = best_estimator.predict(X_test)\n",
    "\n",
    "rf_train = accuracy_score(y_train, y_train_pred)\n",
    "rf_test = accuracy_score(y_test, y_test_pred)\n",
    "\n",
    "print('RandomForestClassifier train/test accuracies %.3f/%.3f' \n",
    "      % (rf_train, rf_test))"
   ]
  },
  {
   "cell_type": "code",
   "execution_count": 20,
   "metadata": {},
   "outputs": [
    {
     "name": "stdout",
     "output_type": "stream",
     "text": [
      "{'learning_rate': 0.05, 'n_estimators': 15}\n",
      "AdaBoostClassifier train/test accuracies 0.695/0.705\n"
     ]
    }
   ],
   "source": [
    "ada = AdaBoostClassifier(random_state=0)\n",
    "param_dict = {'n_estimators' : [5,10,15,20],\n",
    "              'learning_rate' : [0.01,0.05,0.1]\n",
    "                }\n",
    "grid = GridSearchCV(ada, param_grid=param_dict, scoring='accuracy', cv=5)\n",
    "grid.fit(X_train, y_train)\n",
    "\n",
    "best_estimator = grid.best_estimator_ #回傳最好的參數組合\n",
    "print(format(grid.best_params_))\n",
    "\n",
    "best_estimator.fit(X_train,y_train)\n",
    "\n",
    "y_train_pred = best_estimator.predict(X_train)\n",
    "y_test_pred = best_estimator.predict(X_test)\n",
    "\n",
    "ada_train = accuracy_score(y_train, y_train_pred)\n",
    "ada_test = accuracy_score(y_test, y_test_pred)\n",
    "\n",
    "print('AdaBoostClassifier train/test accuracies %.3f/%.3f' \n",
    "      % (ada_train, ada_test))"
   ]
  },
  {
   "cell_type": "code",
   "execution_count": 21,
   "metadata": {},
   "outputs": [
    {
     "name": "stdout",
     "output_type": "stream",
     "text": [
      "{'learning_rate': 0.1, 'max_depth': 2, 'n_estimators': 60}\n",
      "XGBClassifier train/test accuracies 0.880/0.741\n"
     ]
    }
   ],
   "source": [
    "xgbc = XGBClassifier()\n",
    "param_dict = {\n",
    "        'n_estimators':[20,40,60,80],\n",
    "        'max_depth':[2,3,4,5],\n",
    "        'learning_rate':[0.01,0.05,0.1],\n",
    "        }\n",
    "grid = GridSearchCV(xgbc ,param_dict, cv = 5, scoring = 'neg_log_loss')\n",
    "grid.fit(X_train,y_train) #訓練\n",
    "\n",
    "best_estimator = grid.best_estimator_ #回傳最好的參數組合\n",
    "print(format(grid.best_params_))\n",
    "\n",
    "best_estimator.fit(X_train,y_train)\n",
    "\n",
    "y_train_pred = best_estimator.predict(X_train)\n",
    "y_test_pred = best_estimator.predict(X_test)\n",
    "\n",
    "xgbc_train = accuracy_score(y_train, y_train_pred)\n",
    "xgbc_test = accuracy_score(y_test, y_test_pred)\n",
    "\n",
    "print('XGBClassifier train/test accuracies %.3f/%.3f' \n",
    "      % (xgbc_train, xgbc_test))"
   ]
  },
  {
   "cell_type": "code",
   "execution_count": 22,
   "metadata": {},
   "outputs": [],
   "source": [
    "lr = LogisticRegression()\n",
    "svc = svm.SVC()\n",
    "rf = RandomForestClassifier(criterion = 'entropy',\n",
    "                            max_features = None,\n",
    "                            max_depth=10,\n",
    "                            min_samples_split=5,\n",
    "                            n_estimators=5)\n",
    "xgbc = XGBClassifier(learning_rate=0.1,\n",
    "                     max_depth=2,\n",
    "                     n_estimators=60)\n",
    "ada = AdaBoostClassifier(random_state=0,\n",
    "                         learning_rate=0.05,\n",
    "                         n_estimators=15)"
   ]
  },
  {
   "cell_type": "markdown",
   "metadata": {},
   "source": [
    "### VotingClassifier\n",
    "#### 使用 votingclassifier 來整合上述模型的訓練結果，目的在於將多個分類器預測出來的結果進行投票的方式，最後得到一個強的整合分類器。\n",
    "\n",
    "#### 其中 votingclassifier 有 voting 的參數可以做調整:\n",
    "#### voting = 'hard':表示最終決策方式爲 Hard Voting Classifier，根 據少數服從多數來決定最終結果。\n",
    "#### voting = 'soft':表示最終決策方式爲 Soft Voting Classifier，將所 有模型預測樣本爲某一類別的概率的平均值作爲標準，概率最 高的對應的類型爲最終的預測結果。"
   ]
  },
  {
   "cell_type": "code",
   "execution_count": 23,
   "metadata": {},
   "outputs": [
    {
     "name": "stdout",
     "output_type": "stream",
     "text": [
      "VotingClassifier accuracy: 0.853\n"
     ]
    }
   ],
   "source": [
    "voting_clf = VotingClassifier(estimators = [('rf', rf), ('svc',svc), ('lr',lr), ('xgbc',xgbc), ('ada', ada)],\n",
    "                              voting = 'hard')\n",
    "voting_clf.fit(X_train_std, y_train)\n",
    "y_pred = voting_clf.predict(X_test_std)\n",
    "print('VotingClassifier accuracy: %.3f' % (voting_clf.score(X_train_std, y_train)))"
   ]
  },
  {
   "cell_type": "markdown",
   "metadata": {},
   "source": [
    "#### 以 votingclassifier 在整個透過 standardscaler 轉換的訓練集資料 中訓練，將訓練好的模型對測試集資料的 type 欄位進行預測。"
   ]
  },
  {
   "cell_type": "code",
   "execution_count": 24,
   "metadata": {},
   "outputs": [],
   "source": [
    "voting_clf.fit(train,train_type)\n",
    "test_pred = voting_clf.predict(test)"
   ]
  },
  {
   "cell_type": "markdown",
   "metadata": {},
   "source": [
    "### 匯出資料與上傳結果"
   ]
  },
  {
   "cell_type": "code",
   "execution_count": 25,
   "metadata": {},
   "outputs": [
    {
     "name": "stdout",
     "output_type": "stream",
     "text": [
      "      id    type\n",
      "0      3   Ghoul\n",
      "1      6  Goblin\n",
      "2      9   Ghoul\n",
      "3     10  Goblin\n",
      "4     13   Ghost\n",
      "..   ...     ...\n",
      "524  893  Goblin\n",
      "525  894   Ghost\n",
      "526  895   Ghoul\n",
      "527  898   Ghost\n",
      "528  899   Ghost\n",
      "\n",
      "[529 rows x 2 columns]\n"
     ]
    }
   ],
   "source": [
    "submit = pd.DataFrame()\n",
    "submit['id'] = index_test\n",
    "submit['type'] = test_pred\n",
    "submit['type'] = submit['type'].map({1:'Ghost',2:'Goblin' ,3:'Ghoul'})\n",
    "print(submit)\n",
    "submit.to_csv(\"sub_vote.csv\",sep=',',header=True,index=None)"
   ]
  },
  {
   "cell_type": "markdown",
   "metadata": {},
   "source": [
    "#### 在使用 RandomForestClassifier 和 XGBClassifier 有發現他們在分別 在 train 資料及 test 資料的預測準確度相差有點多，都是 train 的分 數高出 test 的分數 0.1 左右，可以看出模型過度學習訓練資料，變 得無法順利去預測或分辨不是在訓練資料內的其他資料。\n",
    "\n",
    "#### 模型的 overfitting 的問題，除了可能資料太少之外，也可能因為擁 有太多的參數、功能太強的模型造成的，而這裡主要以減少欄位特 徵來著手，以下以 XGBClassifier 作為嘗試:\n",
    "\n",
    "#### 檢查 XGBClassifier 模型的各 feature 重要程度並視覺化呈現。圖中 可以看出特徵欄位的重要程度前五名為:hair_soul、bone_hair、 rotting_flesh、hair_length、bone_soul。"
   ]
  },
  {
   "cell_type": "code",
   "execution_count": 26,
   "metadata": {},
   "outputs": [
    {
     "data": {
      "text/plain": [
       "<matplotlib.axes._subplots.AxesSubplot at 0x1a26acda90>"
      ]
     },
     "execution_count": 26,
     "metadata": {},
     "output_type": "execute_result"
    },
    {
     "data": {
      "image/png": "[encoded data removed]",
      "text/plain": [
       "<Figure size 720x432 with 1 Axes>"
      ]
     },
     "metadata": {},
     "output_type": "display_data"
    }
   ],
   "source": [
    "#xgboost feature importance\n",
    "xgbc_feature_df = pd.DataFrame()\n",
    "xgbc_feature_df['col_names'] = train.columns\n",
    "xgbc_feature_df['importance'] = best_estimator.feature_importances_\n",
    "xgbc_feature_df = xgbc_feature_df.sort_values(['importance'],ascending=False).reset_index(drop=True)\n",
    "\n",
    "plt.figure(figsize=(10,6))\n",
    "plt.xticks(rotation=45)\n",
    "sns.barplot(x='col_names',y='importance',data = xgbc_feature_df)"
   ]
  },
  {
   "cell_type": "markdown",
   "metadata": {},
   "source": [
    "#### 只取這個五個欄位再進行一次 train_test_split。最後使用 XGBClassifier 建立模型，並用 GridSearchCV 函數找出該 演算法最佳參數。這裡可以看出分別在 train 資料及 test 資料的預測 準確度，分別是 0.857 和 0.741。從原本的分數為 0.880 和 0.741， train 的準確度有下降的趨勢，看起來 overfitting 的程度有下降的趨勢，但是在 test 資料集的準確度一樣是 0.741，因此沒有做後續的更動。"
   ]
  },
  {
   "cell_type": "code",
   "execution_count": 27,
   "metadata": {},
   "outputs": [],
   "source": [
    "#挑選前五重要參數，解決overfitting問題\n",
    "f5 = xgbc_feature_df['col_names'].head(5).values\n",
    "new_train = train[f5]\n",
    "new_test = test[f5]"
   ]
  },
  {
   "cell_type": "code",
   "execution_count": 28,
   "metadata": {},
   "outputs": [],
   "source": [
    "#區分訓練資料、測試資料\n",
    "X_train,X_test,y_train,y_test = train_test_split(new_train[new_train.columns].values,train_type,\n",
    "                                                test_size = 0.3,\n",
    "                                                random_state = 1,\n",
    "                                                stratify = train_type)"
   ]
  },
  {
   "cell_type": "code",
   "execution_count": 29,
   "metadata": {
    "scrolled": true
   },
   "outputs": [
    {
     "name": "stdout",
     "output_type": "stream",
     "text": [
      "XGBClassifier(base_score=0.5, booster='gbtree', colsample_bylevel=1,\n",
      "              colsample_bynode=1, colsample_bytree=1, gamma=0,\n",
      "              learning_rate=0.1, max_delta_step=0, max_depth=2,\n",
      "              min_child_weight=1, missing=None, n_estimators=50, n_jobs=1,\n",
      "              nthread=None, objective='multi:softprob', random_state=0,\n",
      "              reg_alpha=0, reg_lambda=1, scale_pos_weight=1, seed=None,\n",
      "              silent=None, subsample=1, verbosity=1)\n",
      "XGBClassifier train/test accuracies 0.857/0.741\n"
     ]
    }
   ],
   "source": [
    "xgbc = XGBClassifier()\n",
    "param_dict = {\n",
    "        'n_estimators':[30,40,50,60],\n",
    "        'max_depth':[2,3,4,5],\n",
    "        'learning_rate':[0.01,0.05,0.1],\n",
    "        }\n",
    "grid = GridSearchCV(xgbc ,param_dict, cv = 5, scoring = 'neg_log_loss')\n",
    "grid.fit(X_train,y_train) #訓練\n",
    "best_estimator = grid.best_estimator_ #回傳最好的參數組合\n",
    "print(best_estimator)\n",
    "\n",
    "best_estimator.fit(X_train,y_train)\n",
    "\n",
    "y_train_pred = best_estimator.predict(X_train)\n",
    "y_test_pred = best_estimator.predict(X_test)\n",
    "\n",
    "xgbc_train = accuracy_score(y_train, y_train_pred)\n",
    "xgbc_test = accuracy_score(y_test, y_test_pred)\n",
    "\n",
    "print('XGBClassifier train/test accuracies %.3f/%.3f' \n",
    "      % (xgbc_train, xgbc_test))"
   ]
  },
  {
   "cell_type": "markdown",
   "metadata": {},
   "source": [
    "### Reference:\n",
    "\n",
    "1. Ghosts, Goblins, and Ghouls. Oh my!\n",
    "\n",
    "  https://www.kaggle.com/amberthomas/ghosts-goblins-and-ghouls-oh-my\n",
    "2. Machine Learning With Ghouls, Goblins and Ghosts \n",
    "\n",
    "  https://www.kaggle.com/samratp/machine-learning-with-ghouls-goblins-and-ghosts\n",
    "3.  Jupyter notebook with my solution to kaggle competition \"Ghouls,\n",
    " Goblins, and Ghosts... Boo!\"\n",
    "\n",
    "    https://github.com/SuperPolyakov/ghosts_ghouls_goblins/blob/master/ghosts_ghouls_and_goblins.ipynb\n",
    "4. 機器學習_ML_GridSearchCV_網格搜尋\n",
    "\n",
    "  https://martychen920.blogspot.com/2017/09/ml-gridsearchcv.html\n",
    "5. [機器學習 ML NOTE]Overfitting 過度學習\n",
    "\n",
    "    https://medium.com/%E9%9B%9E%E9%9B%9E%E8%88%87%E5%85%94%E5%85%94%E7%9A%84%E5%B7%A5%E7%A8%8B%E4%B8%96%E7%95%8C/%E6%A9%9F%E5%99%A8%E5%AD%B8%E7%BF%92-ml-note-overfitting-%E9%81%8E%E5%BA%A6%E5%AD%B8%E7%BF%92-6196902481bb\n",
    "6. 机器学习:集成学习(Soft Voting Classifier)\n",
    "  \n",
    "  https://www.cnblogs.com/volcao/p/9483026.html\n",
    "7. scikit-learn 官方文件\n",
    "  \n",
    "  https://scikit-learn.org/stable/user_guide.html"
   ]
  },
  {
   "cell_type": "code",
   "execution_count": null,
   "metadata": {},
   "outputs": [],
   "source": []
  }
 ],
 "metadata": {
  "kernelspec": {
   "display_name": "Python 3 (ipykernel)",
   "language": "python",
   "name": "python3"
  },
  "language_info": {
   "codemirror_mode": {
    "name": "ipython",
    "version": 3
   },
   "file_extension": ".py",
   "mimetype": "text/x-python",
   "name": "python",
   "nbconvert_exporter": "python",
   "pygments_lexer": "ipython3",
   "version": "3.7.4"
  }
 },
 "nbformat": 4,
 "nbformat_minor": 2
}
