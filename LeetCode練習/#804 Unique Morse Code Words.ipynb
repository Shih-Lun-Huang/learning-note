{
 "cells": [
  {
   "cell_type": "code",
   "execution_count": 1,
   "metadata": {},
   "outputs": [],
   "source": [
    "import string #用來製造a-z的list\n",
    "from typing import List"
   ]
  },
  {
   "cell_type": "code",
   "execution_count": 2,
   "metadata": {},
   "outputs": [],
   "source": [
    "az = string.ascii_lowercase[:]\n",
    "code = [\".-\",\"-...\",\"-.-.\",\"-..\",\".\",\"..-.\",\"--.\",\"....\",\"..\",\".---\",\"-.-\",\".-..\",\"--\",\"-.\",\"---\",\".--.\",\"--.-\",\".-.\",\"...\",\"-\",\"..-\",\"...-\",\".--\",\"-..-\",\"-.--\",\"--..\"]"
   ]
  },
  {
   "cell_type": "code",
   "execution_count": 3,
   "metadata": {},
   "outputs": [
    {
     "name": "stdout",
     "output_type": "stream",
     "text": [
      "{'a': '.-', 'b': '-...', 'c': '-.-.', 'd': '-..', 'e': '.', 'f': '..-.', 'g': '--.', 'h': '....', 'i': '..', 'j': '.---', 'k': '-.-', 'l': '.-..', 'm': '--', 'n': '-.', 'o': '---', 'p': '.--.', 'q': '--.-', 'r': '.-.', 's': '...', 't': '-', 'u': '..-', 'v': '...-', 'w': '.--', 'x': '-..-', 'y': '-.--', 'z': '--..'}\n"
     ]
    }
   ],
   "source": [
    "map_d = {}\n",
    "for i,j in zip(az,code):\n",
    "    map_d.update({i:j})\n",
    "print(map_d)"
   ]
  },
  {
   "cell_type": "code",
   "execution_count": 4,
   "metadata": {},
   "outputs": [],
   "source": [
    "class Solution:\n",
    "    def uniqueMorseRepresentations(self, words: List[str]) -> int:\n",
    "        #map_d的結果複製\n",
    "        map_d = {'a': '.-',\n",
    "                 'b': '-...',\n",
    "                 'c': '-.-.',\n",
    "                 'd': '-..',\n",
    "                 'e': '.',\n",
    "                 'f': '..-.',\n",
    "                 'g': '--.',\n",
    "                 'h': '....',\n",
    "                 'i': '..',\n",
    "                 'j': '.---',\n",
    "                 'k': '-.-',\n",
    "                 'l': '.-..',\n",
    "                 'm': '--',\n",
    "                 'n': '-.',\n",
    "                 'o': '---',\n",
    "                 'p': '.--.',\n",
    "                 'q': '--.-',\n",
    "                 'r': '.-.',\n",
    "                 's': '...',\n",
    "                 't': '-',\n",
    "                 'u': '..-',\n",
    "                 'v': '...-',\n",
    "                 'w': '.--',\n",
    "                 'x': '-..-',\n",
    "                 'y': '-.--',\n",
    "                 'z': '--..'}\n",
    "        res = []\n",
    "        for w in words:\n",
    "            _str = ''\n",
    "            for i in list(w):\n",
    "                _str += map_d[i]\n",
    "            if _str not in res:\n",
    "                res.append(_str)\n",
    "        return len(res)"
   ]
  },
  {
   "cell_type": "code",
   "execution_count": null,
   "metadata": {},
   "outputs": [],
   "source": []
  }
 ],
 "metadata": {
  "kernelspec": {
   "display_name": "Python 3",
   "language": "python",
   "name": "python3"
  },
  "language_info": {
   "codemirror_mode": {
    "name": "ipython",
    "version": 3
   },
   "file_extension": ".py",
   "mimetype": "text/x-python",
   "name": "python",
   "nbconvert_exporter": "python",
   "pygments_lexer": "ipython3",
   "version": "3.7.4"
  }
 },
 "nbformat": 4,
 "nbformat_minor": 2
}
