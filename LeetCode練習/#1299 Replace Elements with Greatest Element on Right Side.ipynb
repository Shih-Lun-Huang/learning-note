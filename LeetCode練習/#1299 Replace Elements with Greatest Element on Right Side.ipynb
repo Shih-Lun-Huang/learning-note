{
 "cells": [
  {
   "cell_type": "code",
   "execution_count": 144,
   "metadata": {},
   "outputs": [],
   "source": [
    "from typing import List"
   ]
  },
  {
   "cell_type": "code",
   "execution_count": 145,
   "metadata": {},
   "outputs": [],
   "source": [
    "#ANS1\n",
    "class Solution:\n",
    "    def replaceElements(self, arr: List[int]) -> List[int]:\n",
    "        i = 0\n",
    "        l = []\n",
    "        while i < len(arr)-1:\n",
    "            max_num = max(arr[i+1:])\n",
    "            x = arr.index(max_num)-i\n",
    "            if  x > 1:\n",
    "                l.extend([max_num]*(x-1))\n",
    "                i = arr.index(max_num)\n",
    "            else : i+=1\n",
    "            l.append(max_num)\n",
    "        return l + [-1]"
   ]
  },
  {
   "cell_type": "code",
   "execution_count": 146,
   "metadata": {},
   "outputs": [],
   "source": [
    "#BETTER ANS2\n",
    "class Solution:\n",
    "    def replaceElements(self, arr: List[int]) -> List[int]:\n",
    "        res = [-1]*len(arr)\n",
    "        for i in range(len(arr)-2,-1,-1):\n",
    "            res[i] = max(res[i+1],arr[i+1])\n",
    "        return res"
   ]
  },
  {
   "cell_type": "code",
   "execution_count": null,
   "metadata": {},
   "outputs": [],
   "source": []
  }
 ],
 "metadata": {
  "kernelspec": {
   "display_name": "Python 3",
   "language": "python",
   "name": "python3"
  },
  "language_info": {
   "codemirror_mode": {
    "name": "ipython",
    "version": 3
   },
   "file_extension": ".py",
   "mimetype": "text/x-python",
   "name": "python",
   "nbconvert_exporter": "python",
   "pygments_lexer": "ipython3",
   "version": "3.7.4"
  }
 },
 "nbformat": 4,
 "nbformat_minor": 2
}
