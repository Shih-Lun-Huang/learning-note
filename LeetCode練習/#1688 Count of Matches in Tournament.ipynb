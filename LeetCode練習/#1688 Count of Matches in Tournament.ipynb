{
 "cells": [
  {
   "cell_type": "code",
   "execution_count": 1,
   "id": "b3eb8c6e",
   "metadata": {},
   "outputs": [],
   "source": [
    "# basic\n",
    "class Solution:\n",
    "    def numberOfMatches(self, n: int) -> int:\n",
    "        res = 0\n",
    "        while True:\n",
    "            match = n//2\n",
    "            res += match\n",
    "            n -= match\n",
    "            if n == 1:\n",
    "                break\n",
    "        return res\n",
    "    def numberOfMatches2(self, n: int) -> int:\n",
    "        return n-1"
   ]
  },
  {
   "cell_type": "code",
   "execution_count": null,
   "id": "fc4b2964",
   "metadata": {},
   "outputs": [],
   "source": []
  }
 ],
 "metadata": {
  "kernelspec": {
   "display_name": "Python 3 (ipykernel)",
   "language": "python",
   "name": "python3"
  },
  "language_info": {
   "codemirror_mode": {
    "name": "ipython",
    "version": 3
   },
   "file_extension": ".py",
   "mimetype": "text/x-python",
   "name": "python",
   "nbconvert_exporter": "python",
   "pygments_lexer": "ipython3",
   "version": "3.7.4"
  }
 },
 "nbformat": 4,
 "nbformat_minor": 5
}
