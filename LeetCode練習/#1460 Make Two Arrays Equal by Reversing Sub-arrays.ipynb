{
 "cells": [
  {
   "cell_type": "code",
   "execution_count": 1,
   "metadata": {},
   "outputs": [],
   "source": [
    "from typing import List"
   ]
  },
  {
   "cell_type": "code",
   "execution_count": 2,
   "metadata": {},
   "outputs": [],
   "source": [
    "class Solution:\n",
    "    def canBeEqual(self, target: List[int], arr: List[int]) -> bool:\n",
    "        def c(l):\n",
    "            d = {}\n",
    "            for i in l:\n",
    "                if i not in d:\n",
    "                    d.update({i:1})\n",
    "                else: d[i]+=1\n",
    "            return d\n",
    "        return True if c(target) == c(arr) else False"
   ]
  },
  {
   "cell_type": "code",
   "execution_count": 3,
   "metadata": {},
   "outputs": [],
   "source": [
    "#better sol(?).\n",
    "from collections import Counter\n",
    "class Solution:\n",
    "    def canBeEqual(self, target: List[int], arr: List[int]) -> bool:\n",
    "        return True if Counter(target) == Counter(arr) else False"
   ]
  },
  {
   "cell_type": "code",
   "execution_count": null,
   "metadata": {},
   "outputs": [],
   "source": []
  }
 ],
 "metadata": {
  "kernelspec": {
   "display_name": "Python 3",
   "language": "python",
   "name": "python3"
  },
  "language_info": {
   "codemirror_mode": {
    "name": "ipython",
    "version": 3
   },
   "file_extension": ".py",
   "mimetype": "text/x-python",
   "name": "python",
   "nbconvert_exporter": "python",
   "pygments_lexer": "ipython3",
   "version": "3.7.4"
  }
 },
 "nbformat": 4,
 "nbformat_minor": 2
}
