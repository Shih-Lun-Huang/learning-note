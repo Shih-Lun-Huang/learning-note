{
 "cells": [
  {
   "cell_type": "code",
   "execution_count": 1,
   "id": "4c2e09ac",
   "metadata": {},
   "outputs": [],
   "source": [
    "class Solution:\n",
    "    def sortSentence(self, s: str) -> str:\n",
    "        split_s = s.split(' ')\n",
    "        arr = [''] * len(split_s)\n",
    "        for i in range(len(arr)):\n",
    "            arr[int(split_s[i][-1])-1] = split_s[i][:-1]\n",
    "        return ' '.join(arr)\n",
    "    \n",
    "    def sortSentence2(self, s: str) -> str:\n",
    "        myDict=dict()\n",
    "        s=s.split(' ')\n",
    "        myLine=''\n",
    "        for word in s:\n",
    "            myDict[word[-1]]=word[:-1]\n",
    "        for i in range(len(s)-1):\n",
    "            myLine=myLine+str(myDict[str(i+1)])+\" \"\n",
    "        myLine=myLine+str(myDict[str(len(s))])\n",
    "        return myLine"
   ]
  },
  {
   "cell_type": "code",
   "execution_count": null,
   "id": "c96d7b38",
   "metadata": {},
   "outputs": [],
   "source": []
  }
 ],
 "metadata": {
  "kernelspec": {
   "display_name": "Python 3 (ipykernel)",
   "language": "python",
   "name": "python3"
  },
  "language_info": {
   "codemirror_mode": {
    "name": "ipython",
    "version": 3
   },
   "file_extension": ".py",
   "mimetype": "text/x-python",
   "name": "python",
   "nbconvert_exporter": "python",
   "pygments_lexer": "ipython3",
   "version": "3.7.4"
  }
 },
 "nbformat": 4,
 "nbformat_minor": 5
}
