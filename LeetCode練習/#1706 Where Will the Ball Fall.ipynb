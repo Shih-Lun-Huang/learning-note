{
 "cells": [
  {
   "cell_type": "code",
   "execution_count": 1,
   "id": "e3ffcd6a",
   "metadata": {},
   "outputs": [],
   "source": [
    "from typing import List"
   ]
  },
  {
   "cell_type": "code",
   "execution_count": 2,
   "id": "035ba27b",
   "metadata": {},
   "outputs": [],
   "source": [
    "class Solution:\n",
    "    def findBall(self, grid: List[List[int]]) -> List[int]:\n",
    "        grid_layer = len(grid)\n",
    "        grid_len = len(grid[0])\n",
    "        res = [-1] * grid_len\n",
    "\n",
    "        init_pos = 0\n",
    "        for pos in range(grid_len):\n",
    "            for i in range(grid_layer):\n",
    "                current = grid[i][pos]\n",
    "                if current == 1:\n",
    "                    if pos+1 != grid_len:\n",
    "                        if grid[i][pos+1] != -1:\n",
    "                            pos+=1\n",
    "                        else: \n",
    "                            break \n",
    "                    else:\n",
    "                        break   \n",
    "                else:\n",
    "                    if pos > 0:\n",
    "                        if grid[i][pos-1] != 1:\n",
    "                            pos-=1\n",
    "                        else: \n",
    "                            break\n",
    "                    else:\n",
    "                        break\n",
    "                if i == grid_layer -1: \n",
    "                    res[init_pos] = pos\n",
    "            init_pos+=1\n",
    "        return res"
   ]
  },
  {
   "cell_type": "code",
   "execution_count": null,
   "id": "535c4bd5",
   "metadata": {},
   "outputs": [],
   "source": []
  }
 ],
 "metadata": {
  "kernelspec": {
   "display_name": "Python 3 (ipykernel)",
   "language": "python",
   "name": "python3"
  },
  "language_info": {
   "codemirror_mode": {
    "name": "ipython",
    "version": 3
   },
   "file_extension": ".py",
   "mimetype": "text/x-python",
   "name": "python",
   "nbconvert_exporter": "python",
   "pygments_lexer": "ipython3",
   "version": "3.7.4"
  }
 },
 "nbformat": 4,
 "nbformat_minor": 5
}
