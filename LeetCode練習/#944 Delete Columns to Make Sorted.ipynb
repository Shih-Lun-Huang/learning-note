{
 "cells": [
  {
   "cell_type": "code",
   "execution_count": 1,
   "id": "6531fb51",
   "metadata": {},
   "outputs": [],
   "source": [
    "from typing import List"
   ]
  },
  {
   "cell_type": "code",
   "execution_count": 2,
   "id": "3af98e82",
   "metadata": {},
   "outputs": [],
   "source": [
    "class Solution:\n",
    "    def minDeletionSize(self, strs: List[str]) -> int:\n",
    "        subsets = [list(x) for x in zip(*strs)]\n",
    "        sorted_subsets = [sorted(x) for x in subsets]\n",
    "        res = 0\n",
    "        for i in range(len(subsets)):\n",
    "            if subsets[i] != sorted_subsets[i]:\n",
    "                res += 1\n",
    "        return res\n",
    "    def minDeletionSize2(self, strs: List[str]) -> int:\n",
    "        return len([list(x) for x in zip(*strs) if list(x) != sorted(x)])"
   ]
  },
  {
   "cell_type": "code",
   "execution_count": 3,
   "id": "2a5d4fd4",
   "metadata": {},
   "outputs": [
    {
     "data": {
      "text/plain": [
       "1"
      ]
     },
     "execution_count": 3,
     "metadata": {},
     "output_type": "execute_result"
    }
   ],
   "source": [
    "strs = [\"cba\",\"daf\",\"ghi\"]\n",
    "Solution().minDeletionSize(strs)"
   ]
  },
  {
   "cell_type": "code",
   "execution_count": 4,
   "id": "5ae6f58b",
   "metadata": {},
   "outputs": [
    {
     "data": {
      "text/plain": [
       "1"
      ]
     },
     "execution_count": 4,
     "metadata": {},
     "output_type": "execute_result"
    }
   ],
   "source": [
    "strs = [\"cba\",\"daf\",\"ghi\"]\n",
    "Solution().minDeletionSize2(strs)"
   ]
  },
  {
   "cell_type": "code",
   "execution_count": null,
   "id": "ad7ed009",
   "metadata": {},
   "outputs": [],
   "source": []
  }
 ],
 "metadata": {
  "kernelspec": {
   "display_name": "Python 3 (ipykernel)",
   "language": "python",
   "name": "python3"
  },
  "language_info": {
   "codemirror_mode": {
    "name": "ipython",
    "version": 3
   },
   "file_extension": ".py",
   "mimetype": "text/x-python",
   "name": "python",
   "nbconvert_exporter": "python",
   "pygments_lexer": "ipython3",
   "version": "3.7.4"
  }
 },
 "nbformat": 4,
 "nbformat_minor": 5
}
