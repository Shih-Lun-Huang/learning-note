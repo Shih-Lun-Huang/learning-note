{
 "cells": [
  {
   "cell_type": "code",
   "execution_count": 1,
   "id": "b0dc9dc2",
   "metadata": {},
   "outputs": [],
   "source": [
    "# too slow"
   ]
  },
  {
   "cell_type": "code",
   "execution_count": 2,
   "id": "106c77cb",
   "metadata": {},
   "outputs": [],
   "source": [
    "from itertools import combinations\n",
    "from collections import Counter\n",
    "from typing import List"
   ]
  },
  {
   "cell_type": "code",
   "execution_count": 3,
   "id": "9ed3759f",
   "metadata": {},
   "outputs": [],
   "source": [
    "class Solution:\n",
    "    def maxScoreWords(self, words: List[str], letters: List[str], score: List[int]) -> int:\n",
    "        _str = \"abcdefghijklmnopqrstuvwxyz\"\n",
    "        #計算題目letters數量\n",
    "        letters_init_dict = Counter(letters)\n",
    "        \n",
    "        _all = []\n",
    "        for i in range(1,len(words)+1):\n",
    "            _all.extend([''.join(x) for x in list(combinations(words, i))])\n",
    "\n",
    "        _all2 = []\n",
    "        for x in _all:\n",
    "            total = 0\n",
    "            count_dict = Counter(x)\n",
    "            _count = 0\n",
    "            for _key in count_dict:\n",
    "                if count_dict[_key] <= letters_init_dict[_key]:\n",
    "                    total+=score[_str.index(_key)]*count_dict[_key]\n",
    "                    _count+=1\n",
    "                else:\n",
    "                    break\n",
    "            if _count == len(count_dict):\n",
    "                _all2.append(total)\n",
    "\n",
    "        if _all2: \n",
    "            return max(_all2)\n",
    "        else:\n",
    "            return 0"
   ]
  },
  {
   "cell_type": "code",
   "execution_count": 4,
   "id": "4444a33b",
   "metadata": {},
   "outputs": [
    {
     "data": {
      "text/plain": [
       "23"
      ]
     },
     "execution_count": 4,
     "metadata": {},
     "output_type": "execute_result"
    }
   ],
   "source": [
    "words = [\"dog\",\"cat\",\"dad\",\"good\"]\n",
    "letters = [\"a\",\"a\",\"c\",\"d\",\"d\",\"d\",\"g\",\"o\",\"o\"]\n",
    "score = [1,0,9,5,0,0,3,0,0,0,0,0,0,0,2,0,0,0,0,0,0,0,0,0,0,0]\n",
    "Solution().maxScoreWords(words, letters, score)"
   ]
  },
  {
   "cell_type": "code",
   "execution_count": 5,
   "id": "6df12645",
   "metadata": {},
   "outputs": [
    {
     "data": {
      "text/plain": [
       "27"
      ]
     },
     "execution_count": 5,
     "metadata": {},
     "output_type": "execute_result"
    }
   ],
   "source": [
    "words = [\"xxxz\",\"ax\",\"bx\",\"cx\"]\n",
    "letters = [\"z\",\"a\",\"b\",\"c\",\"x\",\"x\",\"x\"]\n",
    "score = [4,4,4,0,0,0,0,0,0,0,0,0,0,0,0,0,0,0,0,0,0,0,0,5,0,10]\n",
    "Solution().maxScoreWords(words, letters, score)"
   ]
  },
  {
   "cell_type": "code",
   "execution_count": 6,
   "id": "b8ba720b",
   "metadata": {},
   "outputs": [
    {
     "data": {
      "text/plain": [
       "0"
      ]
     },
     "execution_count": 6,
     "metadata": {},
     "output_type": "execute_result"
    }
   ],
   "source": [
    "words = [\"leetcode\"]\n",
    "letters = [\"l\",\"e\",\"t\",\"c\",\"o\",\"d\"]\n",
    "score = [0,0,1,1,1,0,0,0,0,0,0,1,0,0,1,0,0,0,0,1,0,0,0,0,0,0]\n",
    "Solution().maxScoreWords(words, letters, score)"
   ]
  },
  {
   "cell_type": "code",
   "execution_count": null,
   "id": "4679af40",
   "metadata": {},
   "outputs": [],
   "source": []
  }
 ],
 "metadata": {
  "kernelspec": {
   "display_name": "Python 3 (ipykernel)",
   "language": "python",
   "name": "python3"
  },
  "language_info": {
   "codemirror_mode": {
    "name": "ipython",
    "version": 3
   },
   "file_extension": ".py",
   "mimetype": "text/x-python",
   "name": "python",
   "nbconvert_exporter": "python",
   "pygments_lexer": "ipython3",
   "version": "3.7.4"
  }
 },
 "nbformat": 4,
 "nbformat_minor": 5
}
