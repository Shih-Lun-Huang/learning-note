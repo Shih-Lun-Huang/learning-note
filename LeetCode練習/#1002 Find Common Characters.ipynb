{
 "cells": [
  {
   "cell_type": "code",
   "execution_count": 1,
   "id": "c8e1e569",
   "metadata": {},
   "outputs": [],
   "source": [
    "from collections import Counter\n",
    "from typing import List"
   ]
  },
  {
   "cell_type": "code",
   "execution_count": 2,
   "id": "2f1ead0b",
   "metadata": {},
   "outputs": [],
   "source": [
    "class Solution:\n",
    "    def commonChars(self, words: List[str]) -> List[str]:\n",
    "        count_dict = Counter(words[0])\n",
    "        for i in range(1,len(words)):\n",
    "            new_count_dict = dict()\n",
    "            for k,v in Counter(words[i]).items():\n",
    "                if k in count_dict:\n",
    "                    new_count_dict[k] = min(v, count_dict[k])\n",
    "            count_dict = new_count_dict\n",
    "\n",
    "        res = []\n",
    "        for k,v in count_dict.items():\n",
    "            res += [k]*v\n",
    "        return res\n",
    "    #https://leetcode.com/problems/find-common-characters/discuss/332733/Python-Solution-Easy-to-Understand\n",
    "    def commonChars2(self, words: List[str]) -> List[str]:\n",
    "        check = list(words[0])\n",
    "        for word in words:\n",
    "            newCheck = []\n",
    "            for c in word:\n",
    "                if c in check:\n",
    "                    newCheck.append(c)\n",
    "                    check.remove(c)\n",
    "            check = newCheck\n",
    "        return check"
   ]
  },
  {
   "cell_type": "code",
   "execution_count": 3,
   "id": "5bec5eb1",
   "metadata": {},
   "outputs": [
    {
     "name": "stdout",
     "output_type": "stream",
     "text": [
      "['j']\n"
     ]
    }
   ],
   "source": [
    "words = [\"belsjlsqq\",\"jaijwof\",\"qpowjdn\"]\n",
    "print(Solution().commonChars(words))"
   ]
  },
  {
   "cell_type": "code",
   "execution_count": 4,
   "id": "31de0d36",
   "metadata": {},
   "outputs": [
    {
     "name": "stdout",
     "output_type": "stream",
     "text": [
      "['j']\n"
     ]
    }
   ],
   "source": [
    "words = [\"belsjlsqq\",\"jaijwof\",\"qpowjdn\"]\n",
    "print(Solution().commonChars2(words))"
   ]
  },
  {
   "cell_type": "code",
   "execution_count": null,
   "id": "dc81066c",
   "metadata": {},
   "outputs": [],
   "source": []
  }
 ],
 "metadata": {
  "kernelspec": {
   "display_name": "Python 3 (ipykernel)",
   "language": "python",
   "name": "python3"
  },
  "language_info": {
   "codemirror_mode": {
    "name": "ipython",
    "version": 3
   },
   "file_extension": ".py",
   "mimetype": "text/x-python",
   "name": "python",
   "nbconvert_exporter": "python",
   "pygments_lexer": "ipython3",
   "version": "3.7.4"
  }
 },
 "nbformat": 4,
 "nbformat_minor": 5
}
