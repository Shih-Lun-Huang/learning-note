{
 "cells": [
  {
   "cell_type": "code",
   "execution_count": 1,
   "id": "2d380b32",
   "metadata": {},
   "outputs": [],
   "source": [
    "import re"
   ]
  },
  {
   "cell_type": "code",
   "execution_count": 2,
   "id": "6b14c570",
   "metadata": {},
   "outputs": [],
   "source": [
    "class Solution:\n",
    "    def decodeString(self, s: str) -> str:\n",
    "        regex = re.compile('(\\d+)\\[([a-z]+)\\]')\n",
    "        while True:\n",
    "            match = regex.search(s)\n",
    "            if match:\n",
    "                s = s.replace(match.group(), int(match.group(1))*match.group(2))\n",
    "            else:\n",
    "                return s"
   ]
  }
 ],
 "metadata": {
  "kernelspec": {
   "display_name": "Python 3 (ipykernel)",
   "language": "python",
   "name": "python3"
  },
  "language_info": {
   "codemirror_mode": {
    "name": "ipython",
    "version": 3
   },
   "file_extension": ".py",
   "mimetype": "text/x-python",
   "name": "python",
   "nbconvert_exporter": "python",
   "pygments_lexer": "ipython3",
   "version": "3.7.4"
  }
 },
 "nbformat": 4,
 "nbformat_minor": 5
}
