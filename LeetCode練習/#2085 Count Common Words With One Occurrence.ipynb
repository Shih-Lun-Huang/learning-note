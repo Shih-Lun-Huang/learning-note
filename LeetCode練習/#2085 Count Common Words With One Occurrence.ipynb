{
 "cells": [
  {
   "cell_type": "code",
   "execution_count": 1,
   "id": "bd01c6d4",
   "metadata": {},
   "outputs": [],
   "source": [
    "from collections import Counter\n",
    "from typing import List"
   ]
  },
  {
   "cell_type": "code",
   "execution_count": 2,
   "id": "49a64f28",
   "metadata": {},
   "outputs": [],
   "source": [
    "class Solution:\n",
    "    def countWords(self, words1: List[str], words2: List[str]) -> int:\n",
    "        c1 = {k:v for (k,v) in Counter(words1).items() if v == 1}\n",
    "        c2 = {k:v for (k,v) in Counter(words2).items() if v == 1}\n",
    "        return len(set(c1) & set(c2))"
   ]
  },
  {
   "cell_type": "code",
   "execution_count": null,
   "id": "1706f9d2",
   "metadata": {},
   "outputs": [],
   "source": []
  }
 ],
 "metadata": {
  "kernelspec": {
   "display_name": "Python 3 (ipykernel)",
   "language": "python",
   "name": "python3"
  },
  "language_info": {
   "codemirror_mode": {
    "name": "ipython",
    "version": 3
   },
   "file_extension": ".py",
   "mimetype": "text/x-python",
   "name": "python",
   "nbconvert_exporter": "python",
   "pygments_lexer": "ipython3",
   "version": "3.7.4"
  }
 },
 "nbformat": 4,
 "nbformat_minor": 5
}
