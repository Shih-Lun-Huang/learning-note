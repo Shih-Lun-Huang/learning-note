{
 "cells": [
  {
   "cell_type": "code",
   "execution_count": 1,
   "id": "e3942c9d",
   "metadata": {},
   "outputs": [],
   "source": [
    "class Solution:\n",
    "    def isSumEqual(self, firstWord: str, secondWord: str, targetWord: str) -> bool:\n",
    "        _dict = {\n",
    "            'a': '0',\n",
    "            'b': '1',\n",
    "            'c': '2',\n",
    "            'd': '3',\n",
    "            'e': '4',\n",
    "            'f': '5',\n",
    "            'g': '6',\n",
    "            'h': '7',\n",
    "            'i': '8',\n",
    "            'j': '9',\n",
    "        }\n",
    "        if int(''.join([_dict[x] for x in firstWord])) + int(''.join([_dict[x] for x in secondWord])) == int(''.join([_dict[x] for x in targetWord])):\n",
    "            return True\n",
    "        else:\n",
    "            return False\n",
    "    def isSumEqual2(self, firstWord: str, secondWord: str, targetWord: str) -> bool:\n",
    "        dic = {'a':'0','b':'1','c':'2','d':'3','e':'4','f':'5','g':'6','h':'7','i':'8','j':'9'}\n",
    "        w1,w2,wt = '','',''\n",
    "        for item in firstWord:\n",
    "            w1 += dic[item]\n",
    "        for item in secondWord:\n",
    "            w2 += dic[item]\n",
    "        for item in targetWord:\n",
    "            wt += dic[item]\n",
    "        return True if int(w1) + int(w2) == int(wt) else False"
   ]
  },
  {
   "cell_type": "code",
   "execution_count": null,
   "id": "43910903",
   "metadata": {},
   "outputs": [],
   "source": []
  }
 ],
 "metadata": {
  "kernelspec": {
   "display_name": "Python 3 (ipykernel)",
   "language": "python",
   "name": "python3"
  },
  "language_info": {
   "codemirror_mode": {
    "name": "ipython",
    "version": 3
   },
   "file_extension": ".py",
   "mimetype": "text/x-python",
   "name": "python",
   "nbconvert_exporter": "python",
   "pygments_lexer": "ipython3",
   "version": "3.7.4"
  }
 },
 "nbformat": 4,
 "nbformat_minor": 5
}
