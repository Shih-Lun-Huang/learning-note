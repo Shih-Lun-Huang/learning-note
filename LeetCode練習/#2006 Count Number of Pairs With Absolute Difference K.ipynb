{
 "cells": [
  {
   "cell_type": "code",
   "execution_count": 1,
   "id": "8259c59a",
   "metadata": {},
   "outputs": [],
   "source": [
    "from itertools import combinations\n",
    "from typing import List"
   ]
  },
  {
   "cell_type": "code",
   "execution_count": 2,
   "id": "df6833fe",
   "metadata": {},
   "outputs": [],
   "source": [
    "nums = [3,2,1,5,4]\n",
    "k = 2"
   ]
  },
  {
   "cell_type": "code",
   "execution_count": 3,
   "id": "73b6e14b",
   "metadata": {},
   "outputs": [],
   "source": [
    "class Solution:\n",
    "    def countKDifference(self, nums: List[int], k: int) -> int:\n",
    "        res = 0\n",
    "        for x in combinations(nums,2):\n",
    "            if abs(x[0] - x[1]) == k:\n",
    "                res += 1\n",
    "        return res\n",
    "    #faster and less memory\n",
    "    #https://leetcode.com/problems/count-number-of-pairs-with-absolute-difference-k/discuss/1627482/Python-100-faster-99-less-memory-fully-explained\n",
    "    def countKDifference2(self, nums: List[int], k: int) -> int:\n",
    "        nums_dict, count = {}, 0\n",
    "        for num in nums:\n",
    "            if num not in nums_dict:\n",
    "                nums_dict[num] = 1\n",
    "            else:\n",
    "                nums_dict[num] += 1\n",
    "\n",
    "        for num in nums:\n",
    "            if num + k in nums_dict:\n",
    "                count += nums_dict[num + k]\n",
    "        return count\n"
   ]
  },
  {
   "cell_type": "code",
   "execution_count": 4,
   "id": "b7030323",
   "metadata": {},
   "outputs": [
    {
     "data": {
      "text/plain": [
       "3"
      ]
     },
     "execution_count": 4,
     "metadata": {},
     "output_type": "execute_result"
    }
   ],
   "source": [
    "Solution().countKDifference(nums, k)"
   ]
  },
  {
   "cell_type": "code",
   "execution_count": 5,
   "id": "7a3b2388",
   "metadata": {},
   "outputs": [
    {
     "data": {
      "text/plain": [
       "3"
      ]
     },
     "execution_count": 5,
     "metadata": {},
     "output_type": "execute_result"
    }
   ],
   "source": [
    "Solution().countKDifference2(nums, k)"
   ]
  },
  {
   "cell_type": "code",
   "execution_count": null,
   "id": "9162f02e",
   "metadata": {},
   "outputs": [],
   "source": []
  }
 ],
 "metadata": {
  "kernelspec": {
   "display_name": "Python 3 (ipykernel)",
   "language": "python",
   "name": "python3"
  },
  "language_info": {
   "codemirror_mode": {
    "name": "ipython",
    "version": 3
   },
   "file_extension": ".py",
   "mimetype": "text/x-python",
   "name": "python",
   "nbconvert_exporter": "python",
   "pygments_lexer": "ipython3",
   "version": "3.7.4"
  }
 },
 "nbformat": 4,
 "nbformat_minor": 5
}
