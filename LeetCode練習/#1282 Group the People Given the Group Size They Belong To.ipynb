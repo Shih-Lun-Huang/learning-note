{
 "cells": [
  {
   "cell_type": "code",
   "execution_count": 1,
   "metadata": {},
   "outputs": [],
   "source": [
    "from typing import List"
   ]
  },
  {
   "cell_type": "code",
   "execution_count": 2,
   "metadata": {},
   "outputs": [],
   "source": [
    "class Solution:\n",
    "    def groupThePeople(self, groupSizes: List[int]) -> List[List[int]]:\n",
    "        d = {}\n",
    "        for i in range(len(groupSizes)):\n",
    "            d.update({i:groupSizes[i]})\n",
    "        d = dict(sorted(d.items(), key=lambda item: item[1]))\n",
    "        d_key = [x for x in d]\n",
    "        # print(d_key)\n",
    "        res = []\n",
    "        l = []\n",
    "        for i in range(len(d)):\n",
    "            if i == 0 : l.append(d_key[i])\n",
    "            if i>0:\n",
    "        #         print(d[d_key[i]])\n",
    "                if d[d_key[i-1]] != d[d_key[i]]:\n",
    "        #             print('X')\n",
    "                    if l != [] : res.append(l)\n",
    "                    l = []\n",
    "                l.append(d_key[i])\n",
    "            if len(l) >= d[d_key[i]]:\n",
    "                if l != [] : res.append(l)\n",
    "                l = []\n",
    "        if l != [] :res.append(l)\n",
    "        return res"
   ]
  },
  {
   "cell_type": "code",
   "execution_count": null,
   "metadata": {},
   "outputs": [],
   "source": []
  }
 ],
 "metadata": {
  "kernelspec": {
   "display_name": "Python 3",
   "language": "python",
   "name": "python3"
  },
  "language_info": {
   "codemirror_mode": {
    "name": "ipython",
    "version": 3
   },
   "file_extension": ".py",
   "mimetype": "text/x-python",
   "name": "python",
   "nbconvert_exporter": "python",
   "pygments_lexer": "ipython3",
   "version": "3.7.4"
  }
 },
 "nbformat": 4,
 "nbformat_minor": 2
}
