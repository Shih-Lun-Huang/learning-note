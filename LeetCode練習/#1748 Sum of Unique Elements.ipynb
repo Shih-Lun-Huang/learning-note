{
 "cells": [
  {
   "cell_type": "code",
   "execution_count": 1,
   "id": "842212b7",
   "metadata": {},
   "outputs": [],
   "source": [
    "from typing import List\n",
    "from collections import Counter"
   ]
  },
  {
   "cell_type": "code",
   "execution_count": 2,
   "id": "4f5e1abf",
   "metadata": {},
   "outputs": [],
   "source": [
    "nums = [1,2,3,4,5,5]"
   ]
  },
  {
   "cell_type": "code",
   "execution_count": 3,
   "id": "dbc73863",
   "metadata": {},
   "outputs": [],
   "source": [
    "class Solution:\n",
    "    def sumOfUnique(self, nums: List[int]) -> int:\n",
    "        res = 0\n",
    "        for k,v in Counter(nums).items():\n",
    "            if v == 1:\n",
    "                res += k\n",
    "        return res\n",
    "    # faster\n",
    "    def sumOfUnique2(self, nums: List[int]) -> int:\n",
    "        result = 0\n",
    "        for i in nums:\n",
    "            if nums.count(i) == 1:\n",
    "                result += i\n",
    "        return result"
   ]
  },
  {
   "cell_type": "code",
   "execution_count": 4,
   "id": "260c0566",
   "metadata": {},
   "outputs": [
    {
     "data": {
      "text/plain": [
       "10"
      ]
     },
     "execution_count": 4,
     "metadata": {},
     "output_type": "execute_result"
    }
   ],
   "source": [
    "Solution().sumOfUnique(nums)"
   ]
  },
  {
   "cell_type": "code",
   "execution_count": 5,
   "id": "a505bec9",
   "metadata": {},
   "outputs": [
    {
     "data": {
      "text/plain": [
       "10"
      ]
     },
     "execution_count": 5,
     "metadata": {},
     "output_type": "execute_result"
    }
   ],
   "source": [
    "Solution().sumOfUnique2(nums)"
   ]
  },
  {
   "cell_type": "code",
   "execution_count": null,
   "id": "33d6ca22",
   "metadata": {},
   "outputs": [],
   "source": []
  }
 ],
 "metadata": {
  "kernelspec": {
   "display_name": "Python 3 (ipykernel)",
   "language": "python",
   "name": "python3"
  },
  "language_info": {
   "codemirror_mode": {
    "name": "ipython",
    "version": 3
   },
   "file_extension": ".py",
   "mimetype": "text/x-python",
   "name": "python",
   "nbconvert_exporter": "python",
   "pygments_lexer": "ipython3",
   "version": "3.7.4"
  }
 },
 "nbformat": 4,
 "nbformat_minor": 5
}
