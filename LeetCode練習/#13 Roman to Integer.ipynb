{
 "cells": [
  {
   "cell_type": "code",
   "execution_count": 1,
   "metadata": {},
   "outputs": [],
   "source": [
    "from typing import List"
   ]
  },
  {
   "cell_type": "code",
   "execution_count": 2,
   "metadata": {},
   "outputs": [],
   "source": [
    "class Solution:\n",
    "    def romanToInt(self, s: str) -> int:\n",
    "        j = 0\n",
    "        l = list(str(s))\n",
    "        for i in range(len(l)):\n",
    "            if s[i] == 'I':\n",
    "                j += 1\n",
    "            elif s[i] =='V':\n",
    "                if i-1 >= 0 and s[i-1] == 'I':\n",
    "                    j += 3\n",
    "                else:\n",
    "                    j += 5\n",
    "            elif s[i] =='X':\n",
    "                if i-1 >= 0 and s[i-1] == 'I':\n",
    "                    j += 8\n",
    "                else:\n",
    "                    j += 10\n",
    "            elif s[i] =='L':\n",
    "                if i-1 >= 0 and s[i-1] == 'X':\n",
    "                    j += 30\n",
    "                else:\n",
    "                    j += 50\n",
    "            elif s[i] == 'C':\n",
    "                if i-1 >= 0 and s[i-1] == 'X':\n",
    "                    j += 80\n",
    "                else:\n",
    "                    j += 100\n",
    "            elif s[i] =='D':\n",
    "                if i-1 >= 0 and s[i-1] == 'C':\n",
    "                    j += 300\n",
    "                else:\n",
    "                    j += 500\n",
    "            else:\n",
    "                if i-1 >= 0 and s[i-1] == 'C':\n",
    "                    j += 800\n",
    "                else:\n",
    "                    j += 1000\n",
    "        return j"
   ]
  },
  {
   "cell_type": "code",
   "execution_count": null,
   "metadata": {},
   "outputs": [],
   "source": []
  }
 ],
 "metadata": {
  "kernelspec": {
   "display_name": "Python 3",
   "language": "python",
   "name": "python3"
  },
  "language_info": {
   "codemirror_mode": {
    "name": "ipython",
    "version": 3
   },
   "file_extension": ".py",
   "mimetype": "text/x-python",
   "name": "python",
   "nbconvert_exporter": "python",
   "pygments_lexer": "ipython3",
   "version": "3.7.4"
  }
 },
 "nbformat": 4,
 "nbformat_minor": 2
}
