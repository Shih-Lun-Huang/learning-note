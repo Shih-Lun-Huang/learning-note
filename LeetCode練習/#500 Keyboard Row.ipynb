{
 "cells": [
  {
   "cell_type": "code",
   "execution_count": 38,
   "id": "d4a494d5",
   "metadata": {},
   "outputs": [],
   "source": [
    "from typing import List"
   ]
  },
  {
   "cell_type": "code",
   "execution_count": 42,
   "id": "0618b19f",
   "metadata": {},
   "outputs": [],
   "source": [
    "class Solution:\n",
    "    def findWords(self, words: List[str]) -> List[str]:\n",
    "        res = []\n",
    "        row_list = [\"qwertyuiop\", \"asdfghjkl\", \"zxcvbnm\"]\n",
    "        for word in words:\n",
    "            if len(word) == 1:\n",
    "                res.append(word)\n",
    "                continue\n",
    "\n",
    "            lower_word = word.lower()\n",
    "            first_letter = lower_word[0]\n",
    "            for row in range(3):\n",
    "                if first_letter in row_list[row]:\n",
    "                    break\n",
    "\n",
    "            word_len = len(word)\n",
    "            for i in range(1, word_len):\n",
    "                if lower_word[i] not in row_list[row]:\n",
    "                    break\n",
    "                if i == word_len-1:\n",
    "                    res.append(word)\n",
    "\n",
    "        return res"
   ]
  },
  {
   "cell_type": "code",
   "execution_count": 44,
   "id": "e376bcb9",
   "metadata": {},
   "outputs": [
    {
     "data": {
      "text/plain": [
       "['Aasdfghjkl', 'Qwertyuiop', 'zZxcvbnm']"
      ]
     },
     "execution_count": 44,
     "metadata": {},
     "output_type": "execute_result"
    }
   ],
   "source": [
    "words = [\"Aasdfghjkl\",\"Qwertyuiop\",\"zZxcvbnm\"]\n",
    "Solution().findWords(words)"
   ]
  },
  {
   "cell_type": "code",
   "execution_count": 45,
   "id": "99304ee8",
   "metadata": {},
   "outputs": [
    {
     "data": {
      "text/plain": [
       "['Alaska', 'Dad']"
      ]
     },
     "execution_count": 45,
     "metadata": {},
     "output_type": "execute_result"
    }
   ],
   "source": [
    "words = [\"Hello\",\"Alaska\",\"Dad\",\"Peace\"]\n",
    "Solution().findWords(words)"
   ]
  },
  {
   "cell_type": "code",
   "execution_count": 46,
   "id": "620fa69f",
   "metadata": {},
   "outputs": [
    {
     "data": {
      "text/plain": [
       "['a', 'b']"
      ]
     },
     "execution_count": 46,
     "metadata": {},
     "output_type": "execute_result"
    }
   ],
   "source": [
    "words = ['a','b']\n",
    "Solution().findWords(words)"
   ]
  },
  {
   "cell_type": "code",
   "execution_count": null,
   "id": "498f5efb",
   "metadata": {},
   "outputs": [],
   "source": []
  }
 ],
 "metadata": {
  "kernelspec": {
   "display_name": "Python 3 (ipykernel)",
   "language": "python",
   "name": "python3"
  },
  "language_info": {
   "codemirror_mode": {
    "name": "ipython",
    "version": 3
   },
   "file_extension": ".py",
   "mimetype": "text/x-python",
   "name": "python",
   "nbconvert_exporter": "python",
   "pygments_lexer": "ipython3",
   "version": "3.7.4"
  }
 },
 "nbformat": 4,
 "nbformat_minor": 5
}
