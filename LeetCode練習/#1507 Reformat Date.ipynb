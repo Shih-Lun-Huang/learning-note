{
 "cells": [
  {
   "cell_type": "code",
   "execution_count": 1,
   "id": "718775ed",
   "metadata": {},
   "outputs": [],
   "source": [
    "import re"
   ]
  },
  {
   "cell_type": "code",
   "execution_count": 2,
   "id": "e8dfe44f",
   "metadata": {},
   "outputs": [],
   "source": [
    "class Solution:\n",
    "    def reformatDate(self, date: str) -> str:\n",
    "        month_list = [\"Jan\", \"Feb\", \"Mar\", \"Apr\", \"May\", \"Jun\", \"Jul\", \"Aug\", \"Sep\", \"Oct\", \"Nov\", \"Dec\"]\n",
    "        date_split = date.split(' ')\n",
    "        _month = str(month_list.index(date_split[1])+1)\n",
    "        _date = re.findall(r'\\d+', date_split[0])[0]\n",
    "        if len(_date) == 1: _date = '0' +  _date\n",
    "        if len(_month) == 1: _month = '0' +  _month\n",
    "        return date_split[2] +'-'+ _month +'-'+ _date"
   ]
  },
  {
   "cell_type": "code",
   "execution_count": null,
   "id": "3010a076",
   "metadata": {},
   "outputs": [],
   "source": []
  }
 ],
 "metadata": {
  "kernelspec": {
   "display_name": "Python 3 (ipykernel)",
   "language": "python",
   "name": "python3"
  },
  "language_info": {
   "codemirror_mode": {
    "name": "ipython",
    "version": 3
   },
   "file_extension": ".py",
   "mimetype": "text/x-python",
   "name": "python",
   "nbconvert_exporter": "python",
   "pygments_lexer": "ipython3",
   "version": "3.7.4"
  }
 },
 "nbformat": 4,
 "nbformat_minor": 5
}
