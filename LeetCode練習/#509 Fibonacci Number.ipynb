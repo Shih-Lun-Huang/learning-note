{
 "cells": [
  {
   "cell_type": "code",
   "execution_count": 1,
   "id": "6833fe45",
   "metadata": {},
   "outputs": [],
   "source": [
    "class Solution:\n",
    "    def fib(self, n: int) -> int:\n",
    "        a0 = 0\n",
    "        a1 = 1\n",
    "\n",
    "        if n == 0:\n",
    "            return 0\n",
    "        elif n == 1:\n",
    "            return 1\n",
    "        x=1\n",
    "        while x < n:\n",
    "                a2 = a0 + a1\n",
    "                a0 = a1\n",
    "                a1 = a2 \n",
    "                x+=1    \n",
    "        return a2"
   ]
  },
  {
   "cell_type": "code",
   "execution_count": null,
   "id": "a054ba12",
   "metadata": {},
   "outputs": [],
   "source": []
  }
 ],
 "metadata": {
  "kernelspec": {
   "display_name": "Python 3 (ipykernel)",
   "language": "python",
   "name": "python3"
  },
  "language_info": {
   "codemirror_mode": {
    "name": "ipython",
    "version": 3
   },
   "file_extension": ".py",
   "mimetype": "text/x-python",
   "name": "python",
   "nbconvert_exporter": "python",
   "pygments_lexer": "ipython3",
   "version": "3.7.4"
  }
 },
 "nbformat": 4,
 "nbformat_minor": 5
}
