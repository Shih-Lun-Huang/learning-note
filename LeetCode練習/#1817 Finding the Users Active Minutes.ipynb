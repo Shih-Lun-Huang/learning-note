{
 "cells": [
  {
   "cell_type": "code",
   "execution_count": 1,
   "metadata": {},
   "outputs": [],
   "source": [
    "from typing import List"
   ]
  },
  {
   "cell_type": "code",
   "execution_count": 2,
   "metadata": {},
   "outputs": [],
   "source": [
    "class Solution:\n",
    "    def findingUsersActiveMinutes(self, logs: List[List[int]], k: int) -> List[int]:\n",
    "        d = {}\n",
    "        res = [0] * k\n",
    "        for _id, time in logs:\n",
    "            if _id not in d:\n",
    "                d.update({_id:[time]})\n",
    "            else:\n",
    "                if time not in d[_id]:\n",
    "                    d[_id].append(time)\n",
    "        for i in d.values():\n",
    "            res[len(i)-1] += 1\n",
    "        return res"
   ]
  }
 ],
 "metadata": {
  "kernelspec": {
   "display_name": "Python 3",
   "language": "python",
   "name": "python3"
  },
  "language_info": {
   "codemirror_mode": {
    "name": "ipython",
    "version": 3
   },
   "file_extension": ".py",
   "mimetype": "text/x-python",
   "name": "python",
   "nbconvert_exporter": "python",
   "pygments_lexer": "ipython3",
   "version": "3.7.4"
  }
 },
 "nbformat": 4,
 "nbformat_minor": 2
}
