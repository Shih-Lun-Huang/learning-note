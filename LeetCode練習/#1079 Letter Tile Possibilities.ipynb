{
 "cells": [
  {
   "cell_type": "code",
   "execution_count": 1,
   "id": "d249637b",
   "metadata": {},
   "outputs": [],
   "source": [
    "from itertools import permutations"
   ]
  },
  {
   "cell_type": "code",
   "execution_count": 2,
   "id": "d4d1fb27",
   "metadata": {},
   "outputs": [],
   "source": [
    "tiles = \"AAABBC\""
   ]
  },
  {
   "cell_type": "code",
   "execution_count": 3,
   "id": "810a84ed",
   "metadata": {},
   "outputs": [],
   "source": [
    "class Solution:\n",
    "    def numTilePossibilities(self, tiles: str) -> int:\n",
    "        res = 0\n",
    "        for i in range(1,len(tiles)+1):\n",
    "            res+=len(set(permutations(tiles, i)))\n",
    "        return res      "
   ]
  },
  {
   "cell_type": "code",
   "execution_count": 4,
   "id": "7b76827f",
   "metadata": {},
   "outputs": [
    {
     "data": {
      "text/plain": [
       "188"
      ]
     },
     "execution_count": 4,
     "metadata": {},
     "output_type": "execute_result"
    }
   ],
   "source": [
    "Solution().numTilePossibilities(tiles)"
   ]
  },
  {
   "cell_type": "code",
   "execution_count": null,
   "id": "f6fde8b9",
   "metadata": {},
   "outputs": [],
   "source": []
  }
 ],
 "metadata": {
  "kernelspec": {
   "display_name": "Python 3 (ipykernel)",
   "language": "python",
   "name": "python3"
  },
  "language_info": {
   "codemirror_mode": {
    "name": "ipython",
    "version": 3
   },
   "file_extension": ".py",
   "mimetype": "text/x-python",
   "name": "python",
   "nbconvert_exporter": "python",
   "pygments_lexer": "ipython3",
   "version": "3.7.4"
  }
 },
 "nbformat": 4,
 "nbformat_minor": 5
}
