{
 "cells": [
  {
   "cell_type": "code",
   "execution_count": 1,
   "id": "80d68eff",
   "metadata": {},
   "outputs": [],
   "source": [
    "class Solution:\n",
    "    def numJewelsInStones(self, jewels: str, stones: str) -> int:\n",
    "        _count = 0\n",
    "        for j in jewels:\n",
    "            for s in stones:\n",
    "                if s == j:\n",
    "                    _count+=1    \n",
    "        return _count"
   ]
  },
  {
   "cell_type": "code",
   "execution_count": null,
   "id": "d65e55e4",
   "metadata": {},
   "outputs": [],
   "source": []
  }
 ],
 "metadata": {
  "kernelspec": {
   "display_name": "Python 3 (ipykernel)",
   "language": "python",
   "name": "python3"
  },
  "language_info": {
   "codemirror_mode": {
    "name": "ipython",
    "version": 3
   },
   "file_extension": ".py",
   "mimetype": "text/x-python",
   "name": "python",
   "nbconvert_exporter": "python",
   "pygments_lexer": "ipython3",
   "version": "3.7.4"
  }
 },
 "nbformat": 4,
 "nbformat_minor": 5
}
