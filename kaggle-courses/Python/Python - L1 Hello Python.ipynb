{
 "cells": [
  {
   "cell_type": "markdown",
   "metadata": {},
   "source": [
    "# 介紹\n",
    "此課程涵蓋了需要的關鍵Python技能，並得以使用Python進行數據科學。 該課程對於過去有一定coding經驗的人，以及透過此課程希望將Python添加到他們的目錄中或提高其基本Python技能來說是理想的。 （如果您是第一次coding的人，則可能需要先參考[這些學習資源][link1]。）\n",
    "\n",
    "我們將從Python語法(python syntax)，變量賦值(variable assignment)和算術運算符(arithmetic operators)的簡要概述開始。 如果您以前有Python經驗，則可以直接跳到[實際練習][link2]。\n",
    "\n",
    " [link1]: <https://wiki.python.org/moin/BeginnersGuide/NonProgrammers>\n",
    " [link2]: <https://www.kaggle.com/kernels/fork/1275163>"
   ]
  },
  {
   "cell_type": "markdown",
   "metadata": {},
   "source": [
    "# 您好，Python！\n",
    "Python以英國喜劇團[Monty Python][link1]的名字命名，因此我們將使我們的第一個Python程式碼向他們的垃圾郵件致敬(？\n",
    "\n",
    "玩玩看，嘗試閱讀下面的程式碼並預估運行時它將要做什麼。\n",
    "然後點擊\"輸出\"按鈕以查看程式碼的結果。\n",
    "\n",
    "[link1]: <https://en.wikipedia.org/wiki/Monty_Python>"
   ]
  },
  {
   "cell_type": "code",
   "execution_count": 1,
   "metadata": {},
   "outputs": [],
   "source": [
    "spam_amount = 0\n",
    "print(spam_amount)\n",
    "\n",
    "# Ordering Spam, egg, Spam, Spam, bacon and Spam (4 more servings of Spam)\n",
    "spam_amount = spam_amount + 4\n",
    "\n",
    "if spam_amount > 0:\n",
    "    print(\"But I don't want ANY spam!\")\n",
    "\n",
    "viking_song = \"Spam \" * spam_amount\n",
    "print(viking_song)"
   ]
  },
  {
   "cell_type": "markdown",
   "metadata": {},
   "source": [
    "這裡有很多要理解的地方！ 這個惱人的程式碼演示了Python許多重要方向，包括代碼的模樣以及其工作原理。 讓我們從上到下回顧一下代碼:"
   ]
  },
  {
   "cell_type": "code",
   "execution_count": 2,
   "metadata": {},
   "outputs": [],
   "source": [
    "spam_amount = 0"
   ]
  },
  {
   "cell_type": "markdown",
   "metadata": {},
   "source": [
    "**變數賦值**：這裡，我們創建一個名為 `spam_amount` 的變數，並使用 ` = ` 將其賦值為 0，這裡的 ` = ` 稱為賦值運算符。\n",
    "\n",
    "**另外**：如果使用某些其他語言（例如Java或C ++）來寫程式，則可能會注意到Python不需要我們在這裡做的一些事情：\n",
    "\n",
    "> 1.我們不需要在賦值之前先\"聲明\"(declare) spam_amount這個變數。<br />\n",
    "> 2.我們不需要告訴Python spam_amount是什麼類型的值。  實際上，我們甚至可以繼續賦值spam_amount來代表其他類型的變數，例如字符串或布林值。"
   ]
  },
  {
   "cell_type": "code",
   "execution_count": 3,
   "metadata": {},
   "outputs": [
    {
     "name": "stdout",
     "output_type": "stream",
     "text": [
      "0\n"
     ]
    }
   ],
   "source": [
    "print(spam_amount)"
   ]
  },
  {
   "cell_type": "markdown",
   "metadata": {},
   "source": [
    "函數調用： print是一個Python函數，可在畫面上顯示傳遞給它的值。 我們通過在函數名稱後面加上括號，然後在這些括號中放入函數的輸入（或參數）來調用函數。"
   ]
  },
  {
   "cell_type": "code",
   "execution_count": 4,
   "metadata": {},
   "outputs": [],
   "source": [
    "spam_amount = spam_amount + 4"
   ]
  },
  {
   "cell_type": "markdown",
   "metadata": {},
   "source": [
    "上面的第一行是註解。 在Python中，註解以＃符號開頭。\n",
    "\n",
    "接下來，我們看到一個重新賦值的示例。 重新賦值給現有變數看起來與創建變數相同，它仍然使用=賦值運算符。\n",
    "\n",
    "在這種情況下，我們分配給spam_amount的值涉及到其先前值的一些簡單算法。 當遇到此行時，Python會在=（0 + 4 = 4）的右側計算表達式，然後將該值分配給左側的變數。"
   ]
  },
  {
   "cell_type": "code",
   "execution_count": 5,
   "metadata": {},
   "outputs": [
    {
     "name": "stdout",
     "output_type": "stream",
     "text": [
      "But I don't want ANY spam!\n",
      "Spam Spam Spam\n"
     ]
    }
   ],
   "source": [
    "if spam_amount > 0:\n",
    "    print(\"But I don't want ANY spam!\")\n",
    "\n",
    "viking_song = \"Spam Spam Spam\"\n",
    "print(viking_song)"
   ]
  },
  {
   "cell_type": "markdown",
   "metadata": {},
   "source": [
    "我們目前先不討論\"條件\"，但是，即使您以前從未撰寫過程式碼，您也可能猜到它是做什麼的。 Python因其易讀性和簡單性而倍受讚譽。\n",
    "\n",
    "注意我們如何指示哪個代碼屬於if。 \"But I don't want ANY spam!\" 僅在spam_amount為正時才印出。但是無論如何，都應執行後面的代碼，如print(viking_song)。不過我們和Python怎麼知道的？\n",
    "\n",
    "if行末尾的冒號:表示新的\"代碼塊\"正要開始。縮排的後續行是該代碼塊的一部分。其他一些語言使用{curly braces}標記代碼塊的開始和結束。對於習慣於其他語言的工程師來說，Python使用有意義的空格可能會令人不習慣，但實際上，與不使用代碼塊縮排的語言相比，Python可以呈現更一致和更易讀的代碼。\n",
    "\n",
    "後面處理viking_song的行沒有縮排4個空格，因此它們不是if代碼塊的一部分。稍後在定義函數和使用循環時，將看到縮進代碼塊的更多示例。"
   ]
  },
  {
   "cell_type": "markdown",
   "metadata": {},
   "source": [
    "此段程式碼碼也是我們第一次看到Python中的字串："
   ]
  },
  {
   "cell_type": "code",
   "execution_count": 6,
   "metadata": {},
   "outputs": [
    {
     "data": {
      "text/plain": [
       "\"But I don't want ANY spam!\""
      ]
     },
     "execution_count": 6,
     "metadata": {},
     "output_type": "execute_result"
    }
   ],
   "source": [
    "\"But I don't want ANY spam!\""
   ]
  },
  {
   "cell_type": "markdown",
   "metadata": {},
   "source": [
    "字串可以用雙引號或單引號包住表示。 （但是因為這個特定的字串包含單引號字符，所以除非有注意到，否則我們可能會使同樣的單引號來表示字串混淆Python。）"
   ]
  },
  {
   "cell_type": "code",
   "execution_count": 7,
   "metadata": {},
   "outputs": [
    {
     "name": "stdout",
     "output_type": "stream",
     "text": [
      "Spam Spam Spam Spam \n"
     ]
    }
   ],
   "source": [
    "viking_song = \"Spam \" * spam_amount\n",
    "print(viking_song)"
   ]
  },
  {
   "cell_type": "markdown",
   "metadata": {},
   "source": [
    "\\*運算符可用於將兩個數字相乘（3 * 3等於9），但有趣的是，我們還可以將字符串與數字相乘，以獲得一個被重複多次的版本。 Python提供了許多諸如此類的省時小技巧，其中*和+等運算符的含義取決於所應用的變數類型。"
   ]
  },
  {
   "cell_type": "markdown",
   "metadata": {},
   "source": [
    "# Python中的數字和算法\n",
    "我們已經看過一個包含上面數字的變數的示例："
   ]
  },
  {
   "cell_type": "code",
   "execution_count": 8,
   "metadata": {},
   "outputs": [],
   "source": [
    "spam_amount = 0"
   ]
  },
  {
   "cell_type": "markdown",
   "metadata": {},
   "source": [
    "\"Number\"是這類事物的一個很好的非正式名稱，但是如果我們想提高技術水平，我們可以問Python如何用它來描述spam_amount的類型："
   ]
  },
  {
   "cell_type": "code",
   "execution_count": 9,
   "metadata": {},
   "outputs": [
    {
     "data": {
      "text/plain": [
       "int"
      ]
     },
     "execution_count": 9,
     "metadata": {},
     "output_type": "execute_result"
    }
   ],
   "source": [
    "type(spam_amount)"
   ]
  },
  {
   "cell_type": "markdown",
   "metadata": {},
   "source": [
    "這是一個整數-interger的縮寫。 我們在Python中經常遇到的另一種數字： "
   ]
  },
  {
   "cell_type": "code",
   "execution_count": 10,
   "metadata": {},
   "outputs": [
    {
     "data": {
      "text/plain": [
       "float"
      ]
     },
     "execution_count": 10,
     "metadata": {},
     "output_type": "execute_result"
    }
   ],
   "source": [
    "type(19.95)"
   ]
  },
  {
   "cell_type": "markdown",
   "metadata": {},
   "source": [
    "浮點數是一個帶小數位的數字，對於表示重量或比例之類的東西非常實用。"
   ]
  },
  {
   "cell_type": "markdown",
   "metadata": {},
   "source": [
    "type()是我們見過的第二個內置函數（在print()之後），它是另一個值得記住的實用函數。 能夠問Python:這是什麼東西？，這非常有用。"
   ]
  },
  {
   "cell_type": "markdown",
   "metadata": {},
   "source": [
    "我們已經看到+運算符用於加法運算，而\\*運算符用於乘法（某種運算）。 Python還為我們介紹了其餘的基本運算符:\n",
    "\n",
    "| Operator | Name | Description|\n",
    "| ------ | ------ | ------ |\n",
    "| a + b | 加法 | a和b相加 |\n",
    "| a - b | 減法 | a和b相減 |\n",
    "| a * b | 乘法 | a和b相乘 |\n",
    "| a / b | 除法 | a和b相除 |\n",
    "| a // b | 除法(取整數) | a和b相除後結果的整數 |\n",
    "| a % b | 取餘數 | a和b相除後的餘數 |\n",
    "| a ** b | 平方 | a的b平方 |\n",
    "| -a | 負數 | 負a |"
   ]
  },
  {
   "cell_type": "markdown",
   "metadata": {},
   "source": [
    "這裡有趣的是，雖然計算機上可能只有一個除法按鈕，但是Python可以做兩種。<br />\n",
    "\"真除法\"基本上就是機算機做的事情："
   ]
  },
  {
   "cell_type": "code",
   "execution_count": 11,
   "metadata": {},
   "outputs": [
    {
     "name": "stdout",
     "output_type": "stream",
     "text": [
      "2.5\n",
      "3.0\n"
     ]
    }
   ],
   "source": [
    "print(5 / 2)\n",
    "print(6 / 2)"
   ]
  },
  {
   "cell_type": "markdown",
   "metadata": {},
   "source": [
    "python 永遠會回傳浮點數Float"
   ]
  },
  {
   "cell_type": "code",
   "execution_count": 13,
   "metadata": {},
   "outputs": [
    {
     "name": "stdout",
     "output_type": "stream",
     "text": [
      "2\n",
      "3\n"
     ]
    }
   ],
   "source": [
    "print(5 // 2)\n",
    "print(6 // 2)"
   ]
  },
  {
   "cell_type": "markdown",
   "metadata": {},
   "source": [
    "//運算符給我們的結果會將小數點四捨五入到整數。"
   ]
  },
  {
   "cell_type": "markdown",
   "metadata": {},
   "source": [
    "能想到這在什麼地方有用嗎？ 等等就會在程式碼挑戰中看到一個例子。"
   ]
  },
  {
   "cell_type": "markdown",
   "metadata": {},
   "source": [
    "# 操作順序\n",
    "我們在小學中學到的算術有關於運算順序的決定。 有些人通過助記符（mnemonic）記住這些，例如:括號，指數，乘法/除法，加法/減法。<br>\n",
    "\n",
    "Python遵循類似的規則，即首先要執行哪些計算。 他們大多是非常直觀的。"
   ]
  },
  {
   "cell_type": "code",
   "execution_count": 19,
   "metadata": {},
   "outputs": [
    {
     "data": {
      "text/plain": [
       "7"
      ]
     },
     "execution_count": 19,
     "metadata": {},
     "output_type": "execute_result"
    }
   ],
   "source": [
    "8 - 3 + 2"
   ]
  },
  {
   "cell_type": "code",
   "execution_count": 20,
   "metadata": {},
   "outputs": [
    {
     "data": {
      "text/plain": [
       "5"
      ]
     },
     "execution_count": 20,
     "metadata": {},
     "output_type": "execute_result"
    }
   ],
   "source": [
    "-3 + 4 * 2"
   ]
  },
  {
   "cell_type": "markdown",
   "metadata": {},
   "source": [
    "有時預設的操作順序不是我們想要的："
   ]
  },
  {
   "cell_type": "code",
   "execution_count": 21,
   "metadata": {},
   "outputs": [
    {
     "name": "stdout",
     "output_type": "stream",
     "text": [
      "Height in meters = 26.9 ?\n"
     ]
    }
   ],
   "source": [
    "hat_height_cm = 25\n",
    "my_height_cm = 190\n",
    "# How tall am I, in meters, when wearing my hat?\n",
    "total_height_meters = hat_height_cm + my_height_cm / 100\n",
    "print(\"Height in meters =\", total_height_meters, \"?\")"
   ]
  },
  {
   "cell_type": "markdown",
   "metadata": {},
   "source": [
    "括號在這裡很有用。 您可以添加它們以強制Python以所需的順序評估表達式。 "
   ]
  },
  {
   "cell_type": "code",
   "execution_count": 22,
   "metadata": {},
   "outputs": [
    {
     "name": "stdout",
     "output_type": "stream",
     "text": [
      "Height in meters = 2.15\n"
     ]
    }
   ],
   "source": [
    "total_height_meters = (hat_height_cm + my_height_cm) / 100\n",
    "print(\"Height in meters =\", total_height_meters)"
   ]
  },
  {
   "cell_type": "markdown",
   "metadata": {},
   "source": [
    "內置函數min()和max()分別返回其參數的最小值和最大值..."
   ]
  },
  {
   "cell_type": "code",
   "execution_count": 23,
   "metadata": {},
   "outputs": [
    {
     "name": "stdout",
     "output_type": "stream",
     "text": [
      "1\n",
      "3\n"
     ]
    }
   ],
   "source": [
    "print(min(1, 2, 3))\n",
    "print(max(1, 2, 3))"
   ]
  },
  {
   "cell_type": "markdown",
   "metadata": {},
   "source": [
    "abs返回參數的絕對值："
   ]
  },
  {
   "cell_type": "code",
   "execution_count": 24,
   "metadata": {},
   "outputs": [
    {
     "name": "stdout",
     "output_type": "stream",
     "text": [
      "32\n",
      "32\n"
     ]
    }
   ],
   "source": [
    "print(abs(32))\n",
    "print(abs(-32))"
   ]
  },
  {
   "cell_type": "markdown",
   "metadata": {},
   "source": [
    "除了作為Python的兩個主要數值類型的名稱之外，int和float也可以成為將原本參數轉換為相應類型的函數："
   ]
  },
  {
   "cell_type": "code",
   "execution_count": 25,
   "metadata": {},
   "outputs": [
    {
     "name": "stdout",
     "output_type": "stream",
     "text": [
      "10.0\n",
      "3\n",
      "808\n"
     ]
    }
   ],
   "source": [
    "print(float(10))\n",
    "print(int(3.33))\n",
    "# They can even be called on strings!\n",
    "print(int('807') + 1)"
   ]
  },
  {
   "cell_type": "markdown",
   "metadata": {},
   "source": [
    "# Exersize"
   ]
  },
  {
   "cell_type": "code",
   "execution_count": 27,
   "metadata": {},
   "outputs": [
    {
     "name": "stdout",
     "output_type": "stream",
     "text": [
      "You've successfully run some Python code\n",
      "Congratulations!\n"
     ]
    }
   ],
   "source": [
    "print(\"You've successfully run some Python code\")\n",
    "print(\"Congratulations!\")"
   ]
  },
  {
   "cell_type": "code",
   "execution_count": 29,
   "metadata": {},
   "outputs": [],
   "source": [
    "#setup code\n",
    "# from learntools.core import binder; binder.bind(globals())\n",
    "# from learntools.python.ex1 import *"
   ]
  },
  {
   "cell_type": "code",
   "execution_count": 42,
   "metadata": {},
   "outputs": [],
   "source": [
    "# create a variable called color with an appropriate value on the line below\n",
    "# (Remember, strings in Python must be enclosed in 'single' or \"double\" quotes)\n",
    "\n",
    "color = 'blue'"
   ]
  },
  {
   "cell_type": "markdown",
   "metadata": {},
   "source": [
    "# 1.\n",
    "Complete the code below. In case it's helpful, here is the table of available arithmetic operations:"
   ]
  },
  {
   "cell_type": "code",
   "execution_count": 31,
   "metadata": {},
   "outputs": [
    {
     "name": "stdout",
     "output_type": "stream",
     "text": [
      "1.5\n",
      "7.0685775\n"
     ]
    }
   ],
   "source": [
    "pi = 3.14159 # approximate\n",
    "diameter = 3\n",
    "\n",
    "# Create a variable called 'radius' equal to half the diameter\n",
    "\n",
    "radius = 1/2 * diameter\n",
    "print(radius)\n",
    "# Create a variable called 'area', using the formula for the area of a circle: pi times the radius squared\n",
    "\n",
    "area = radius ** 2 * pi\n",
    "print(area)"
   ]
  },
  {
   "cell_type": "markdown",
   "metadata": {},
   "source": [
    "## 2.\n",
    "Add code to the following cell to swap variables a and b (so that a refers to the object previously referred to by b and vice versa)."
   ]
  },
  {
   "cell_type": "code",
   "execution_count": 32,
   "metadata": {},
   "outputs": [
    {
     "name": "stdout",
     "output_type": "stream",
     "text": [
      "[3, 2, 1]\n",
      "[1, 2, 3]\n"
     ]
    }
   ],
   "source": [
    "a = [1, 2, 3]\n",
    "b = [3, 2, 1]\n",
    "\n",
    "x = a\n",
    "a = b\n",
    "b = x\n",
    "print(a)\n",
    "print(b)\n",
    "# a, b = b, a swap two variables in one line"
   ]
  },
  {
   "cell_type": "markdown",
   "metadata": {},
   "source": [
    "## 3.\n",
    "a) Add parentheses to the following expression so that it evaluates to 1."
   ]
  },
  {
   "cell_type": "code",
   "execution_count": 36,
   "metadata": {},
   "outputs": [
    {
     "data": {
      "text/plain": [
       "1"
      ]
     },
     "execution_count": 36,
     "metadata": {},
     "output_type": "execute_result"
    }
   ],
   "source": [
    "(5 - 3) // 2"
   ]
  },
  {
   "cell_type": "markdown",
   "metadata": {},
   "source": [
    "<small>Questions, like this one, marked a spicy pepper are a bit harder.</small>\n",
    "\n",
    "b) <span title=\"A bit spicy\" style=\"color: darkgreen \">🌶️</span> Add parentheses to the following expression so that it evaluates to 0\n"
   ]
  },
  {
   "cell_type": "code",
   "execution_count": 38,
   "metadata": {},
   "outputs": [
    {
     "data": {
      "text/plain": [
       "0"
      ]
     },
     "execution_count": 38,
     "metadata": {},
     "output_type": "execute_result"
    }
   ],
   "source": [
    "8 - 3 * 2 - (1 + 1)"
   ]
  },
  {
   "cell_type": "markdown",
   "metadata": {},
   "source": [
    "## 4. \n",
    "Alice, Bob and Carol have agreed to pool their Halloween candy and split it evenly among themselves. For the sake of their friendship, any candies left over will be smashed. For example, if they collectively bring home 91 candies, they'll take 30 each and smash 1.<br />\n",
    "Write an arithmetic expression below to calculate how many candies they must smash for a given haul."
   ]
  },
  {
   "cell_type": "code",
   "execution_count": 41,
   "metadata": {},
   "outputs": [
    {
     "name": "stdout",
     "output_type": "stream",
     "text": [
      "1\n"
     ]
    }
   ],
   "source": [
    "# Variables representing the number of candies collected by alice, bob, and carol\n",
    "alice_candies = 121\n",
    "bob_candies = 77\n",
    "carol_candies = 109\n",
    "\n",
    "# Your code goes here! Replace the right-hand side of this assignment with an expression\n",
    "# involving alice_candies, bob_candies, and carol_candies\n",
    "to_smash = (alice_candies + bob_candies + carol_candies) % 3\n",
    "print(to_smash)"
   ]
  },
  {
   "cell_type": "code",
   "execution_count": null,
   "metadata": {},
   "outputs": [],
   "source": []
  }
 ],
 "metadata": {
  "kernelspec": {
   "display_name": "Python 3",
   "language": "python",
   "name": "python3"
  },
  "language_info": {
   "codemirror_mode": {
    "name": "ipython",
    "version": 3
   },
   "file_extension": ".py",
   "mimetype": "text/x-python",
   "name": "python",
   "nbconvert_exporter": "python",
   "pygments_lexer": "ipython3",
   "version": "3.7.4"
  }
 },
 "nbformat": 4,
 "nbformat_minor": 2
}
