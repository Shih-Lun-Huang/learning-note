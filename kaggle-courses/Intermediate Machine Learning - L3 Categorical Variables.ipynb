{
 "cells": [
  {
   "cell_type": "markdown",
   "metadata": {},
   "source": [
    "在本教程中，將學習什麼是 **類別變量(categorical variable)** ，以及三種用於處理此類數據的方法。"
   ]
  },
  {
   "cell_type": "markdown",
   "metadata": {},
   "source": [
    "## 介紹\n",
    "分類變量僅接受有限數量的值。\n",
    "\n",
    "- 考慮一項調查，該調查詢問您多久吃一次早餐，並提供四個選項：“從不”，“很少”，“大部分時間”或“每天”。在這種情況下，數據是分類的，因為這些回應屬於固定的類別集。\n",
    "\n",
    "- 如果人們對自己擁有哪種汽車的調查進行了回答，則回答將分為“本田”，“豐田”和“福特”等類別。在這種情況下，數據也是分類的。\n",
    "如果嘗試將這些變量插入Python中的大多數機器學習模型而不先對其進行預處理，則會出現錯誤。在本教程中，我們將比較可用於準備分類數據的三種方法。"
   ]
  },
  {
   "cell_type": "markdown",
   "metadata": {},
   "source": [
    "## 三種方法"
   ]
  },
  {
   "cell_type": "markdown",
   "metadata": {},
   "source": [
    "### 1）刪除分類變量\n",
    "處理分類變量的最簡單方法是從數據集中刪除它們。僅當這些列中沒有有用的信息時，這種方法才能很好地工作。"
   ]
  },
  {
   "cell_type": "markdown",
   "metadata": {},
   "source": [
    "### 2）標籤編碼 Label Encoding\n",
    "**標籤編碼Label encoding** 將每個唯一值分配給不同的整數。"
   ]
  },
  {
   "cell_type": "code",
   "execution_count": null,
   "metadata": {},
   "outputs": [],
   "source": [
    "from IPython.display import Image \n",
    "Image(filename = \"img/L3-1.png\", width = 500, height = 300)"
   ]
  }
 ],
 "metadata": {
  "kernelspec": {
   "display_name": "Python 3",
   "language": "python",
   "name": "python3"
  },
  "language_info": {
   "codemirror_mode": {
    "name": "ipython",
    "version": 3
   },
   "file_extension": ".py",
   "mimetype": "text/x-python",
   "name": "python",
   "nbconvert_exporter": "python",
   "pygments_lexer": "ipython3",
   "version": "3.7.4"
  }
 },
 "nbformat": 4,
 "nbformat_minor": 2
}
