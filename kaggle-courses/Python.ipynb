{
 "cells": [
  {
   "cell_type": "markdown",
   "metadata": {},
   "source": [
    "# 介紹\n",
    "此課程涵蓋了需要的關鍵Python技能，並得以使用Python進行數據科學。 該課程對於過去有一定coding經驗的人，以及透過此課程希望將Python添加到他們的目錄中或提高其基本Python技能來說是理想的。 （如果您是第一次coding的人，則可能需要先參考[這些學習資源][link1]。）\n",
    "\n",
    "我們將從Python語法(python syntax)，變量賦值(variable assignment)和算術運算符(arithmetic operators)的簡要概述開始。 如果您以前有Python經驗，則可以直接跳到[實際練習][link2]。\n",
    "\n",
    " [link1]: <https://wiki.python.org/moin/BeginnersGuide/NonProgrammers>\n",
    " [link2]: <https://www.kaggle.com/kernels/fork/1275163>"
   ]
  },
  {
   "cell_type": "markdown",
   "metadata": {},
   "source": [
    "# 您好，Python！\n",
    "Python以英國喜劇團[Monty Python][link1]的名字命名，因此我們將使我們的第一個Python程式碼向他們的垃圾郵件致敬(？\n",
    "\n",
    "玩玩看，嘗試閱讀下面的程式碼並預估運行時它將要做什麼。\n",
    "然後點擊\"輸出\"按鈕以查看程式碼的結果。\n",
    "\n",
    "[link1]: <https://en.wikipedia.org/wiki/Monty_Python>"
   ]
  },
  {
   "cell_type": "code",
   "execution_count": 1,
   "metadata": {},
   "outputs": [
    {
     "name": "stdout",
     "output_type": "stream",
     "text": [
      "0\n",
      "But I don't want ANY spam!\n",
      "Spam Spam Spam Spam \n"
     ]
    }
   ],
   "source": [
    "spam_amount = 0\n",
    "print(spam_amount)\n",
    "\n",
    "# Ordering Spam, egg, Spam, Spam, bacon and Spam (4 more servings of Spam)\n",
    "spam_amount = spam_amount + 4\n",
    "\n",
    "if spam_amount > 0:\n",
    "    print(\"But I don't want ANY spam!\")\n",
    "\n",
    "viking_song = \"Spam \" * spam_amount\n",
    "print(viking_song)"
   ]
  },
  {
   "cell_type": "markdown",
   "metadata": {},
   "source": [
    "這裡有很多要理解的地方！ 這個惱人的程式碼演示了Python許多重要方向，包括代碼的模樣以及其工作原理。 讓我們從上到下回顧一下代碼:"
   ]
  },
  {
   "cell_type": "code",
   "execution_count": 3,
   "metadata": {},
   "outputs": [],
   "source": [
    "spam_amount = 0"
   ]
  },
  {
   "cell_type": "markdown",
   "metadata": {},
   "source": [
    "**變數賦值**：這裡，我們創建一個名為 `spam_amount` 的變數，並使用 ` = ` 將其賦值為 0，這裡的 ` = ` 稱為賦值運算符。\n",
    "\n",
    "**另外**：如果使用某些其他語言（例如Java或C ++）來寫程式，則可能會注意到Python不需要我們在這裡做的一些事情：\n",
    "\n",
    "> 1.我們不需要在賦值之前先\"聲明\"(declare) spam_amount這個變數。<br />\n",
    "> 2.我們不需要告訴Python spam_amount是什麼類型的值。  實際上，我們甚至可以繼續賦值spam_amount來代表其他類型的變數，例如字符串或布林值。"
   ]
  },
  {
   "cell_type": "code",
   "execution_count": 4,
   "metadata": {},
   "outputs": [
    {
     "name": "stdout",
     "output_type": "stream",
     "text": [
      "0\n"
     ]
    }
   ],
   "source": [
    "print(spam_amount)"
   ]
  },
  {
   "cell_type": "markdown",
   "metadata": {},
   "source": [
    "函數調用： print是一個Python函數，可在畫面上顯示傳遞給它的值。 我們通過在函數名稱後面加上括號，然後在這些括號中放入函數的輸入（或參數）來調用函數。"
   ]
  },
  {
   "cell_type": "code",
   "execution_count": 5,
   "metadata": {},
   "outputs": [],
   "source": [
    "spam_amount = spam_amount + 4"
   ]
  },
  {
   "cell_type": "markdown",
   "metadata": {},
   "source": [
    "上面的第一行是註解。 在Python中，註解以＃符號開頭。\n",
    "\n",
    "接下來，我們看到一個重新賦值的示例。 重新賦值給現有變數看起來與創建變數相同，它仍然使用=賦值運算符。\n",
    "\n",
    "在這種情況下，我們分配給spam_amount的值涉及到其先前值的一些簡單算法。 當遇到此行時，Python會在=（0 + 4 = 4）的右側計算表達式，然後將該值分配給左側的變數。"
   ]
  },
  {
   "cell_type": "code",
   "execution_count": 6,
   "metadata": {},
   "outputs": [
    {
     "name": "stdout",
     "output_type": "stream",
     "text": [
      "But I don't want ANY spam!\n",
      "Spam Spam Spam\n"
     ]
    }
   ],
   "source": [
    "if spam_amount > 0:\n",
    "    print(\"But I don't want ANY spam!\")\n",
    "\n",
    "viking_song = \"Spam Spam Spam\"\n",
    "print(viking_song)"
   ]
  },
  {
   "cell_type": "markdown",
   "metadata": {},
   "source": [
    "我們目前先不討論\"條件\"，但是，即使您以前從未撰寫過程式碼，您也可能猜到它是做什麼的。 Python因其易讀性和簡單性而倍受讚譽。\n",
    "\n",
    "注意我們如何指示哪個代碼屬於if。 \"But I don't want ANY spam!\" 僅在spam_amount為正時才印出。但是無論如何，都應執行後面的代碼，如print(viking_song)。不過我們和Python怎麼知道的？\n",
    "\n",
    "if行末尾的冒號:表示新的\"代碼塊\"正要開始。縮排的後續行是該代碼塊的一部分。其他一些語言使用{curly braces}標記代碼塊的開始和結束。對於習慣於其他語言的工程師來說，Python使用有意義的空格可能會令人不習慣，但實際上，與不使用代碼塊縮排的語言相比，Python可以呈現更一致和更易讀的代碼。\n",
    "\n",
    "後面處理viking_song的行沒有縮排4個空格，因此它們不是if代碼塊的一部分。稍後在定義函數和使用循環時，將看到縮進代碼塊的更多示例。"
   ]
  },
  {
   "cell_type": "markdown",
   "metadata": {},
   "source": [
    "此段程式碼碼也是我們第一次看到Python中的字串："
   ]
  },
  {
   "cell_type": "code",
   "execution_count": 7,
   "metadata": {},
   "outputs": [
    {
     "data": {
      "text/plain": [
       "\"But I don't want ANY spam!\""
      ]
     },
     "execution_count": 7,
     "metadata": {},
     "output_type": "execute_result"
    }
   ],
   "source": [
    "\"But I don't want ANY spam!\""
   ]
  },
  {
   "cell_type": "markdown",
   "metadata": {},
   "source": [
    "字串可以用雙引號或單引號包住表示。 （但是因為這個特定的字串包含單引號字符，所以除非有注意到，否則我們可能會使同樣的單引號來表示字串混淆Python。）"
   ]
  },
  {
   "cell_type": "code",
   "execution_count": 8,
   "metadata": {},
   "outputs": [
    {
     "name": "stdout",
     "output_type": "stream",
     "text": [
      "Spam Spam Spam Spam \n"
     ]
    }
   ],
   "source": [
    "viking_song = \"Spam \" * spam_amount\n",
    "print(viking_song)"
   ]
  },
  {
   "cell_type": "markdown",
   "metadata": {},
   "source": [
    "\\*運算符可用於將兩個數字相乘（3 * 3等於9），但有趣的是，我們還可以將字符串與數字相乘，以獲得一個被重複多次的版本。 Python提供了許多諸如此類的省時小技巧，其中*和+等運算符的含義取決於所應用的變數類型。"
   ]
  },
  {
   "cell_type": "markdown",
   "metadata": {},
   "source": [
    "# Python中的數字和算法\n",
    "我們已經看過一個包含上面數字的變數的示例："
   ]
  },
  {
   "cell_type": "code",
   "execution_count": 9,
   "metadata": {},
   "outputs": [],
   "source": [
    "spam_amount = 0"
   ]
  },
  {
   "cell_type": "markdown",
   "metadata": {},
   "source": [
    "\"Number\"是這類事物的一個很好的非正式名稱，但是如果我們想提高技術水平，我們可以問Python如何用它來描述spam_amount的類型："
   ]
  },
  {
   "cell_type": "code",
   "execution_count": 10,
   "metadata": {},
   "outputs": [
    {
     "data": {
      "text/plain": [
       "int"
      ]
     },
     "execution_count": 10,
     "metadata": {},
     "output_type": "execute_result"
    }
   ],
   "source": [
    "type(spam_amount)"
   ]
  },
  {
   "cell_type": "markdown",
   "metadata": {},
   "source": [
    "這是一個整數-interger的縮寫。 我們在Python中經常遇到的另一種數字： "
   ]
  },
  {
   "cell_type": "code",
   "execution_count": 11,
   "metadata": {},
   "outputs": [
    {
     "data": {
      "text/plain": [
       "float"
      ]
     },
     "execution_count": 11,
     "metadata": {},
     "output_type": "execute_result"
    }
   ],
   "source": [
    "type(19.95)"
   ]
  },
  {
   "cell_type": "markdown",
   "metadata": {},
   "source": [
    "浮點數是一個帶小數位的數字，對於表示重量或比例之類的東西非常實用。"
   ]
  },
  {
   "cell_type": "markdown",
   "metadata": {},
   "source": [
    "type()是我們見過的第二個內置函數（在print()之後），它是另一個值得記住的實用函數。 能夠問Python:這是什麼東西？，這非常有用。"
   ]
  },
  {
   "cell_type": "code",
   "execution_count": null,
   "metadata": {},
   "outputs": [],
   "source": []
  }
 ],
 "metadata": {
  "kernelspec": {
   "display_name": "Python 3",
   "language": "python",
   "name": "python3"
  },
  "language_info": {
   "codemirror_mode": {
    "name": "ipython",
    "version": 3
   },
   "file_extension": ".py",
   "mimetype": "text/x-python",
   "name": "python",
   "nbconvert_exporter": "python",
   "pygments_lexer": "ipython3",
   "version": "3.7.4"
  }
 },
 "nbformat": 4,
 "nbformat_minor": 2
}
