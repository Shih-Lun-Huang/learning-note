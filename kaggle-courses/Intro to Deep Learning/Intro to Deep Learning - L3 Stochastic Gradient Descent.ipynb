{
  "cells": [
    {
      "cell_type": "markdown",
      "id": "07fa0ad8",
      "metadata": {
        "papermill": {
          "duration": 0.011606,
          "end_time": "2021-11-09T00:10:53.352554",
          "exception": false,
          "start_time": "2021-11-09T00:10:53.340948",
          "status": "completed"
        },
        "tags": [],
        "id": "07fa0ad8"
      },
      "source": [
        "# 介紹\n",
        "\n",
        "在前兩節課中，我們學習了如何從密集層的堆棧中構建全連接網絡。首次創建時，網絡的所有權重都是隨機設置的 —— 網絡還“不知道”任何東西。在本課中，我們將了解如何訓練神經網絡；我們將看到神經網絡如何*學習*。\n",
        "\n",
        "與所有機器學習任務一樣，我們從一組訓練數據開始。訓練數據中的每個範例都由一些特徵（輸入inputs）和預期目標（輸出outputs）組成。訓練網絡意味著調整其權重，使其可以將特徵轉換為目標。例如，在 *80 Cereals* 數據集中，我們想要一個可以獲取每種穀物的`糖`、`纖維`和`蛋白質`含量並對該穀物的`卡路里`進行預測的網絡`。如果我們能夠成功地訓練一個網絡來做到這一點，它的權重必須以某種方式表示這些特徵與訓練數據中表達的目標之間的關係。\n",
        "\n",
        "除了訓練數據，我們還需要兩件事：\n",
        "- 衡量網絡預測有多好的“**損失函數(loss function)**”。\n",
        "- 一個“**優化器(optimizer)**”，可以告訴網絡如何改變其權重。\n",
        "\n",
        "\n",
        "\n",
        "# 損失函數(The Loss Function)\n",
        "\n",
        "我們已經了解如何為網絡設計架構，但我們還沒有看到如何告訴網絡要解決*什麼*問題。這是損失函數的工作。\n",
        "\n",
        "**損失函數衡量目標的真實值與模型預測值之間的差異。**\n",
        "\n",
        "不同的問題需要不同的損失函數。我們一直在研究 **regression** 問題，其中的任務是預測一些數值 —— *80 Cereals* 中的卡路里，*Red Wine Quality* 中的評級。其他迴歸任務可能是預測房子的價格或汽車的燃油效率。\n",
        "\n",
        "迴歸問題的常見損失函數是**平均絕對誤差 a.k.a MAE**。對於每個預測“y_pred”，MAE 通過絕對差“abs(y_true - y_pred)”測量與真實目標“y_true”的差異。\n",
        "\n",
        "數據集上的總 MAE 損失是所有這些絕對差異的平均值。\n",
        "\n",
        "<figure style=\"padding: 1em;\">\n",
        "<img src=\"https://i.imgur.com/VDcvkZN.png\" width=\"500\" alt=\"描繪從數據點到擬合線的誤差線的圖表..\">\n",
        "<figcaption style=\"textalign: center; font-style: italic\"><center>平均絕對誤差是擬合曲線與數據點之間的平均長度。\n",
        "</center></figcaption>\n",
        "</figure>\n",
        "\n",
        "除了 MAE，我們可能會看到迴歸問題的其他損失函數是均方誤差 (MSE) 或 Huber loss（在 Keras 中都可用）。\n",
        "\n",
        "在訓練期間，模型將**使用損失函數作為找到正確權重值的指南**（損失越**低**越好）。換句話說，損失函數告訴網絡它的目標。\n",
        "\n",
        "# 優化器 - 隨機梯度下降 #\n",
        "\n",
        "我們已經描述了我們希望網絡解決的問題，但現在我們需要說*如何*解決它。這是**優化器**的工作。優化器是一種**調整權重以最小化損失的算法**。\n",
        "\n",
        "實際上，深度學習中使用的所有優化算法都屬於一個稱為**隨機梯度下降**的家族。它們是逐步訓練網絡的迭代算法。訓練的一個**步驟**如下：\n",
        "\n",
        "1. 採樣一些訓練數據並透過網絡運行以進行預測。\n",
        "2. 測量預測值和真實值之間的損失。\n",
        "3. 最後，將權重調整為使損失更小的方向。\n",
        "\n",
        "然後一遍又一遍地這樣做，直到損失盡可能小（或者直到它不會進一步減少。）\n",
        "\n",
        "<figure style=\"padding: 1em;\">\n",
        "<img src=\"https://i.imgur.com/rFI1tIk.gif\" width=\"1600\" alt=\"逐批擬合一行。損失減少，權重接近真實值。\">\n",
        "<figcaption style=\"textalign: center; font-style: italic\"><center>使用隨機梯度下降訓練神經網絡。\n",
        "</center></figcaption>\n",
        "</figure>\n",
        "\n",
        "每次迭代的訓練數據樣本稱為**minibatch**（或通常只是“batch”），而完整的一輪訓練數據稱為**epoch**。我們訓練的 epoch 數是網絡將看到每個訓練範例的次數。\n",
        "\n",
        "動畫顯示了第 1 課中的線性模型正在使用 SGD 進行訓練。淡紅點描繪了整個訓練集，而實心紅點是小批量。每次 SGD 看到一個新的小批量時，它都會將權重（`w` 斜率和 `b` y 截距）移向該批次上的正確值。一批接一批，這條線最終會收斂到最合適的位置。我們可以看到，隨著權重越來越接近其真實值，損失變得越來越小。\n",
        "\n",
        "## 學習率和批量大小(Learning Rate and Batch Size)##\n",
        "\n",
        "請注意，該線僅在每個批次的方向上進行微小的移動（而不是一直移動）。這些轉變的大小由**學習率**決定。**較小的學習率**意味著網絡需要在其權重收斂到最佳值之前**看到更多的小批量**。\n",
        "\n",
        "**學習率**和**小批量**的大小是對 SGD 訓練進行方式影響最大的兩個參數。它們的相互作用通常是微妙的，並且這些參數的正確選擇並不總是顯而易見的。 （我們將在練習中探討這些影響。）\n",
        "\n",
        "幸運的是，對於大多數工作來說，不需要進行廣泛的超參數搜索即可獲得令人滿意的結果。 **Adam** 是一種 SGD 算法，它具有**自適應學習率**，使其適用於大多數問題，無需任何參數調整（從某種意義上說，它是“自我調整”）。 Adam 是一個偉大的通用優化器。\n",
        "\n",
        "## 添加損失和優化器##\n",
        "\n",
        "定義模型後，我們可以使用模型的 `compile` 方法添加損失函數和優化器：\n",
        "\n",
        "```\n",
        "model.compile(\n",
        "    optimizer=\"adam\",\n",
        "    loss=\"mae\",\n",
        ")\n",
        "```\n",
        "\n",
        "請注意，我們可以只用一個字符串來指定損失和優化器。你也可以通過 Keras API 直接訪問這些 —— 例如，如果你想調整參數——但對我們來說，默認值可以正常工作。\n",
        "\n",
        "<blockquote style=\"margin-right:auto; margin-left:auto; background-color: #ebf9ff; padding: 1em; margin:24px;\">\n",
        "    <strong>名字裡有什麼？</strong><br>\n",
        "<strong>gradient</strong> 是一個向量，它告訴我們權重需要朝哪個方向移動。更準確地說，它告訴我們<em>如何改變權重以使損失變化最快</em>。我們稱我們的過程梯度為<strong>descent</strong>，因為它使用梯度<em>下降</em>損失曲線向最小值。 <strong>Stochastic</strong> 的意思是“由偶然決定的”。我們的訓練是<em>隨機的</em>，因為小批量是來自數據集的<em>隨機樣本</em>。這就是為什麼它被稱為SGD！\n",
        "</blockquote>"
      ]
    },
    {
      "cell_type": "markdown",
      "id": "80c642f2",
      "metadata": {
        "papermill": {
          "duration": 0.010007,
          "end_time": "2021-11-09T00:10:53.373067",
          "exception": false,
          "start_time": "2021-11-09T00:10:53.363060",
          "status": "completed"
        },
        "tags": [],
        "id": "80c642f2"
      },
      "source": [
        "# 範例 - 紅酒品質 #\n",
        "\n",
        "現在我們知道了開始訓練深度學習模型所需的一切。 所以讓我們看看它的實際效果！ 我們將使用 *Red Wine Quality* 數據集。\n",
        "\n",
        "該數據集包含來自約 1600 種葡萄牙紅酒的物理化學測量值。 還包括盲品測試對每種葡萄酒的質量評級。 從這些測量中，我們能在多大程度上預測葡萄酒的感知質量？\n",
        "\n",
        "我們已將所有數據準備工作放入下一個隱藏單元格中。 這對於接下來的內容並不重要，因此請隨意跳過它。 不過，我們現在可能要注意的一件事是，我們已將每個特徵重新調整為位於 $[0, 1]$ 區間內。 正如我們將在第 5 課中討論的那樣，神經網絡往往在其輸入**處於共同尺度**時表現最佳。"
      ]
    },
    {
      "cell_type": "code",
      "source": [
        "from google.colab import drive\n",
        "drive.mount('/content/drive')"
      ],
      "metadata": {
        "colab": {
          "base_uri": "https://localhost:8080/"
        },
        "id": "Rxuq1p-jxhtF",
        "outputId": "6bfd812e-5210-4d19-cd1c-b5ed8cf6a570"
      },
      "id": "Rxuq1p-jxhtF",
      "execution_count": null,
      "outputs": [
        {
          "output_type": "stream",
          "name": "stdout",
          "text": [
            "Mounted at /content/drive\n"
          ]
        }
      ]
    },
    {
      "cell_type": "code",
      "execution_count": null,
      "id": "852523fa",
      "metadata": {
        "_kg_hide-input": true,
        "execution": {
          "iopub.execute_input": "2021-11-09T00:10:53.398330Z",
          "iopub.status.busy": "2021-11-09T00:10:53.397130Z",
          "iopub.status.idle": "2021-11-09T00:10:53.473598Z",
          "shell.execute_reply": "2021-11-09T00:10:53.472868Z"
        },
        "lines_to_next_cell": 0,
        "papermill": {
          "duration": 0.090462,
          "end_time": "2021-11-09T00:10:53.473781",
          "exception": false,
          "start_time": "2021-11-09T00:10:53.383319",
          "status": "completed"
        },
        "tags": [],
        "colab": {
          "base_uri": "https://localhost:8080/",
          "height": 274
        },
        "id": "852523fa",
        "outputId": "fd494a33-729a-44d3-d4ae-a88824d45644"
      },
      "outputs": [
        {
          "output_type": "display_data",
          "data": {
            "text/html": [
              "\n",
              "  <div id=\"df-caee8525-4c41-4ee1-8319-7f741f620b06\">\n",
              "    <div class=\"colab-df-container\">\n",
              "      <div>\n",
              "<style scoped>\n",
              "    .dataframe tbody tr th:only-of-type {\n",
              "        vertical-align: middle;\n",
              "    }\n",
              "\n",
              "    .dataframe tbody tr th {\n",
              "        vertical-align: top;\n",
              "    }\n",
              "\n",
              "    .dataframe thead th {\n",
              "        text-align: right;\n",
              "    }\n",
              "</style>\n",
              "<table border=\"1\" class=\"dataframe\">\n",
              "  <thead>\n",
              "    <tr style=\"text-align: right;\">\n",
              "      <th></th>\n",
              "      <th>fixed acidity</th>\n",
              "      <th>volatile acidity</th>\n",
              "      <th>citric acid</th>\n",
              "      <th>residual sugar</th>\n",
              "      <th>chlorides</th>\n",
              "      <th>free sulfur dioxide</th>\n",
              "      <th>total sulfur dioxide</th>\n",
              "      <th>density</th>\n",
              "      <th>pH</th>\n",
              "      <th>sulphates</th>\n",
              "      <th>alcohol</th>\n",
              "      <th>quality</th>\n",
              "    </tr>\n",
              "  </thead>\n",
              "  <tbody>\n",
              "    <tr>\n",
              "      <th>1109</th>\n",
              "      <td>10.8</td>\n",
              "      <td>0.470</td>\n",
              "      <td>0.43</td>\n",
              "      <td>2.10</td>\n",
              "      <td>0.171</td>\n",
              "      <td>27.0</td>\n",
              "      <td>66.0</td>\n",
              "      <td>0.99820</td>\n",
              "      <td>3.17</td>\n",
              "      <td>0.76</td>\n",
              "      <td>10.8</td>\n",
              "      <td>6</td>\n",
              "    </tr>\n",
              "    <tr>\n",
              "      <th>1032</th>\n",
              "      <td>8.1</td>\n",
              "      <td>0.820</td>\n",
              "      <td>0.00</td>\n",
              "      <td>4.10</td>\n",
              "      <td>0.095</td>\n",
              "      <td>5.0</td>\n",
              "      <td>14.0</td>\n",
              "      <td>0.99854</td>\n",
              "      <td>3.36</td>\n",
              "      <td>0.53</td>\n",
              "      <td>9.6</td>\n",
              "      <td>5</td>\n",
              "    </tr>\n",
              "    <tr>\n",
              "      <th>1002</th>\n",
              "      <td>9.1</td>\n",
              "      <td>0.290</td>\n",
              "      <td>0.33</td>\n",
              "      <td>2.05</td>\n",
              "      <td>0.063</td>\n",
              "      <td>13.0</td>\n",
              "      <td>27.0</td>\n",
              "      <td>0.99516</td>\n",
              "      <td>3.26</td>\n",
              "      <td>0.84</td>\n",
              "      <td>11.7</td>\n",
              "      <td>7</td>\n",
              "    </tr>\n",
              "    <tr>\n",
              "      <th>487</th>\n",
              "      <td>10.2</td>\n",
              "      <td>0.645</td>\n",
              "      <td>0.36</td>\n",
              "      <td>1.80</td>\n",
              "      <td>0.053</td>\n",
              "      <td>5.0</td>\n",
              "      <td>14.0</td>\n",
              "      <td>0.99820</td>\n",
              "      <td>3.17</td>\n",
              "      <td>0.42</td>\n",
              "      <td>10.0</td>\n",
              "      <td>6</td>\n",
              "    </tr>\n",
              "  </tbody>\n",
              "</table>\n",
              "</div>\n",
              "      <button class=\"colab-df-convert\" onclick=\"convertToInteractive('df-caee8525-4c41-4ee1-8319-7f741f620b06')\"\n",
              "              title=\"Convert this dataframe to an interactive table.\"\n",
              "              style=\"display:none;\">\n",
              "        \n",
              "  <svg xmlns=\"http://www.w3.org/2000/svg\" height=\"24px\"viewBox=\"0 0 24 24\"\n",
              "       width=\"24px\">\n",
              "    <path d=\"M0 0h24v24H0V0z\" fill=\"none\"/>\n",
              "    <path d=\"M18.56 5.44l.94 2.06.94-2.06 2.06-.94-2.06-.94-.94-2.06-.94 2.06-2.06.94zm-11 1L8.5 8.5l.94-2.06 2.06-.94-2.06-.94L8.5 2.5l-.94 2.06-2.06.94zm10 10l.94 2.06.94-2.06 2.06-.94-2.06-.94-.94-2.06-.94 2.06-2.06.94z\"/><path d=\"M17.41 7.96l-1.37-1.37c-.4-.4-.92-.59-1.43-.59-.52 0-1.04.2-1.43.59L10.3 9.45l-7.72 7.72c-.78.78-.78 2.05 0 2.83L4 21.41c.39.39.9.59 1.41.59.51 0 1.02-.2 1.41-.59l7.78-7.78 2.81-2.81c.8-.78.8-2.07 0-2.86zM5.41 20L4 18.59l7.72-7.72 1.47 1.35L5.41 20z\"/>\n",
              "  </svg>\n",
              "      </button>\n",
              "      \n",
              "  <style>\n",
              "    .colab-df-container {\n",
              "      display:flex;\n",
              "      flex-wrap:wrap;\n",
              "      gap: 12px;\n",
              "    }\n",
              "\n",
              "    .colab-df-convert {\n",
              "      background-color: #E8F0FE;\n",
              "      border: none;\n",
              "      border-radius: 50%;\n",
              "      cursor: pointer;\n",
              "      display: none;\n",
              "      fill: #1967D2;\n",
              "      height: 32px;\n",
              "      padding: 0 0 0 0;\n",
              "      width: 32px;\n",
              "    }\n",
              "\n",
              "    .colab-df-convert:hover {\n",
              "      background-color: #E2EBFA;\n",
              "      box-shadow: 0px 1px 2px rgba(60, 64, 67, 0.3), 0px 1px 3px 1px rgba(60, 64, 67, 0.15);\n",
              "      fill: #174EA6;\n",
              "    }\n",
              "\n",
              "    [theme=dark] .colab-df-convert {\n",
              "      background-color: #3B4455;\n",
              "      fill: #D2E3FC;\n",
              "    }\n",
              "\n",
              "    [theme=dark] .colab-df-convert:hover {\n",
              "      background-color: #434B5C;\n",
              "      box-shadow: 0px 1px 3px 1px rgba(0, 0, 0, 0.15);\n",
              "      filter: drop-shadow(0px 1px 2px rgba(0, 0, 0, 0.3));\n",
              "      fill: #FFFFFF;\n",
              "    }\n",
              "  </style>\n",
              "\n",
              "      <script>\n",
              "        const buttonEl =\n",
              "          document.querySelector('#df-caee8525-4c41-4ee1-8319-7f741f620b06 button.colab-df-convert');\n",
              "        buttonEl.style.display =\n",
              "          google.colab.kernel.accessAllowed ? 'block' : 'none';\n",
              "\n",
              "        async function convertToInteractive(key) {\n",
              "          const element = document.querySelector('#df-caee8525-4c41-4ee1-8319-7f741f620b06');\n",
              "          const dataTable =\n",
              "            await google.colab.kernel.invokeFunction('convertToInteractive',\n",
              "                                                     [key], {});\n",
              "          if (!dataTable) return;\n",
              "\n",
              "          const docLinkHtml = 'Like what you see? Visit the ' +\n",
              "            '<a target=\"_blank\" href=https://colab.research.google.com/notebooks/data_table.ipynb>data table notebook</a>'\n",
              "            + ' to learn more about interactive tables.';\n",
              "          element.innerHTML = '';\n",
              "          dataTable['output_type'] = 'display_data';\n",
              "          await google.colab.output.renderOutput(dataTable, element);\n",
              "          const docLink = document.createElement('div');\n",
              "          docLink.innerHTML = docLinkHtml;\n",
              "          element.appendChild(docLink);\n",
              "        }\n",
              "      </script>\n",
              "    </div>\n",
              "  </div>\n",
              "  "
            ],
            "text/plain": [
              "      fixed acidity  volatile acidity  citric acid  ...  sulphates  alcohol  quality\n",
              "1109           10.8             0.470         0.43  ...       0.76     10.8        6\n",
              "1032            8.1             0.820         0.00  ...       0.53      9.6        5\n",
              "1002            9.1             0.290         0.33  ...       0.84     11.7        7\n",
              "487            10.2             0.645         0.36  ...       0.42     10.0        6\n",
              "\n",
              "[4 rows x 12 columns]"
            ]
          },
          "metadata": {}
        }
      ],
      "source": [
        "\n",
        "import pandas as pd\n",
        "from IPython.display import display\n",
        "\n",
        "red_wine = pd.read_csv('/content/drive/MyDrive/red-wine.csv')\n",
        "\n",
        "# 切分訓練集與測試集\n",
        "df_train = red_wine.sample(frac=0.7, random_state=0)\n",
        "df_valid = red_wine.drop(df_train.index)\n",
        "display(df_train.head(4))\n",
        "\n",
        "# 縮放至[0,1]\n",
        "max_ = df_train.max(axis=0)\n",
        "min_ = df_train.min(axis=0)\n",
        "df_train = (df_train - min_) / (max_ - min_)\n",
        "df_valid = (df_valid - min_) / (max_ - min_)\n",
        "\n",
        "# 拆分特徵與目標\n",
        "X_train = df_train.drop('quality', axis=1)\n",
        "X_valid = df_valid.drop('quality', axis=1)\n",
        "y_train = df_train['quality']\n",
        "y_valid = df_valid['quality']"
      ]
    },
    {
      "cell_type": "markdown",
      "id": "462ddd44",
      "metadata": {
        "papermill": {
          "duration": 0.010562,
          "end_time": "2021-11-09T00:10:53.498288",
          "exception": false,
          "start_time": "2021-11-09T00:10:53.487726",
          "status": "completed"
        },
        "tags": [],
        "id": "462ddd44"
      },
      "source": [
        "這個網絡應該有多少輸入？ 我們可以通過查看數據矩陣中的列數來發現這一點。 確保不要在此處包含目標（`質量`）——僅包含輸入特徵。"
      ]
    },
    {
      "cell_type": "code",
      "execution_count": null,
      "id": "3cf0e646",
      "metadata": {
        "execution": {
          "iopub.execute_input": "2021-11-09T00:10:53.525700Z",
          "iopub.status.busy": "2021-11-09T00:10:53.524957Z",
          "iopub.status.idle": "2021-11-09T00:10:53.528092Z",
          "shell.execute_reply": "2021-11-09T00:10:53.528628Z"
        },
        "lines_to_next_cell": 2,
        "papermill": {
          "duration": 0.019617,
          "end_time": "2021-11-09T00:10:53.528801",
          "exception": false,
          "start_time": "2021-11-09T00:10:53.509184",
          "status": "completed"
        },
        "tags": [],
        "colab": {
          "base_uri": "https://localhost:8080/"
        },
        "id": "3cf0e646",
        "outputId": "c0f0582d-ae1b-431e-ae00-1fa19e059a6b"
      },
      "outputs": [
        {
          "output_type": "stream",
          "name": "stdout",
          "text": [
            "(1119, 11)\n"
          ]
        }
      ],
      "source": [
        "print(X_train.shape)"
      ]
    },
    {
      "cell_type": "markdown",
      "id": "687c3f89",
      "metadata": {
        "papermill": {
          "duration": 0.011059,
          "end_time": "2021-11-09T00:10:53.551401",
          "exception": false,
          "start_time": "2021-11-09T00:10:53.540342",
          "status": "completed"
        },
        "tags": [],
        "id": "687c3f89"
      },
      "source": [
        "十一列，表示十一個輸入。\n",
        "\n",
        "我們選擇了一個包含 1500 多個神經元的三層網絡。 該網絡應該能夠學習數據中相當複雜的關係。"
      ]
    },
    {
      "cell_type": "code",
      "execution_count": null,
      "id": "c4970e7c",
      "metadata": {
        "execution": {
          "iopub.execute_input": "2021-11-09T00:10:53.578778Z",
          "iopub.status.busy": "2021-11-09T00:10:53.577803Z",
          "iopub.status.idle": "2021-11-09T00:11:00.095974Z",
          "shell.execute_reply": "2021-11-09T00:11:00.095438Z"
        },
        "papermill": {
          "duration": 6.532602,
          "end_time": "2021-11-09T00:11:00.096140",
          "exception": false,
          "start_time": "2021-11-09T00:10:53.563538",
          "status": "completed"
        },
        "tags": [],
        "id": "c4970e7c"
      },
      "outputs": [],
      "source": [
        "from tensorflow import keras\n",
        "from tensorflow.keras import layers\n",
        "\n",
        "model = keras.Sequential([\n",
        "    layers.Dense(512, activation='relu', input_shape=[11]),\n",
        "    layers.Dense(512, activation='relu'),\n",
        "    layers.Dense(512, activation='relu'),\n",
        "    layers.Dense(1),\n",
        "])"
      ]
    },
    {
      "cell_type": "markdown",
      "id": "4564a599",
      "metadata": {
        "papermill": {
          "duration": 0.01189,
          "end_time": "2021-11-09T00:11:00.120231",
          "exception": false,
          "start_time": "2021-11-09T00:11:00.108341",
          "status": "completed"
        },
        "tags": [],
        "id": "4564a599"
      },
      "source": [
        "確定模型的架構應該是過程的一部分。 從簡單開始，使用驗證損失作為指導。 我們將在練習中了解有關模型開發的更多信息。\n",
        "\n",
        "定義模型後，我們編譯優化器和損失函數。"
      ]
    },
    {
      "cell_type": "code",
      "execution_count": null,
      "id": "73bd7044",
      "metadata": {
        "execution": {
          "iopub.execute_input": "2021-11-09T00:11:00.148099Z",
          "iopub.status.busy": "2021-11-09T00:11:00.147477Z",
          "iopub.status.idle": "2021-11-09T00:11:00.159638Z",
          "shell.execute_reply": "2021-11-09T00:11:00.160185Z"
        },
        "papermill": {
          "duration": 0.027871,
          "end_time": "2021-11-09T00:11:00.160388",
          "exception": false,
          "start_time": "2021-11-09T00:11:00.132517",
          "status": "completed"
        },
        "tags": [],
        "id": "73bd7044"
      },
      "outputs": [],
      "source": [
        "model.compile(\n",
        "    optimizer='adam',\n",
        "    loss='mae',\n",
        ")"
      ]
    },
    {
      "cell_type": "markdown",
      "id": "213d0219",
      "metadata": {
        "papermill": {
          "duration": 0.012166,
          "end_time": "2021-11-09T00:11:00.184889",
          "exception": false,
          "start_time": "2021-11-09T00:11:00.172723",
          "status": "completed"
        },
        "tags": [],
        "id": "213d0219"
      },
      "source": [
        "現在我們準備開始訓練了！ 我們已經告訴 Keras 一次向優化器提供 256 行訓練數據（`batch_size`），並在整個數據集（`epochs`）中一直這樣做 10 次。"
      ]
    },
    {
      "cell_type": "code",
      "execution_count": null,
      "id": "6bf3f74a",
      "metadata": {
        "execution": {
          "iopub.execute_input": "2021-11-09T00:11:00.213048Z",
          "iopub.status.busy": "2021-11-09T00:11:00.212404Z",
          "iopub.status.idle": "2021-11-09T00:11:02.208003Z",
          "shell.execute_reply": "2021-11-09T00:11:02.207414Z"
        },
        "papermill": {
          "duration": 2.010845,
          "end_time": "2021-11-09T00:11:02.208158",
          "exception": false,
          "start_time": "2021-11-09T00:11:00.197313",
          "status": "completed"
        },
        "tags": [],
        "colab": {
          "base_uri": "https://localhost:8080/"
        },
        "id": "6bf3f74a",
        "outputId": "6d9825b0-5a98-4a2f-d913-54f5d5750b83"
      },
      "outputs": [
        {
          "output_type": "stream",
          "name": "stdout",
          "text": [
            "Epoch 1/10\n",
            "5/5 [==============================] - 1s 73ms/step - loss: 0.3029 - val_loss: 0.1350\n",
            "Epoch 2/10\n",
            "5/5 [==============================] - 0s 29ms/step - loss: 0.1497 - val_loss: 0.1364\n",
            "Epoch 3/10\n",
            "5/5 [==============================] - 0s 32ms/step - loss: 0.1285 - val_loss: 0.1287\n",
            "Epoch 4/10\n",
            "5/5 [==============================] - 0s 31ms/step - loss: 0.1197 - val_loss: 0.1245\n",
            "Epoch 5/10\n",
            "5/5 [==============================] - 0s 30ms/step - loss: 0.1119 - val_loss: 0.1092\n",
            "Epoch 6/10\n",
            "5/5 [==============================] - 0s 33ms/step - loss: 0.1108 - val_loss: 0.1168\n",
            "Epoch 7/10\n",
            "5/5 [==============================] - 0s 30ms/step - loss: 0.1123 - val_loss: 0.1039\n",
            "Epoch 8/10\n",
            "5/5 [==============================] - 0s 36ms/step - loss: 0.1071 - val_loss: 0.1078\n",
            "Epoch 9/10\n",
            "5/5 [==============================] - 0s 34ms/step - loss: 0.1064 - val_loss: 0.1017\n",
            "Epoch 10/10\n",
            "5/5 [==============================] - 0s 32ms/step - loss: 0.1028 - val_loss: 0.1053\n"
          ]
        }
      ],
      "source": [
        "history = model.fit(\n",
        "    X_train, y_train,\n",
        "    validation_data=(X_valid, y_valid),\n",
        "    batch_size=256,\n",
        "    epochs=10,\n",
        ")"
      ]
    },
    {
      "cell_type": "markdown",
      "id": "559428a8",
      "metadata": {
        "papermill": {
          "duration": 0.02065,
          "end_time": "2021-11-09T00:11:02.250371",
          "exception": false,
          "start_time": "2021-11-09T00:11:02.229721",
          "status": "completed"
        },
        "tags": [],
        "id": "559428a8"
      },
      "source": [
        "我們可以看到 Keras 會在模型訓練時讓我們了解loss的最新信息。\n",
        "\n",
        "通常，查看損失的更好方法是繪製它。 `fit` 方法實際上在`History` 對像中記錄了訓練期間產生的loss。 我們將數據轉換為 Pandas 數據框，這使得繪圖變得容易。"
      ]
    },
    {
      "cell_type": "code",
      "execution_count": null,
      "id": "61c076d0",
      "metadata": {
        "execution": {
          "iopub.execute_input": "2021-11-09T00:11:02.295175Z",
          "iopub.status.busy": "2021-11-09T00:11:02.294511Z",
          "iopub.status.idle": "2021-11-09T00:11:02.715623Z",
          "shell.execute_reply": "2021-11-09T00:11:02.716240Z"
        },
        "lines_to_next_cell": 2,
        "papermill": {
          "duration": 0.445336,
          "end_time": "2021-11-09T00:11:02.716436",
          "exception": false,
          "start_time": "2021-11-09T00:11:02.271100",
          "status": "completed"
        },
        "tags": [],
        "colab": {
          "base_uri": "https://localhost:8080/",
          "height": 265
        },
        "id": "61c076d0",
        "outputId": "0bb521ac-37dd-4e19-8b94-4bd0ba92e42f"
      },
      "outputs": [
        {
          "output_type": "display_data",
          "data": {
            "image/png": "[encoded data removed]",
            "text/plain": [
              "<Figure size 432x288 with 1 Axes>"
            ]
          },
          "metadata": {
            "needs_background": "light"
          }
        }
      ],
      "source": [
        "import pandas as pd\n",
        "\n",
        "# 將訓練的history轉換成dataframe\n",
        "history_df = pd.DataFrame(history.history)\n",
        "# 畫出來\n",
        "history_df['loss'].plot();"
      ]
    },
    {
      "cell_type": "markdown",
      "id": "68199bfe",
      "metadata": {
        "papermill": {
          "duration": 0.022027,
          "end_time": "2021-11-09T00:11:02.760729",
          "exception": false,
          "start_time": "2021-11-09T00:11:02.738702",
          "status": "completed"
        },
        "tags": [],
        "id": "68199bfe"
      },
      "source": [
        "請注意隨著迭代次數，損失如何趨於平穩。 當損失曲線變成這樣水平時，這意味著模型已經學會了它所能學到的一切，沒有理由繼續額外的 epoch。"
      ]
    },
    {
      "cell_type": "markdown",
      "id": "11049c29",
      "metadata": {
        "papermill": {
          "duration": 0.021147,
          "end_time": "2021-11-09T00:11:02.848038",
          "exception": false,
          "start_time": "2021-11-09T00:11:02.826891",
          "status": "completed"
        },
        "tags": [],
        "id": "11049c29"
      },
      "source": [
        "# EXERCISE\n",
        "\n",
        "現在，[**使用隨機梯度下降**](https://www.kaggle.com/kernels/fork/11887330) 來訓練你的網絡。"
      ]
    },
    {
      "cell_type": "code",
      "source": [
        ""
      ],
      "metadata": {
        "id": "TdmhBLKJzLzE"
      },
      "id": "TdmhBLKJzLzE",
      "execution_count": null,
      "outputs": []
    }
  ],
  "metadata": {
    "jupytext": {
      "cell_metadata_filter": "-all",
      "formats": "ipynb"
    },
    "kernelspec": {
      "display_name": "Python 3",
      "language": "python",
      "name": "python3"
    },
    "language_info": {
      "codemirror_mode": {
        "name": "ipython",
        "version": 3
      },
      "file_extension": ".py",
      "mimetype": "text/x-python",
      "name": "python",
      "nbconvert_exporter": "python",
      "pygments_lexer": "ipython3",
      "version": "3.7.10"
    },
    "papermill": {
      "default_parameters": {},
      "duration": 22.65526,
      "end_time": "2021-11-09T00:11:06.434645",
      "environment_variables": {},
      "exception": null,
      "input_path": "__notebook__.ipynb",
      "output_path": "__notebook__.ipynb",
      "parameters": {},
      "start_time": "2021-11-09T00:10:43.779385",
      "version": "2.3.3"
    },
    "colab": {
      "name": "Intro to Deep Learning - L3 - stochastic-gradient-descent.ipynb",
      "provenance": [],
      "collapsed_sections": []
    }
  },
  "nbformat": 4,
  "nbformat_minor": 5
}