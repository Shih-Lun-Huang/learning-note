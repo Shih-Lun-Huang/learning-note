{
  "cells": [
    {
      "cell_type": "markdown",
      "id": "4bbcf431",
      "metadata": {
        "id": "4bbcf431"
      },
      "source": [
        "# 歡迎來到深度學習！ #\n",
        "\n",
        "歡迎來到 Kaggle 的 *深度學習簡介* 課程！我們將學習構建我們自己的深度神經網絡所需的一切。使用 Keras 和 Tensorflow，我們將學習如何：\n",
        "- 創建一個**全連接(fully-connected)**神經網絡架構\n",
        "- 將神經網絡應用於兩個經典的機器學習問題：**迴歸(regression)**和**分類(classification)**\n",
        "- 使用**隨機梯度下降(stochastic gradient descent)**訓練神經網絡\n",
        "- 使用**dropout**、**batch normalization**和其他技術提高性能\n",
        "\n",
        "這些教程將通過完整的範例向我們介紹這些主題，然後在練習中，我們將更深入地探索這些主題並將它們應用於現實世界的數據集。\n",
        "\n",
        "讓我們開始吧！"
      ]
    },
    {
      "cell_type": "markdown",
      "id": "e4c14896",
      "metadata": {
        "id": "e4c14896"
      },
      "source": [
        "# 什麼是深度學習？ #\n",
        "\n",
        "近年來，人工智慧領域最令人印象深刻的一些進步發生在*深度學習*領域。自然語言翻譯、圖像辨識和遊戲玩法都是深度學習模型已經接近甚至超過人類水平的表現。\n",
        "\n",
        "那麼什麼是深度學習？ **深度學習**是一種機器學習方法，其特點是深度計算堆棧(stack)。這種計算深度使深度學習模型能夠解開在最具挑戰性的現實世界數據集中發現的各種複雜和分層模式。\n",
        "\n",
        "通過其強大的功能和可擴展性(scalability)，**神經網絡**已成為深度學習的定義模型。神經網絡由神經元(neurons)組成，其中每個神經元單獨執行一個簡單的計算。相反，神經網絡的力量來自這些神經元可以形成的連接的複雜性。"
      ]
    },
    {
      "cell_type": "markdown",
      "id": "2324ddb6",
      "metadata": {
        "id": "2324ddb6"
      },
      "source": [
        "# 線性單元(Linear Unit) #\n",
        "\n",
        "因此，讓我們從神經網絡的基本組成部分開始：單個神經元。如圖所示，帶有一個輸入的 **neuron**（或 **unit**）如下所示：\n",
        "\n",
        "<figure style=\"padding: 1em;\">\n",
        "<img src=\"https://i.imgur.com/mfOlDR6.png\" width=\"250\" alt=\"線性單位圖。\">\n",
        "<figcaption style=\"textalign: center; font-style: italic\"><center>線性單位：$y = w x + b$\n",
        "</center></figcaption>\n",
        "</figure>\n",
        "\n",
        "輸入是`x`。它與神經元的連接有一個**權重**，即`w`。每當一個值流過一個連接時，我們將該值乘以該連接的權重。對於輸入`x`，到達神經元的是`w * x`。**神經網絡透過修改其權重來“學習”**。\n",
        "\n",
        "`b` 是一種特殊的權重，我們稱之為 **bias**。偏差**沒有任何與之關聯的輸入數據**；相反，我們在圖中放置了一個“1”，這樣到達神經元的值就是“b”（因為“1 * b = b”）。偏差使神經元能夠**獨立於其輸入來修改輸出**。\n",
        "\n",
        "`y` 是神經元最終輸出的值。為了獲得輸出，神經元將通過其連接接收到的所有值相加。這個神經元的激活是`y = w * x + b`，或者公式$y = w x + b$。\n",
        "\n",
        "<blockquote style=\"margin-right:auto; margin-left:auto; background-color: #000000; padding: 1em; margin:24px;\">\n",
        "    <strong>$y=w x + b$ 這個公式是不是很眼熟？</strong><br>\n",
        "這是一個直線方程！這是斜率截距方程，其中 $w$ 是斜率，$b$ 是 y 截距。\n",
        "</blockquote>"
      ]
    },
    {
      "cell_type": "markdown",
      "id": "03a6b3be",
      "metadata": {
        "papermill": {
          "duration": 0.005478,
          "end_time": "2021-11-09T00:11:10.539222",
          "exception": false,
          "start_time": "2021-11-09T00:11:10.533744",
          "status": "completed"
        },
        "tags": [],
        "id": "03a6b3be"
      },
      "source": [
        "# 範例 - 作為模型的線性單元 #\n",
        "\n",
        "儘管單個神經元通常僅作為更大網絡的一部分發揮作用，但從單個神經元模型作為基線開始通常很有用。單神經元模型是*線性*模型。\n",
        "\n",
        "讓我們想想這如何在像 [80 Cereals](https://www.kaggle.com/crawford/80-cereals) 這樣的數據集上工作。以`糖`（每份糖的克數）作為輸入和`卡路里`（每份的卡路里）作為輸出來訓練模型，我們可能會發現偏差為`b=90`，權重為`w=2.5`。我們可以這樣估算每份含 5 克糖的穀物的卡路里含量：\n",
        "\n",
        "<figure style=\"padding: 1em;\">\n",
        "<img src=\"https://i.imgur.com/yjsfFvY.png\" width=\"1000\" alt=\"使用線性單位計算。\">\n",
        "<figcaption style=\"textalign: center; font-style: italic\"><center>以線性單位計算。\n",
        "</center></figcaption>\n",
        "</figure>\n",
        "\n",
        "而且，檢查我們的公式，我們有 $calories = 2.5 \\times 5 + 90 = 102.5$，就像我們預期的那樣。"
      ]
    },
    {
      "cell_type": "markdown",
      "id": "711812bb",
      "metadata": {
        "id": "711812bb"
      },
      "source": [
        "# 多個輸入 #\n",
        "\n",
        "*80 Cereals* 數據集具有更多的功能，而不僅僅是“糖”。如果我們想擴展我們的模型以包括纖維或蛋白質含量之類的東西怎麼辦？這很容易。我們可以為神經元添加更多輸入連接，每個附加特徵一個。為了找到輸出，我們將每個輸入乘以它的連接權重，然後將它們加在一起。\n",
        "\n",
        "<figure style=\"padding: 1em;\">\n",
        "<img src=\"https://i.imgur.com/vyXSnlZ.png\" width=\"300\" alt=\"三個輸入連接：x0、x1 和 x2，以及偏置。\">\n",
        "<figcaption style=\"textalign: center; font-style: italic\"><center>具有三個輸入的線性單元。\n",
        "</center></figcaption>\n",
        "</figure>\n",
        "\n",
        "這個神經元的公式是 $y = w_0 x_0 + w_1 x_1 + w_2 x_2 + b$。具有兩個輸入的線性單元將適合一個平面(plane)，而一個具有更多輸入的單元將適合一個超平面(hyperplane)。"
      ]
    },
    {
      "cell_type": "markdown",
      "id": "b423d317",
      "metadata": {
        "papermill": {
          "duration": 0.00408,
          "end_time": "2021-11-09T00:11:10.548384",
          "exception": false,
          "start_time": "2021-11-09T00:11:10.544304",
          "status": "completed"
        },
        "tags": [],
        "id": "b423d317"
      },
      "source": [
        "# Keras 中的線性單元#\n",
        "\n",
        "在 Keras 中創建模型的最簡單方法是通過 `keras.Sequential`，它將神經網絡創建為*層*堆棧。我們可以使用 *dense* 層創建像上面那樣的模型（我們將在下一課中了解更多信息）。\n",
        "\n",
        "我們可以定義一個接受三個輸入特徵（`糖`、`纖維`和`蛋白質`）並產生單個輸出（`卡路里`）的線性模型，如下："
      ]
    },
    {
      "cell_type": "code",
      "source": [
        "%tensorflow_version 1.x"
      ],
      "metadata": {
        "colab": {
          "base_uri": "https://localhost:8080/"
        },
        "id": "6AvFOP52OSau",
        "outputId": "6457ad8e-6c3b-47eb-86e5-4afa61eaae8c"
      },
      "id": "6AvFOP52OSau",
      "execution_count": null,
      "outputs": [
        {
          "output_type": "stream",
          "name": "stdout",
          "text": [
            "TensorFlow 1.x selected.\n"
          ]
        }
      ]
    },
    {
      "cell_type": "code",
      "execution_count": null,
      "id": "c2933464",
      "metadata": {
        "execution": {
          "iopub.execute_input": "2021-11-09T00:11:10.561157Z",
          "iopub.status.busy": "2021-11-09T00:11:10.559944Z",
          "iopub.status.idle": "2021-11-09T00:11:17.205650Z",
          "shell.execute_reply": "2021-11-09T00:11:17.206189Z"
        },
        "papermill": {
          "duration": 6.653779,
          "end_time": "2021-11-09T00:11:17.206468",
          "exception": false,
          "start_time": "2021-11-09T00:11:10.552689",
          "status": "completed"
        },
        "tags": [],
        "colab": {
          "base_uri": "https://localhost:8080/"
        },
        "id": "c2933464",
        "outputId": "510b01d3-8263-40b6-8ce7-4c6e757ba0b8"
      },
      "outputs": [
        {
          "output_type": "stream",
          "name": "stdout",
          "text": [
            "WARNING:tensorflow:From /tensorflow-1.15.2/python3.7/tensorflow_core/python/ops/resource_variable_ops.py:1630: calling BaseResourceVariable.__init__ (from tensorflow.python.ops.resource_variable_ops) with constraint is deprecated and will be removed in a future version.\n",
            "Instructions for updating:\n",
            "If using Keras pass *_constraint arguments to layers.\n"
          ]
        }
      ],
      "source": [
        "from tensorflow import keras\n",
        "from tensorflow.keras import layers\n",
        "\n",
        "# Create a network with 1 linear unit\n",
        "model = keras.Sequential([\n",
        "    layers.Dense(units=1, input_shape=[3])\n",
        "])"
      ]
    },
    {
      "cell_type": "markdown",
      "id": "8ae406c3",
      "metadata": {
        "papermill": {
          "duration": 0.004457,
          "end_time": "2021-11-09T00:11:17.216430",
          "exception": false,
          "start_time": "2021-11-09T00:11:17.211973",
          "status": "completed"
        },
        "tags": [],
        "id": "8ae406c3"
      },
      "source": [
        "使用第一個參數`units`，我們定義了我們想要的輸出數量。在這種情況下，我們只是預測`卡路里`，所以我們將使用`單位=1`。\n",
        "\n",
        "使用第二個參數 `input_shape`，我們告訴 Keras 輸入的維度。設置 `input_shape=[3]` 確保模型將接受三個特徵作為輸入（`'sugars'`、`'fiber'` 和 `'protein'`）。\n",
        "\n",
        "這個模型現在可以適應訓練數據了！\n",
        "\n",
        "<blockquote style=\"margin-right:auto; margin-left:auto; background-color: #000000; padding: 1em; margin:24px;\">\n",
        "    <strong>為什麼 <code>input_shape</code> 是 Python 列表？</strong><br>\n",
        "我們將在本課程中使用的數據將是表格數據，就像在 Pandas 數據框中一樣。我們將為數據集中的每個特徵提供一個輸入。特徵按列排列，所以我們總是有 <code>input_shape=[num_columns]</code>。\n",
        "\n",
        "Keras 在這裡使用列表的原因是允許使用更複雜的數據集。例如，圖像數據可能需要三個維度：<code>[height, width, channels]</code>。\n",
        "</blockquote>"
      ]
    },
    {
      "cell_type": "markdown",
      "source": [
        "# EXERSIZE \n",
        "[**定義一個線性模型**](https://www.kaggle.com/kernels/fork/11887334)，用於*紅酒質量*數據集。"
      ],
      "metadata": {
        "id": "7R39xOTPPf7-"
      },
      "id": "7R39xOTPPf7-"
    },
    {
      "cell_type": "code",
      "source": [
        ""
      ],
      "metadata": {
        "id": "sXN73IZoPdGn"
      },
      "id": "sXN73IZoPdGn",
      "execution_count": null,
      "outputs": []
    }
  ],
  "metadata": {
    "jupytext": {
      "formats": "ipynb"
    },
    "kernelspec": {
      "display_name": "Python 3 (ipykernel)",
      "language": "python",
      "name": "python3"
    },
    "language_info": {
      "codemirror_mode": {
        "name": "ipython",
        "version": 3
      },
      "file_extension": ".py",
      "mimetype": "text/x-python",
      "name": "python",
      "nbconvert_exporter": "python",
      "pygments_lexer": "ipython3",
      "version": "3.7.4"
    },
    "papermill": {
      "default_parameters": {},
      "duration": 19.747925,
      "end_time": "2021-11-09T00:11:20.613399",
      "environment_variables": {},
      "exception": null,
      "input_path": "__notebook__.ipynb",
      "output_path": "__notebook__.ipynb",
      "parameters": {},
      "start_time": "2021-11-09T00:11:00.865474",
      "version": "2.3.3"
    },
    "colab": {
      "name": "Intro to Deep Learning - L1 - a-single-neuron.ipynb",
      "provenance": [],
      "collapsed_sections": []
    }
  },
  "nbformat": 4,
  "nbformat_minor": 5
}